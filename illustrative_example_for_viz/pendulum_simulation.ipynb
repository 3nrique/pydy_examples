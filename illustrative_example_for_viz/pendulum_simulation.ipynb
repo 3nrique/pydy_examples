{
 "metadata": {
  "name": "pendulum_simulation"
 },
 "nbformat": 3,
 "nbformat_minor": 0,
 "worksheets": [
  {
   "cells": [
    {
     "cell_type": "code",
     "collapsed": false,
     "input": [
      "from IPython.core.display import *"
     ],
     "language": "python",
     "metadata": {},
     "outputs": [],
     "prompt_number": 1
    },
    {
     "cell_type": "code",
     "collapsed": false,
     "input": [
      "display(HTML(\"\"\"<script src=\"files/output.json\"></script>\n",
      "                 \n",
      "                 \"\"\"))\n"
     ],
     "language": "python",
     "metadata": {},
     "outputs": [
      {
       "html": [
        "<script src=\"files/output.json\"></script>\n",
        "                 \n",
        "                 "
       ],
       "output_type": "display_data",
       "text": [
        "<IPython.core.display.HTML at 0x96a344c>"
       ]
      }
     ],
     "prompt_number": 2
    },
    {
     "cell_type": "code",
     "collapsed": false,
     "input": [],
     "language": "python",
     "metadata": {},
     "outputs": []
    }
   ],
   "metadata": {}
  }
 ]
}