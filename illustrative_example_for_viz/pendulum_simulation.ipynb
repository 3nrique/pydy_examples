{
 "metadata": {
  "name": "pendulum_simulation"
 },
 "nbformat": 3,
 "nbformat_minor": 0,
 "worksheets": [
  {
   "cells": [
    {
     "cell_type": "code",
     "collapsed": false,
     "input": [
      "from IPython.core.display import *"
     ],
     "language": "python",
     "metadata": {},
     "outputs": [],
     "prompt_number": 2
    },
    {
     "cell_type": "code",
     "collapsed": false,
     "input": [
      "display(HTML(\"\"\"<script src=\"files/js/output.json\"></script>\n",
      "                <script src=\"files/js/libs/three.min.js\"></script>  \n",
      "                <script src=\"files/js/libs/TrackballControls.js\"></script>  \n",
      "                <script src=\"files/js/Canvas.js\"></script> \n",
      "                 \"\"\"))\n"
     ],
     "language": "python",
     "metadata": {},
     "outputs": [
      {
       "html": [
        "<script src=\"files/js/output.json\"></script>\n",
        "                <script src=\"files/js/libs/three.min.js\"></script>  \n",
        "                <script src=\"files/js/libs/TrackballControls.js\"></script>  \n",
        "                <script src=\"files/js/Canvas.js\"></script> \n",
        "                 "
       ],
       "output_type": "display_data",
       "text": [
        "<IPython.core.display.HTML at 0x943a0ac>"
       ]
      }
     ],
     "prompt_number": 11
    },
    {
     "cell_type": "code",
     "collapsed": false,
     "input": [
      "display(Javascript(filename='js/Canvas.js'))"
     ],
     "language": "python",
     "metadata": {},
     "outputs": [
      {
       "javascript": [
        "//THis file basically creates a Canvas class like object.\n",
        "\n",
        "function Canvas(JSONObj) \n",
        "{\n",
        "    \n",
        "    this.visualization_frames = JSONOBj.frames;\n",
        "    this.width = JSONObj.width;\n",
        "    this.height = JSONObj.height;\n",
        "    \n",
        "    this.initialize = function (){\n",
        "        // This function initializes a simple Canvas, with mouse controls\n",
        "        \n",
        "        // first of all , a renderer ...\n",
        "\t    this.renderer = new THREE.WebGLRenderer();\n",
        "        \n",
        "        //show the IPython handle container\n",
        "        container.show();\n",
        "    \n",
        "        // create a canvas div\n",
        "\t    this.canvas = $(\"<div/>\").attr(\"id\", \"#canvas\");\n",
        "        this.canvas.attr(\"style\",\"background-color:rgb(104,104,104)\");\n",
        "        \n",
        "        // Now lets add a scene ..\n",
        "        \n",
        "        this.scene = new THREE.Scene();\n",
        "        \n",
        "        // A Camera ..\n",
        "        var VIEW_ANGLE = 45,\n",
        "\t    ASPECT = WIDTH / HEIGHT,\n",
        "\t    NEAR = 0.1,\n",
        "\t    FAR = 1000;\n",
        "        \n",
        "        this.camera = new THREE.PerspectiveCamera(  VIEW_ANGLE,\n",
        "\t                                ASPECT,\n",
        "\t                                NEAR,\n",
        "\t                                FAR  );\n",
        "                                    \n",
        "         // the camera starts at 0,0,0 so pull it back\n",
        "\t     this.camera.position.z = 10;\n",
        "\t                           \n",
        "         // Add trackball controls ...                                  \n",
        "    \n",
        "         this.controls = new THREE.TrackballControls(camera, renderer.domElement);\n",
        "         \n",
        "         this.reset = function(){ controls.reset();}\n",
        "         \n",
        "         this.scene.add(this.camera);\n",
        "         \n",
        "         this.reset_button = $('<button/>').attr('style','margin-left:40px;').click(reset);\n",
        "         this.reset_button.append('Reset Camera');                             \n",
        "         this.canvas.append(this.reset_button)\n",
        "\t\n",
        "\t     this.canvas.append(this.renderer.domElement);\n",
        "\t     element.append(this.canvas);\n",
        "         \n",
        "         // start the renderer\n",
        "         this.renderer.setSize(this.width, this.height);\n",
        "         \n",
        "         \n",
        "         // Add Axis to this scene ...\n",
        "         // Add  axes ...\n",
        "\t\n",
        "\t    var axesMaterial = new THREE.MeshLambertMaterial(\n",
        "\t    {\n",
        "\t        color: 0xFFFFFF\n",
        "\t    \n",
        "\t    });\n",
        "       this.x_axis = new THREE.Mesh(\n",
        "\t                      new THREE.CubeGeometry(this.width, 0.03, 0.03),\n",
        "\t                         axesMaterial);\n",
        "\t   \n",
        "\t    this.scene.add(this.x_axis);\n",
        "        \n",
        "        var y_axis = new THREE.Mesh(\n",
        "\t                  new THREE.CubeGeometry(0.03, this.height, 0.03),\n",
        "\t                                 axesMaterial);\n",
        "\t   \n",
        "\t    this.scene.add(this.y_axis); \n",
        "        \n",
        "        this.z_axis = new THREE.Mesh(\n",
        "\t                 new THREE.CubeGeometry(0.03, 0.03, 10),\n",
        "\t                      axesMaterial);\n",
        "\t   \n",
        "\t    this.scene.add(this.z_axis);\n",
        "        \n",
        "        // create a point light\n",
        "\t    this.pointLight = new THREE.PointLight( 0xFFFFFF );\n",
        "\n",
        "\t    // set its position\n",
        "\t   this.pointLight.position.x = 100;\n",
        "\t   this.pointLight.position.y = 100;\n",
        "       this.pointLight.position.z = 100;\n",
        "\n",
        "\t    // add to the scene\n",
        "\t    this.scene.add(this.pointLight);\n",
        "\t\n",
        "\t    this.renderer.render(scene, camera);    \n",
        "    }\n",
        "    \n",
        "}    \n"
       ],
       "output_type": "display_data",
       "text": [
        "<IPython.core.display.Javascript at 0x943a36c>"
       ]
      }
     ],
     "prompt_number": 15
    },
    {
     "cell_type": "code",
     "collapsed": false,
     "input": [],
     "language": "python",
     "metadata": {},
     "outputs": []
    }
   ],
   "metadata": {}
  }
 ]
}