{
 "metadata": {
  "name": ""
 },
 "nbformat": 3,
 "nbformat_minor": 0,
 "worksheets": [
  {
   "cells": [
    {
     "cell_type": "markdown",
     "metadata": {},
     "source": [
      "We've been working on a [conference paper](https://github.com/gilbertgede/idetc-2013-paper) to demonstrate the ability to do multibody dynamics with Python. We've been calling this work flow [PyDy](http://pydy.org), short for Python Dynamics. Several pieces of the puzzle have come together lately to really demonstrate the power of the scientific python software packages to handle complex dynamic and controls problems (i.e. IPython notebooks, matplotlib animations, python-control, and our software package mechanics which is a part of SymPy). After writing the draft of our paper, which uses a general n-link pendulum as it's main example, I came across this [blog post by Wolfram](http://blog.wolfram.com/2011/03/01/stabilized-n-link-pendulum/) demonstrating their ability to symbolically derive the equations of motion for the n-link pendulum and stabilize it with an LQR controller. It inspired me to replicate the example as I realized that it was relatively easy to do with all free and open source software!\n",
      "\n",
      "In this example problem we will derive the equations of motion of an n-link pendulum on a laterally sliding cart and then develop a controller to stabilize it. Balancing a single inverted pendulum is a classic problem that is many times a student's first experience with non-linear dynamics and control. The problem here is extended to a general n-link pendulum and as we will see the equations of motion quickly get messy with greater than 2 links.\n",
      "\n",
      "The diagram below shows the general description of the problem."
     ]
    },
    {
     "cell_type": "code",
     "collapsed": false,
     "input": [
      "from IPython.display import SVG\n",
      "SVG(filename='n-pendulum-with-cart.svg')"
     ],
     "language": "python",
     "metadata": {},
     "outputs": [
      {
       "metadata": {},
       "output_type": "pyout",
       "prompt_number": 1,
       "svg": [
        "<svg height=\"270\" id=\"svg2\" inkscape:version=\"0.48.3.1 r9886\" sodipodi:docname=\"n-pendulum-with-cart.svg\" version=\"1.1\" width=\"360\" xmlns=\"http://www.w3.org/2000/svg\" xmlns:cc=\"http://creativecommons.org/ns#\" xmlns:dc=\"http://purl.org/dc/elements/1.1/\" xmlns:inkscape=\"http://www.inkscape.org/namespaces/inkscape\" xmlns:ns0=\"http://www.iki.fi/pav/software/textext/\" xmlns:rdf=\"http://www.w3.org/1999/02/22-rdf-syntax-ns#\" xmlns:sodipodi=\"http://sodipodi.sourceforge.net/DTD/sodipodi-0.dtd\" xmlns:svg=\"http://www.w3.org/2000/svg\" xmlns:xlink=\"http://www.w3.org/1999/xlink\">\n",
        "  <sodipodi:namedview bordercolor=\"#666666\" borderopacity=\"1.0\" id=\"base\" inkscape:current-layer=\"layer1\" inkscape:cx=\"180\" inkscape:cy=\"135\" inkscape:document-units=\"px\" inkscape:pageopacity=\"0.0\" inkscape:pageshadow=\"2\" inkscape:window-height=\"744\" inkscape:window-maximized=\"1\" inkscape:window-width=\"1366\" inkscape:window-x=\"0\" inkscape:window-y=\"24\" inkscape:zoom=\"2.0925926\" pagecolor=\"#ffffff\" showgrid=\"false\" units=\"in\"/>\n",
        "  <defs id=\"defs4\">\n",
        "    <marker id=\"Arrow1Send\" inkscape:stockid=\"Arrow1Send\" orient=\"auto\" refX=\"0\" refY=\"0\" style=\"overflow:visible\">\n",
        "      <path d=\"M 0,0 5,-5 -12.5,0 5,5 0,0 z\" id=\"path4056\" inkscape:connector-curvature=\"0\" style=\"fill-rule:evenodd;stroke:#000000;stroke-width:1pt\" transform=\"matrix(-0.2,0,0,-0.2,-1.2,0)\"/>\n",
        "    </marker>\n",
        "    <marker id=\"Arrow1Sstart\" inkscape:stockid=\"Arrow1Sstart\" orient=\"auto\" refX=\"0\" refY=\"0\" style=\"overflow:visible\">\n",
        "      <path d=\"M 0,0 5,-5 -12.5,0 5,5 0,0 z\" id=\"path4053\" inkscape:connector-curvature=\"0\" style=\"fill-rule:evenodd;stroke:#000000;stroke-width:1pt\" transform=\"matrix(0.2,0,0,0.2,1.2,0)\"/>\n",
        "    </marker>\n",
        "    <marker id=\"Arrow1Mend\" inkscape:stockid=\"Arrow1Mend\" orient=\"auto\" refX=\"0\" refY=\"0\" style=\"overflow:visible\">\n",
        "      <path d=\"M 0,0 5,-5 -12.5,0 5,5 0,0 z\" id=\"path4050\" inkscape:connector-curvature=\"0\" style=\"fill-rule:evenodd;stroke:#000000;stroke-width:1pt\" transform=\"matrix(-0.4,0,0,-0.4,-4,0)\"/>\n",
        "    </marker>\n",
        "    <marker id=\"Arrow1Mstart\" inkscape:stockid=\"Arrow1Mstart\" orient=\"auto\" refX=\"0\" refY=\"0\" style=\"overflow:visible\">\n",
        "      <path d=\"M 0,0 5,-5 -12.5,0 5,5 0,0 z\" id=\"path4047\" inkscape:connector-curvature=\"0\" style=\"fill-rule:evenodd;stroke:#000000;stroke-width:1pt\" transform=\"matrix(0.4,0,0,0.4,4,0)\"/>\n",
        "    </marker>\n",
        "    <marker id=\"Arrow1Sstart-7\" inkscape:stockid=\"Arrow1Sstart\" orient=\"auto\" refX=\"0\" refY=\"0\" style=\"overflow:visible\">\n",
        "      <path d=\"M 0,0 5,-5 -12.5,0 5,5 0,0 z\" id=\"path4053-9\" inkscape:connector-curvature=\"0\" style=\"fill-rule:evenodd;stroke:#000000;stroke-width:1pt\" transform=\"matrix(0.2,0,0,0.2,1.2,0)\"/>\n",
        "    </marker>\n",
        "    <marker id=\"Arrow1Sstart-8\" inkscape:stockid=\"Arrow1Sstart\" orient=\"auto\" refX=\"0\" refY=\"0\" style=\"overflow:visible\">\n",
        "      <path d=\"M 0,0 5,-5 -12.5,0 5,5 0,0 z\" id=\"path4053-98\" inkscape:connector-curvature=\"0\" style=\"fill-rule:evenodd;stroke:#000000;stroke-width:1pt\" transform=\"matrix(0.2,0,0,0.2,1.2,0)\"/>\n",
        "    </marker>\n",
        "  </defs>\n",
        "  <metadata id=\"metadata7\">\n",
        "    <rdf:RDF>\n",
        "      <cc:Work rdf:about=\"\">\n",
        "        <dc:format>image/svg+xml</dc:format>\n",
        "        <dc:type rdf:resource=\"http://purl.org/dc/dcmitype/StillImage\"/>\n",
        "        <dc:title/>\n",
        "      </cc:Work>\n",
        "    </rdf:RDF>\n",
        "  </metadata>\n",
        "  <g id=\"layer1\" inkscape:groupmode=\"layer\" inkscape:label=\"Layer 1\" transform=\"translate(0,-782.35975)\">\n",
        "    <rect height=\"20.389381\" id=\"rect2985\" style=\"fill:#ff0000;fill-opacity:1;stroke:#000000;stroke-width:2;stroke-linecap:round;stroke-linejoin:round;stroke-miterlimit:4;stroke-opacity:1;stroke-dasharray:none;stroke-dashoffset:0\" width=\"95.575218\" x=\"133.11505\" y=\"991.19159\"/>\n",
        "    <path d=\"m 73.840708,1002.0235 -50.336283,0 0,-50.33631\" id=\"path2989\" inkscape:connector-curvature=\"0\" style=\"fill:none;stroke:#000000;stroke-width:1px;stroke-linecap:butt;stroke-linejoin:miter;stroke-opacity:1;marker-start:url(#Arrow1Mstart);marker-end:url(#Arrow1Mend)\"/>\n",
        "    <path d=\"m 181.57522,1001.3863 72.53954,-41.88072\" id=\"path2993\" inkscape:connector-curvature=\"0\" style=\"fill:none;stroke:#0000ff;stroke-width:2;stroke-linecap:butt;stroke-linejoin:miter;stroke-miterlimit:4;stroke-opacity:1;stroke-dasharray:none\"/>\n",
        "    <path d=\"m 254.3275,959.24943 54.56622,-63.54926\" id=\"path2993-2\" inkscape:connector-curvature=\"0\" style=\"fill:none;stroke:#0000ff;stroke-width:2;stroke-linecap:butt;stroke-linejoin:miter;stroke-miterlimit:4;stroke-opacity:1;stroke-dasharray:2, 2;stroke-dashoffset:0\"/>\n",
        "    <path d=\"m 309.06598,895.13259 17.72644,-81.86424\" id=\"path2993-6\" inkscape:connector-curvature=\"0\" style=\"fill:none;stroke:#0000ff;stroke-width:2;stroke-linecap:butt;stroke-linejoin:miter;stroke-miterlimit:4;stroke-opacity:1;stroke-dasharray:none\"/>\n",
        "    <path d=\"m 89.840708,151.00885 a 14.336283,14.654867 0 1 1 -28.672566,0 14.336283,14.654867 0 1 1 28.672566,0 z\" id=\"path3020\" sodipodi:cx=\"75.504425\" sodipodi:cy=\"151.00885\" sodipodi:rx=\"14.336283\" sodipodi:ry=\"14.654867\" sodipodi:type=\"arc\" style=\"fill:#0000ff;fill-opacity:1;stroke:none\" transform=\"matrix(0.52314816,0,0,0.51177538,214.53296,882.26204)\"/>\n",
        "    <path d=\"m 190.98476,1002.0235 56.70796,0\" id=\"path3022\" inkscape:connector-curvature=\"0\" sodipodi:nodetypes=\"cc\" style=\"fill:none;stroke:#000000;stroke-width:1;stroke-linecap:butt;stroke-linejoin:miter;stroke-miterlimit:4;stroke-opacity:1;stroke-dasharray:3, 3;stroke-dashoffset:0\"/>\n",
        "    <path d=\"m 264.58043,960.83281 41.36951,0\" id=\"path3024\" inkscape:connector-curvature=\"0\" sodipodi:nodetypes=\"cc\" style=\"fill:none;stroke:#000000;stroke-width:1;stroke-linecap:butt;stroke-linejoin:miter;stroke-miterlimit:4;stroke-opacity:1;stroke-dasharray:3, 3;stroke-dashoffset:0;marker-start:none\"/>\n",
        "    <path d=\"m 318.86894,896.40815 19.07525,0\" id=\"path3026\" inkscape:connector-curvature=\"0\" sodipodi:nodetypes=\"cc\" style=\"fill:none;stroke:#000000;stroke-width:1;stroke-linecap:butt;stroke-linejoin:miter;stroke-miterlimit:4;stroke-opacity:1;stroke-dasharray:3, 3;stroke-dashoffset:0\"/>\n",
        "    <path d=\"m 89.840708,151.00885 a 14.336283,14.654867 0 1 1 -28.672566,0 14.336283,14.654867 0 1 1 28.672566,0 z\" id=\"path3020-0\" sodipodi:cx=\"75.504425\" sodipodi:cy=\"151.00885\" sodipodi:rx=\"14.336283\" sodipodi:ry=\"14.654867\" sodipodi:type=\"arc\" style=\"fill:#0000ff;fill-opacity:1;stroke:none\" transform=\"matrix(0.52314816,0,0,0.51177538,142.46306,924.42824)\"/>\n",
        "    <path d=\"m 89.840708,151.00885 a 14.336283,14.654867 0 1 1 -28.672566,0 14.336283,14.654867 0 1 1 28.672566,0 z\" id=\"path3020-7\" sodipodi:cx=\"75.504425\" sodipodi:cy=\"151.00885\" sodipodi:rx=\"14.336283\" sodipodi:ry=\"14.654867\" sodipodi:type=\"arc\" style=\"fill:#0000ff;fill-opacity:1;stroke:none\" transform=\"matrix(0.52314816,0,0,0.51177538,268.84119,819.0005)\"/>\n",
        "    <path d=\"m 89.840708,151.00885 a 14.336283,14.654867 0 1 1 -28.672566,0 14.336283,14.654867 0 1 1 28.672566,0 z\" id=\"path3020-06\" sodipodi:cx=\"75.504425\" sodipodi:cy=\"151.00885\" sodipodi:rx=\"14.336283\" sodipodi:ry=\"14.654867\" sodipodi:type=\"arc\" style=\"fill:#0000ff;fill-opacity:1;stroke:none\" transform=\"matrix(0.52314816,0,0,0.51177538,287.53884,736.77587)\"/>\n",
        "    <g id=\"g4707\" ns0:preamble=\"\" ns0:text=\"$O$\" transform=\"translate(-209.76468,875.86895)\">\n",
        "      <defs id=\"defs4709\">\n",
        "        <g id=\"g4711\">\n",
        "          <symbol id=\"textext-d3625bf8-0\" overflow=\"visible\" style=\"overflow:visible\">\n",
        "            <path d=\"\" id=\"path4714\" inkscape:connector-curvature=\"0\" style=\"stroke:none\"/>\n",
        "          </symbol>\n",
        "          <symbol id=\"textext-d3625bf8-1\" overflow=\"visible\" style=\"overflow:visible\">\n",
        "            <path d=\"m 7.375,-4.34375 c 0,-1.609375 -1.0625,-2.6875 -2.546875,-2.6875 -2.140625,0 -4.34375,2.265625 -4.34375,4.59375 0,1.65625 1.125,2.65625 2.5625,2.65625 2.109375,0 4.328125,-2.1875 4.328125,-4.5625 z m -4.28125,4.296875 c -0.984375,0 -1.671875,-0.796875 -1.671875,-2.109375 0,-0.453125 0.140625,-1.90625 0.90625,-3.0625 0.6875,-1.046875 1.65625,-1.5625 2.453125,-1.5625 0.8125,0 1.703125,0.5625 1.703125,2.046875 0,0.71875 -0.265625,2.265625 -1.25,3.5 C 4.75,-0.625 3.9375,-0.046875 3.09375,-0.046875 z\" id=\"path4717\" inkscape:connector-curvature=\"0\" style=\"stroke:none\"/>\n",
        "          </symbol>\n",
        "        </g>\n",
        "      </defs>\n",
        "      <g id=\"textext-d3625bf8-2\">\n",
        "        <g id=\"g4720\" style=\"fill:#000000;fill-opacity:1\">\n",
        "          <use height=\"360\" id=\"use4722\" width=\"360\" x=\"223.43201\" xlink:href=\"#textext-d3625bf8-1\" y=\"134.765\"/>\n",
        "        </g>\n",
        "      </g>\n",
        "    </g>\n",
        "    <g id=\"g4784\" ns0:preamble=\"\" ns0:text=\"$q_0$\" transform=\"translate(-126.10822,898.97412)\">\n",
        "      <defs id=\"defs4786\">\n",
        "        <g id=\"g4788\">\n",
        "          <symbol id=\"textext-7b8382d5-0\" overflow=\"visible\" style=\"overflow:visible\">\n",
        "            <path d=\"\" id=\"path4791\" inkscape:connector-curvature=\"0\" style=\"stroke:none\"/>\n",
        "          </symbol>\n",
        "          <symbol id=\"textext-7b8382d5-1\" overflow=\"visible\" style=\"overflow:visible\">\n",
        "            <path d=\"m 4.5,-4.296875 c 0,-0.046875 -0.03125,-0.09375 -0.09375,-0.09375 -0.109375,0 -0.515625,0.390625 -0.671875,0.6875 C 3.515625,-4.25 3.125,-4.40625 2.796875,-4.40625 c -1.171875,0 -2.390625,1.46875 -2.390625,2.921875 0,0.96875 0.578125,1.59375 1.3125,1.59375 0.421875,0 0.8125,-0.234375 1.171875,-0.59375 -0.09375,0.34375 -0.421875,1.6875 -0.453125,1.78125 -0.078125,0.28125 -0.15625,0.3125 -0.71875,0.328125 -0.125,0 -0.21875,0 -0.21875,0.203125 0,0 0,0.109375 0.125,0.109375 0.3125,0 0.671875,-0.03125 1,-0.03125 0.328125,0 0.6875,0.03125 1.03125,0.03125 0.046875,0 0.171875,0 0.171875,-0.203125 C 3.828125,1.625 3.734375,1.625 3.5625,1.625 3.09375,1.625 3.09375,1.5625 3.09375,1.46875 3.09375,1.390625 3.109375,1.328125 3.125,1.25 z m -2.75,4.1875 c -0.609375,0 -0.640625,-0.765625 -0.640625,-0.9375 0,-0.484375 0.28125,-1.5625 0.453125,-1.984375 0.3125,-0.734375 0.828125,-1.15625 1.234375,-1.15625 0.65625,0 0.796875,0.8125 0.796875,0.875 0,0.0625 -0.546875,2.25 -0.578125,2.28125 C 2.859375,-0.75 2.296875,-0.109375 1.75,-0.109375 z\" id=\"path4794\" inkscape:connector-curvature=\"0\" style=\"stroke:none\"/>\n",
        "          </symbol>\n",
        "          <symbol id=\"textext-7b8382d5-2\" overflow=\"visible\" style=\"overflow:visible\">\n",
        "            <path d=\"\" id=\"path4797\" inkscape:connector-curvature=\"0\" style=\"stroke:none\"/>\n",
        "          </symbol>\n",
        "          <symbol id=\"textext-7b8382d5-3\" overflow=\"visible\" style=\"overflow:visible\">\n",
        "            <path d=\"M 3.59375,-2.21875 C 3.59375,-2.984375 3.5,-3.546875 3.1875,-4.03125 2.96875,-4.34375 2.53125,-4.625 1.984375,-4.625 c -1.625,0 -1.625,1.90625 -1.625,2.40625 0,0.5 0,2.359375 1.625,2.359375 1.609375,0 1.609375,-1.859375 1.609375,-2.359375 z M 1.984375,-0.0625 c -0.328125,0 -0.75,-0.1875 -0.890625,-0.75 C 1,-1.21875 1,-1.796875 1,-2.3125 1,-2.828125 1,-3.359375 1.09375,-3.734375 1.25,-4.28125 1.6875,-4.4375 1.984375,-4.4375 c 0.375,0 0.734375,0.234375 0.859375,0.640625 0.109375,0.375 0.125,0.875 0.125,1.484375 0,0.515625 0,1.03125 -0.09375,1.46875 -0.140625,0.640625 -0.609375,0.78125 -0.890625,0.78125 z\" id=\"path4800\" inkscape:connector-curvature=\"0\" style=\"stroke:none\"/>\n",
        "          </symbol>\n",
        "        </g>\n",
        "      </defs>\n",
        "      <g id=\"textext-7b8382d5-4\">\n",
        "        <g id=\"g4803\" style=\"fill:#000000;fill-opacity:1\">\n",
        "          <use height=\"360\" id=\"use4805\" width=\"360\" x=\"223.43201\" xlink:href=\"#textext-7b8382d5-1\" y=\"134.765\"/>\n",
        "        </g>\n",
        "        <g id=\"g4807\" style=\"fill:#000000;fill-opacity:1\">\n",
        "          <use height=\"360\" id=\"use4809\" width=\"360\" x=\"227.88\" xlink:href=\"#textext-7b8382d5-3\" y=\"136.259\"/>\n",
        "        </g>\n",
        "      </g>\n",
        "    </g>\n",
        "    <g id=\"g4903\" ns0:preamble=\"\" ns0:text=\"$q_1$\" transform=\"translate(19.808969,851.4691)\">\n",
        "      <defs id=\"defs4905\">\n",
        "        <g id=\"g4907\">\n",
        "          <symbol id=\"textext-d862ba06-0\" overflow=\"visible\" style=\"overflow:visible\">\n",
        "            <path d=\"\" id=\"path4910\" inkscape:connector-curvature=\"0\" style=\"stroke:none\"/>\n",
        "          </symbol>\n",
        "          <symbol id=\"textext-d862ba06-1\" overflow=\"visible\" style=\"overflow:visible\">\n",
        "            <path d=\"m 4.5,-4.296875 c 0,-0.046875 -0.03125,-0.09375 -0.09375,-0.09375 -0.109375,0 -0.515625,0.390625 -0.671875,0.6875 C 3.515625,-4.25 3.125,-4.40625 2.796875,-4.40625 c -1.171875,0 -2.390625,1.46875 -2.390625,2.921875 0,0.96875 0.578125,1.59375 1.3125,1.59375 0.421875,0 0.8125,-0.234375 1.171875,-0.59375 -0.09375,0.34375 -0.421875,1.6875 -0.453125,1.78125 -0.078125,0.28125 -0.15625,0.3125 -0.71875,0.328125 -0.125,0 -0.21875,0 -0.21875,0.203125 0,0 0,0.109375 0.125,0.109375 0.3125,0 0.671875,-0.03125 1,-0.03125 0.328125,0 0.6875,0.03125 1.03125,0.03125 0.046875,0 0.171875,0 0.171875,-0.203125 C 3.828125,1.625 3.734375,1.625 3.5625,1.625 3.09375,1.625 3.09375,1.5625 3.09375,1.46875 3.09375,1.390625 3.109375,1.328125 3.125,1.25 z m -2.75,4.1875 c -0.609375,0 -0.640625,-0.765625 -0.640625,-0.9375 0,-0.484375 0.28125,-1.5625 0.453125,-1.984375 0.3125,-0.734375 0.828125,-1.15625 1.234375,-1.15625 0.65625,0 0.796875,0.8125 0.796875,0.875 0,0.0625 -0.546875,2.25 -0.578125,2.28125 C 2.859375,-0.75 2.296875,-0.109375 1.75,-0.109375 z\" id=\"path4913\" inkscape:connector-curvature=\"0\" style=\"stroke:none\"/>\n",
        "          </symbol>\n",
        "          <symbol id=\"textext-d862ba06-2\" overflow=\"visible\" style=\"overflow:visible\">\n",
        "            <path d=\"\" id=\"path4916\" inkscape:connector-curvature=\"0\" style=\"stroke:none\"/>\n",
        "          </symbol>\n",
        "          <symbol id=\"textext-d862ba06-3\" overflow=\"visible\" style=\"overflow:visible\">\n",
        "            <path d=\"m 2.328125,-4.4375 c 0,-0.1875 0,-0.1875 -0.203125,-0.1875 -0.453125,0.4375 -1.078125,0.4375 -1.359375,0.4375 l 0,0.25 c 0.15625,0 0.625,0 1,-0.1875 l 0,3.546875 c 0,0.234375 0,0.328125 -0.6875,0.328125 l -0.265625,0 0,0.25 c 0.125,0 0.984375,-0.03125 1.234375,-0.03125 0.21875,0 1.09375,0.03125 1.25,0.03125 l 0,-0.25 -0.265625,0 c -0.703125,0 -0.703125,-0.09375 -0.703125,-0.328125 z\" id=\"path4919\" inkscape:connector-curvature=\"0\" style=\"stroke:none\"/>\n",
        "          </symbol>\n",
        "        </g>\n",
        "      </defs>\n",
        "      <g id=\"textext-d862ba06-4\">\n",
        "        <g id=\"g4922\" style=\"fill:#000000;fill-opacity:1\">\n",
        "          <use height=\"360\" id=\"use4924\" width=\"360\" x=\"223.43201\" xlink:href=\"#textext-d862ba06-1\" y=\"134.765\"/>\n",
        "        </g>\n",
        "        <g id=\"g4926\" style=\"fill:#000000;fill-opacity:1\">\n",
        "          <use height=\"360\" id=\"use4928\" width=\"360\" x=\"227.88\" xlink:href=\"#textext-d862ba06-3\" y=\"136.259\"/>\n",
        "        </g>\n",
        "      </g>\n",
        "    </g>\n",
        "    <g id=\"g5054\" ns0:preamble=\"\" ns0:text=\"$q_2$\" transform=\"translate(75.774552,807.35558)\">\n",
        "      <defs id=\"defs5056\">\n",
        "        <g id=\"g5058\">\n",
        "          <symbol id=\"textext-726c0b90-0\" overflow=\"visible\" style=\"overflow:visible\">\n",
        "            <path d=\"\" id=\"path5061\" inkscape:connector-curvature=\"0\" style=\"stroke:none\"/>\n",
        "          </symbol>\n",
        "          <symbol id=\"textext-726c0b90-1\" overflow=\"visible\" style=\"overflow:visible\">\n",
        "            <path d=\"m 4.5,-4.296875 c 0,-0.046875 -0.03125,-0.09375 -0.09375,-0.09375 -0.109375,0 -0.515625,0.390625 -0.671875,0.6875 C 3.515625,-4.25 3.125,-4.40625 2.796875,-4.40625 c -1.171875,0 -2.390625,1.46875 -2.390625,2.921875 0,0.96875 0.578125,1.59375 1.3125,1.59375 0.421875,0 0.8125,-0.234375 1.171875,-0.59375 -0.09375,0.34375 -0.421875,1.6875 -0.453125,1.78125 -0.078125,0.28125 -0.15625,0.3125 -0.71875,0.328125 -0.125,0 -0.21875,0 -0.21875,0.203125 0,0 0,0.109375 0.125,0.109375 0.3125,0 0.671875,-0.03125 1,-0.03125 0.328125,0 0.6875,0.03125 1.03125,0.03125 0.046875,0 0.171875,0 0.171875,-0.203125 C 3.828125,1.625 3.734375,1.625 3.5625,1.625 3.09375,1.625 3.09375,1.5625 3.09375,1.46875 3.09375,1.390625 3.109375,1.328125 3.125,1.25 z m -2.75,4.1875 c -0.609375,0 -0.640625,-0.765625 -0.640625,-0.9375 0,-0.484375 0.28125,-1.5625 0.453125,-1.984375 0.3125,-0.734375 0.828125,-1.15625 1.234375,-1.15625 0.65625,0 0.796875,0.8125 0.796875,0.875 0,0.0625 -0.546875,2.25 -0.578125,2.28125 C 2.859375,-0.75 2.296875,-0.109375 1.75,-0.109375 z\" id=\"path5064\" inkscape:connector-curvature=\"0\" style=\"stroke:none\"/>\n",
        "          </symbol>\n",
        "          <symbol id=\"textext-726c0b90-2\" overflow=\"visible\" style=\"overflow:visible\">\n",
        "            <path d=\"\" id=\"path5067\" inkscape:connector-curvature=\"0\" style=\"stroke:none\"/>\n",
        "          </symbol>\n",
        "          <symbol id=\"textext-726c0b90-3\" overflow=\"visible\" style=\"overflow:visible\">\n",
        "            <path d=\"m 3.515625,-1.265625 -0.234375,0 c -0.015625,0.15625 -0.09375,0.5625 -0.1875,0.625 -0.046875,0.046875 -0.578125,0.046875 -0.6875,0.046875 l -1.28125,0 c 0.734375,-0.640625 0.984375,-0.84375 1.390625,-1.171875 0.515625,-0.40625 1,-0.84375 1,-1.5 0,-0.84375 -0.734375,-1.359375 -1.625,-1.359375 -0.859375,0 -1.453125,0.609375 -1.453125,1.25 0,0.34375 0.296875,0.390625 0.375,0.390625 0.15625,0 0.359375,-0.125 0.359375,-0.375 0,-0.125 -0.046875,-0.375 -0.40625,-0.375 C 0.984375,-4.21875 1.453125,-4.375 1.78125,-4.375 c 0.703125,0 1.0625,0.546875 1.0625,1.109375 0,0.609375 -0.4375,1.078125 -0.65625,1.328125 L 0.515625,-0.265625 C 0.4375,-0.203125 0.4375,-0.1875 0.4375,0 l 2.875,0 z\" id=\"path5070\" inkscape:connector-curvature=\"0\" style=\"stroke:none\"/>\n",
        "          </symbol>\n",
        "        </g>\n",
        "      </defs>\n",
        "      <g id=\"textext-726c0b90-4\">\n",
        "        <g id=\"g5073\" style=\"fill:#000000;fill-opacity:1\">\n",
        "          <use height=\"360\" id=\"use5075\" width=\"360\" x=\"223.43201\" xlink:href=\"#textext-726c0b90-1\" y=\"134.765\"/>\n",
        "        </g>\n",
        "        <g id=\"g5077\" style=\"fill:#000000;fill-opacity:1\">\n",
        "          <use height=\"360\" id=\"use5079\" width=\"360\" x=\"227.88\" xlink:href=\"#textext-726c0b90-3\" y=\"136.259\"/>\n",
        "        </g>\n",
        "      </g>\n",
        "    </g>\n",
        "    <g id=\"g5237\" ns0:preamble=\"\" ns0:text=\"$q_{n+1}$\" transform=\"translate(108.23379,742.30109)\">\n",
        "      <defs id=\"defs5239\">\n",
        "        <g id=\"g5241\">\n",
        "          <symbol id=\"textext-fcfaf03e-0\" overflow=\"visible\" style=\"overflow:visible\">\n",
        "            <path d=\"\" id=\"path5244\" inkscape:connector-curvature=\"0\" style=\"stroke:none\"/>\n",
        "          </symbol>\n",
        "          <symbol id=\"textext-fcfaf03e-1\" overflow=\"visible\" style=\"overflow:visible\">\n",
        "            <path d=\"m 4.5,-4.296875 c 0,-0.046875 -0.03125,-0.09375 -0.09375,-0.09375 -0.109375,0 -0.515625,0.390625 -0.671875,0.6875 C 3.515625,-4.25 3.125,-4.40625 2.796875,-4.40625 c -1.171875,0 -2.390625,1.46875 -2.390625,2.921875 0,0.96875 0.578125,1.59375 1.3125,1.59375 0.421875,0 0.8125,-0.234375 1.171875,-0.59375 -0.09375,0.34375 -0.421875,1.6875 -0.453125,1.78125 -0.078125,0.28125 -0.15625,0.3125 -0.71875,0.328125 -0.125,0 -0.21875,0 -0.21875,0.203125 0,0 0,0.109375 0.125,0.109375 0.3125,0 0.671875,-0.03125 1,-0.03125 0.328125,0 0.6875,0.03125 1.03125,0.03125 0.046875,0 0.171875,0 0.171875,-0.203125 C 3.828125,1.625 3.734375,1.625 3.5625,1.625 3.09375,1.625 3.09375,1.5625 3.09375,1.46875 3.09375,1.390625 3.109375,1.328125 3.125,1.25 z m -2.75,4.1875 c -0.609375,0 -0.640625,-0.765625 -0.640625,-0.9375 0,-0.484375 0.28125,-1.5625 0.453125,-1.984375 0.3125,-0.734375 0.828125,-1.15625 1.234375,-1.15625 0.65625,0 0.796875,0.8125 0.796875,0.875 0,0.0625 -0.546875,2.25 -0.578125,2.28125 C 2.859375,-0.75 2.296875,-0.109375 1.75,-0.109375 z\" id=\"path5247\" inkscape:connector-curvature=\"0\" style=\"stroke:none\"/>\n",
        "          </symbol>\n",
        "          <symbol id=\"textext-fcfaf03e-2\" overflow=\"visible\" style=\"overflow:visible\">\n",
        "            <path d=\"\" id=\"path5250\" inkscape:connector-curvature=\"0\" style=\"stroke:none\"/>\n",
        "          </symbol>\n",
        "          <symbol id=\"textext-fcfaf03e-3\" overflow=\"visible\" style=\"overflow:visible\">\n",
        "            <path d=\"m 0.84375,-0.4375 c -0.015625,0.09375 -0.0625,0.265625 -0.0625,0.28125 0,0.15625 0.125,0.21875 0.234375,0.21875 0.125,0 0.234375,-0.078125 0.28125,-0.140625 0.03125,-0.0625 0.078125,-0.296875 0.125,-0.4375 0.03125,-0.125 0.109375,-0.453125 0.140625,-0.625 0.046875,-0.15625 0.09375,-0.3125 0.125,-0.46875 0.078125,-0.28125 0.09375,-0.34375 0.296875,-0.625 C 2.171875,-2.515625 2.5,-2.875 3.03125,-2.875 c 0.390625,0 0.40625,0.359375 0.40625,0.484375 0,0.421875 -0.296875,1.1875 -0.40625,1.484375 -0.078125,0.203125 -0.109375,0.265625 -0.109375,0.375 0,0.375 0.296875,0.59375 0.65625,0.59375 0.703125,0 1,-0.953125 1,-1.0625 0,-0.09375 -0.078125,-0.09375 -0.109375,-0.09375 -0.09375,0 -0.09375,0.046875 -0.125,0.125 C 4.1875,-0.40625 3.875,-0.125 3.609375,-0.125 c -0.15625,0 -0.1875,-0.09375 -0.1875,-0.25 0,-0.15625 0.046875,-0.25 0.171875,-0.5625 0.078125,-0.21875 0.359375,-0.953125 0.359375,-1.34375 0,-0.671875 -0.53125,-0.796875 -0.90625,-0.796875 -0.578125,0 -0.96875,0.359375 -1.171875,0.640625 -0.046875,-0.484375 -0.453125,-0.640625 -0.75,-0.640625 -0.296875,0 -0.453125,0.21875 -0.546875,0.375 -0.15625,0.265625 -0.25,0.65625 -0.25,0.703125 0,0.078125 0.09375,0.078125 0.125,0.078125 0.09375,0 0.09375,-0.015625 0.140625,-0.203125 0.109375,-0.40625 0.25,-0.75 0.515625,-0.75 0.1875,0 0.234375,0.15625 0.234375,0.34375 0,0.125 -0.0625,0.390625 -0.125,0.578125 -0.046875,0.1875 -0.109375,0.46875 -0.140625,0.625 z\" id=\"path5253\" inkscape:connector-curvature=\"0\" style=\"stroke:none\"/>\n",
        "          </symbol>\n",
        "          <symbol id=\"textext-fcfaf03e-4\" overflow=\"visible\" style=\"overflow:visible\">\n",
        "            <path d=\"\" id=\"path5256\" inkscape:connector-curvature=\"0\" style=\"stroke:none\"/>\n",
        "          </symbol>\n",
        "          <symbol id=\"textext-fcfaf03e-5\" overflow=\"visible\" style=\"overflow:visible\">\n",
        "            <path d=\"m 3.21875,-1.578125 2.140625,0 c 0.09375,0 0.25,0 0.25,-0.15625 0,-0.1875 -0.15625,-0.1875 -0.25,-0.1875 l -2.140625,0 0,-2.140625 c 0,-0.078125 0,-0.25 -0.15625,-0.25 -0.171875,0 -0.171875,0.15625 -0.171875,0.25 l 0,2.140625 -2.140625,0 c -0.09375,0 -0.265625,0 -0.265625,0.171875 0,0.171875 0.15625,0.171875 0.265625,0.171875 l 2.140625,0 0,2.140625 c 0,0.09375 0,0.265625 0.15625,0.265625 0.171875,0 0.171875,-0.171875 0.171875,-0.265625 z\" id=\"path5259\" inkscape:connector-curvature=\"0\" style=\"stroke:none\"/>\n",
        "          </symbol>\n",
        "          <symbol id=\"textext-fcfaf03e-6\" overflow=\"visible\" style=\"overflow:visible\">\n",
        "            <path d=\"m 2.328125,-4.4375 c 0,-0.1875 0,-0.1875 -0.203125,-0.1875 -0.453125,0.4375 -1.078125,0.4375 -1.359375,0.4375 l 0,0.25 c 0.15625,0 0.625,0 1,-0.1875 l 0,3.546875 c 0,0.234375 0,0.328125 -0.6875,0.328125 l -0.265625,0 0,0.25 c 0.125,0 0.984375,-0.03125 1.234375,-0.03125 0.21875,0 1.09375,0.03125 1.25,0.03125 l 0,-0.25 -0.265625,0 c -0.703125,0 -0.703125,-0.09375 -0.703125,-0.328125 z\" id=\"path5262\" inkscape:connector-curvature=\"0\" style=\"stroke:none\"/>\n",
        "          </symbol>\n",
        "        </g>\n",
        "      </defs>\n",
        "      <g id=\"textext-fcfaf03e-7\">\n",
        "        <g id=\"g5265\" style=\"fill:#000000;fill-opacity:1\">\n",
        "          <use height=\"360\" id=\"use5267\" width=\"360\" x=\"223.43201\" xlink:href=\"#textext-fcfaf03e-1\" y=\"134.765\"/>\n",
        "        </g>\n",
        "        <g id=\"g5269\" style=\"fill:#000000;fill-opacity:1\">\n",
        "          <use height=\"360\" id=\"use5271\" width=\"360\" x=\"227.88\" xlink:href=\"#textext-fcfaf03e-3\" y=\"136.259\"/>\n",
        "        </g>\n",
        "        <g id=\"g5273\" style=\"fill:#000000;fill-opacity:1\">\n",
        "          <use height=\"360\" id=\"use5275\" width=\"360\" x=\"232.804\" xlink:href=\"#textext-fcfaf03e-5\" y=\"136.259\"/>\n",
        "          <use height=\"360\" id=\"use5277\" width=\"360\" x=\"238.92003\" xlink:href=\"#textext-fcfaf03e-6\" y=\"136.259\"/>\n",
        "        </g>\n",
        "      </g>\n",
        "    </g>\n",
        "    <path d=\"m 122.76541,131.92575 a 38.230087,39.185841 0 0 1 4.66698,18.45013\" id=\"path5381\" sodipodi:cx=\"89.203537\" sodipodi:cy=\"150.69026\" sodipodi:end=\"6.2751625\" sodipodi:open=\"true\" sodipodi:rx=\"38.230087\" sodipodi:ry=\"39.185841\" sodipodi:start=\"5.7838302\" sodipodi:type=\"arc\" style=\"fill:none;stroke:#000000;stroke-width:0.68079019;stroke-miterlimit:4;stroke-opacity:1;stroke-dasharray:none;marker-start:url(#Arrow1Sstart)\" transform=\"matrix(1.4871292,0,0,1.4508575,49.30588,783.08076)\"/>\n",
        "    <path d=\"m 115.95234,122.69366 a 38.230087,39.185841 0 0 1 11.48042,28.25973\" id=\"path5381-2\" sodipodi:cx=\"89.203537\" sodipodi:cy=\"150.69026\" sodipodi:end=\"6.2899002\" sodipodi:open=\"true\" sodipodi:rx=\"38.230087\" sodipodi:ry=\"39.185841\" sodipodi:start=\"5.4873376\" sodipodi:type=\"arc\" style=\"fill:none;stroke:#000000;stroke-width:0.85336822;stroke-miterlimit:4;stroke-opacity:1;stroke-dasharray:none;marker-start:url(#Arrow1Sstart)\" transform=\"matrix(1.1863846,0,0,1.1574482,147.87429,785.12848)\"/>\n",
        "    <path d=\"m 101.40416,113.5535 a 38.230087,39.185841 0 0 1 26.02194,36.35929\" id=\"path5381-26\" sodipodi:cx=\"89.203537\" sodipodi:cy=\"150.69026\" sodipodi:end=\"6.2633433\" sodipodi:open=\"true\" sodipodi:rx=\"38.230087\" sodipodi:ry=\"39.185841\" sodipodi:start=\"5.0372073\" sodipodi:type=\"arc\" style=\"fill:none;stroke:#000000;stroke-width:1.46858275;stroke-miterlimit:4;stroke-opacity:1;stroke-dasharray:none;marker-start:url(#Arrow1Sstart)\" transform=\"matrix(0.68938773,0,0,0.67257328,246.65421,794.93287)\"/>\n",
        "    <g id=\"g6087\" ns0:preamble=\"\" ns0:text=\"$m_0$\" transform=\"translate(-63.95156,864.12085)\">\n",
        "      <defs id=\"defs6089\">\n",
        "        <g id=\"g6091\">\n",
        "          <symbol id=\"textext-998f6c43-0\" overflow=\"visible\" style=\"overflow:visible\">\n",
        "            <path d=\"\" id=\"path6094\" inkscape:connector-curvature=\"0\" style=\"stroke:none\"/>\n",
        "          </symbol>\n",
        "          <symbol id=\"textext-998f6c43-1\" overflow=\"visible\" style=\"overflow:visible\">\n",
        "            <path d=\"m 0.875,-0.59375 c -0.03125,0.15625 -0.09375,0.390625 -0.09375,0.4375 0,0.171875 0.140625,0.265625 0.296875,0.265625 0.125,0 0.296875,-0.078125 0.375,-0.28125 0,-0.015625 0.125,-0.484375 0.1875,-0.734375 l 0.21875,-0.890625 C 1.90625,-2.03125 1.96875,-2.25 2.03125,-2.46875 c 0.03125,-0.171875 0.109375,-0.46875 0.125,-0.5 0.140625,-0.3125 0.671875,-1.21875 1.625,-1.21875 0.453125,0 0.53125,0.375 0.53125,0.703125 0,0.25 -0.0625,0.53125 -0.140625,0.828125 L 3.890625,-1.5 3.6875,-0.75 c -0.03125,0.203125 -0.125,0.546875 -0.125,0.59375 0,0.171875 0.140625,0.265625 0.28125,0.265625 0.3125,0 0.375,-0.25 0.453125,-0.5625 0.140625,-0.5625 0.515625,-2.015625 0.59375,-2.40625 0.03125,-0.125 0.5625,-1.328125 1.65625,-1.328125 0.421875,0 0.53125,0.34375 0.53125,0.703125 0,0.5625 -0.421875,1.703125 -0.625,2.234375 -0.078125,0.234375 -0.125,0.34375 -0.125,0.546875 0,0.46875 0.34375,0.8125 0.8125,0.8125 0.9375,0 1.3125,-1.453125 1.3125,-1.53125 0,-0.109375 -0.09375,-0.109375 -0.125,-0.109375 -0.09375,0 -0.09375,0.03125 -0.140625,0.1875 -0.15625,0.53125 -0.46875,1.234375 -1.015625,1.234375 -0.171875,0 -0.25,-0.09375 -0.25,-0.328125 0,-0.25 0.09375,-0.484375 0.1875,-0.703125 0.1875,-0.53125 0.609375,-1.625 0.609375,-2.203125 0,-0.640625 -0.40625,-1.0625 -1.15625,-1.0625 -0.734375,0 -1.25,0.4375 -1.625,0.96875 0,-0.125 -0.03125,-0.46875 -0.3125,-0.703125 -0.25,-0.21875 -0.5625,-0.265625 -0.8125,-0.265625 -0.90625,0 -1.390625,0.640625 -1.5625,0.875 -0.046875,-0.578125 -0.46875,-0.875 -0.921875,-0.875 -0.453125,0 -0.640625,0.390625 -0.734375,0.5625 -0.171875,0.359375 -0.296875,0.9375 -0.296875,0.96875 0,0.109375 0.09375,0.109375 0.109375,0.109375 0.109375,0 0.109375,-0.015625 0.171875,-0.234375 0.171875,-0.703125 0.375,-1.1875 0.734375,-1.1875 0.15625,0 0.296875,0.078125 0.296875,0.453125 0,0.21875 -0.03125,0.328125 -0.15625,0.84375 z\" id=\"path6097\" inkscape:connector-curvature=\"0\" style=\"stroke:none\"/>\n",
        "          </symbol>\n",
        "          <symbol id=\"textext-998f6c43-2\" overflow=\"visible\" style=\"overflow:visible\">\n",
        "            <path d=\"\" id=\"path6100\" inkscape:connector-curvature=\"0\" style=\"stroke:none\"/>\n",
        "          </symbol>\n",
        "          <symbol id=\"textext-998f6c43-3\" overflow=\"visible\" style=\"overflow:visible\">\n",
        "            <path d=\"M 3.59375,-2.21875 C 3.59375,-2.984375 3.5,-3.546875 3.1875,-4.03125 2.96875,-4.34375 2.53125,-4.625 1.984375,-4.625 c -1.625,0 -1.625,1.90625 -1.625,2.40625 0,0.5 0,2.359375 1.625,2.359375 1.609375,0 1.609375,-1.859375 1.609375,-2.359375 z M 1.984375,-0.0625 c -0.328125,0 -0.75,-0.1875 -0.890625,-0.75 C 1,-1.21875 1,-1.796875 1,-2.3125 1,-2.828125 1,-3.359375 1.09375,-3.734375 1.25,-4.28125 1.6875,-4.4375 1.984375,-4.4375 c 0.375,0 0.734375,0.234375 0.859375,0.640625 0.109375,0.375 0.125,0.875 0.125,1.484375 0,0.515625 0,1.03125 -0.09375,1.46875 -0.140625,0.640625 -0.609375,0.78125 -0.890625,0.78125 z\" id=\"path6103\" inkscape:connector-curvature=\"0\" style=\"stroke:none\"/>\n",
        "          </symbol>\n",
        "        </g>\n",
        "      </defs>\n",
        "      <g id=\"textext-998f6c43-4\">\n",
        "        <g id=\"g6106\" style=\"fill:#000000;fill-opacity:1\">\n",
        "          <use height=\"360\" id=\"use6108\" width=\"360\" x=\"223.43201\" xlink:href=\"#textext-998f6c43-1\" y=\"134.765\"/>\n",
        "        </g>\n",
        "        <g id=\"g6110\" style=\"fill:#000000;fill-opacity:1\">\n",
        "          <use height=\"360\" id=\"use6112\" width=\"360\" x=\"232.179\" xlink:href=\"#textext-998f6c43-3\" y=\"136.259\"/>\n",
        "        </g>\n",
        "      </g>\n",
        "    </g>\n",
        "    <g id=\"g6370\" ns0:preamble=\"\" ns0:text=\"$m_1$\" transform=\"translate(10.597113,815.69608)\">\n",
        "      <defs id=\"defs6372\">\n",
        "        <g id=\"g6374\">\n",
        "          <symbol id=\"textext-b1060afd-0\" overflow=\"visible\" style=\"overflow:visible\">\n",
        "            <path d=\"\" id=\"path6377\" inkscape:connector-curvature=\"0\" style=\"stroke:none\"/>\n",
        "          </symbol>\n",
        "          <symbol id=\"textext-b1060afd-1\" overflow=\"visible\" style=\"overflow:visible\">\n",
        "            <path d=\"m 0.875,-0.59375 c -0.03125,0.15625 -0.09375,0.390625 -0.09375,0.4375 0,0.171875 0.140625,0.265625 0.296875,0.265625 0.125,0 0.296875,-0.078125 0.375,-0.28125 0,-0.015625 0.125,-0.484375 0.1875,-0.734375 l 0.21875,-0.890625 C 1.90625,-2.03125 1.96875,-2.25 2.03125,-2.46875 c 0.03125,-0.171875 0.109375,-0.46875 0.125,-0.5 0.140625,-0.3125 0.671875,-1.21875 1.625,-1.21875 0.453125,0 0.53125,0.375 0.53125,0.703125 0,0.25 -0.0625,0.53125 -0.140625,0.828125 L 3.890625,-1.5 3.6875,-0.75 c -0.03125,0.203125 -0.125,0.546875 -0.125,0.59375 0,0.171875 0.140625,0.265625 0.28125,0.265625 0.3125,0 0.375,-0.25 0.453125,-0.5625 0.140625,-0.5625 0.515625,-2.015625 0.59375,-2.40625 0.03125,-0.125 0.5625,-1.328125 1.65625,-1.328125 0.421875,0 0.53125,0.34375 0.53125,0.703125 0,0.5625 -0.421875,1.703125 -0.625,2.234375 -0.078125,0.234375 -0.125,0.34375 -0.125,0.546875 0,0.46875 0.34375,0.8125 0.8125,0.8125 0.9375,0 1.3125,-1.453125 1.3125,-1.53125 0,-0.109375 -0.09375,-0.109375 -0.125,-0.109375 -0.09375,0 -0.09375,0.03125 -0.140625,0.1875 -0.15625,0.53125 -0.46875,1.234375 -1.015625,1.234375 -0.171875,0 -0.25,-0.09375 -0.25,-0.328125 0,-0.25 0.09375,-0.484375 0.1875,-0.703125 0.1875,-0.53125 0.609375,-1.625 0.609375,-2.203125 0,-0.640625 -0.40625,-1.0625 -1.15625,-1.0625 -0.734375,0 -1.25,0.4375 -1.625,0.96875 0,-0.125 -0.03125,-0.46875 -0.3125,-0.703125 -0.25,-0.21875 -0.5625,-0.265625 -0.8125,-0.265625 -0.90625,0 -1.390625,0.640625 -1.5625,0.875 -0.046875,-0.578125 -0.46875,-0.875 -0.921875,-0.875 -0.453125,0 -0.640625,0.390625 -0.734375,0.5625 -0.171875,0.359375 -0.296875,0.9375 -0.296875,0.96875 0,0.109375 0.09375,0.109375 0.109375,0.109375 0.109375,0 0.109375,-0.015625 0.171875,-0.234375 0.171875,-0.703125 0.375,-1.1875 0.734375,-1.1875 0.15625,0 0.296875,0.078125 0.296875,0.453125 0,0.21875 -0.03125,0.328125 -0.15625,0.84375 z\" id=\"path6380\" inkscape:connector-curvature=\"0\" style=\"stroke:none\"/>\n",
        "          </symbol>\n",
        "          <symbol id=\"textext-b1060afd-2\" overflow=\"visible\" style=\"overflow:visible\">\n",
        "            <path d=\"\" id=\"path6383\" inkscape:connector-curvature=\"0\" style=\"stroke:none\"/>\n",
        "          </symbol>\n",
        "          <symbol id=\"textext-b1060afd-3\" overflow=\"visible\" style=\"overflow:visible\">\n",
        "            <path d=\"m 2.328125,-4.4375 c 0,-0.1875 0,-0.1875 -0.203125,-0.1875 -0.453125,0.4375 -1.078125,0.4375 -1.359375,0.4375 l 0,0.25 c 0.15625,0 0.625,0 1,-0.1875 l 0,3.546875 c 0,0.234375 0,0.328125 -0.6875,0.328125 l -0.265625,0 0,0.25 c 0.125,0 0.984375,-0.03125 1.234375,-0.03125 0.21875,0 1.09375,0.03125 1.25,0.03125 l 0,-0.25 -0.265625,0 c -0.703125,0 -0.703125,-0.09375 -0.703125,-0.328125 z\" id=\"path6386\" inkscape:connector-curvature=\"0\" style=\"stroke:none\"/>\n",
        "          </symbol>\n",
        "        </g>\n",
        "      </defs>\n",
        "      <g id=\"textext-b1060afd-4\">\n",
        "        <g id=\"g6389\" style=\"fill:#000000;fill-opacity:1\">\n",
        "          <use height=\"360\" id=\"use6391\" width=\"360\" x=\"223.43201\" xlink:href=\"#textext-b1060afd-1\" y=\"134.765\"/>\n",
        "        </g>\n",
        "        <g id=\"g6393\" style=\"fill:#000000;fill-opacity:1\">\n",
        "          <use height=\"360\" id=\"use6395\" width=\"360\" x=\"232.179\" xlink:href=\"#textext-b1060afd-3\" y=\"136.259\"/>\n",
        "        </g>\n",
        "      </g>\n",
        "    </g>\n",
        "    <g id=\"g6685\" ns0:preamble=\"\" ns0:text=\"$m_{n+1}$\" transform=\"translate(70.490918,671.0589)\">\n",
        "      <defs id=\"defs6687\">\n",
        "        <g id=\"g6689\">\n",
        "          <symbol id=\"textext-a452b3d5-0\" overflow=\"visible\" style=\"overflow:visible\">\n",
        "            <path d=\"\" id=\"path6692\" inkscape:connector-curvature=\"0\" style=\"stroke:none\"/>\n",
        "          </symbol>\n",
        "          <symbol id=\"textext-a452b3d5-1\" overflow=\"visible\" style=\"overflow:visible\">\n",
        "            <path d=\"m 0.875,-0.59375 c -0.03125,0.15625 -0.09375,0.390625 -0.09375,0.4375 0,0.171875 0.140625,0.265625 0.296875,0.265625 0.125,0 0.296875,-0.078125 0.375,-0.28125 0,-0.015625 0.125,-0.484375 0.1875,-0.734375 l 0.21875,-0.890625 C 1.90625,-2.03125 1.96875,-2.25 2.03125,-2.46875 c 0.03125,-0.171875 0.109375,-0.46875 0.125,-0.5 0.140625,-0.3125 0.671875,-1.21875 1.625,-1.21875 0.453125,0 0.53125,0.375 0.53125,0.703125 0,0.25 -0.0625,0.53125 -0.140625,0.828125 L 3.890625,-1.5 3.6875,-0.75 c -0.03125,0.203125 -0.125,0.546875 -0.125,0.59375 0,0.171875 0.140625,0.265625 0.28125,0.265625 0.3125,0 0.375,-0.25 0.453125,-0.5625 0.140625,-0.5625 0.515625,-2.015625 0.59375,-2.40625 0.03125,-0.125 0.5625,-1.328125 1.65625,-1.328125 0.421875,0 0.53125,0.34375 0.53125,0.703125 0,0.5625 -0.421875,1.703125 -0.625,2.234375 -0.078125,0.234375 -0.125,0.34375 -0.125,0.546875 0,0.46875 0.34375,0.8125 0.8125,0.8125 0.9375,0 1.3125,-1.453125 1.3125,-1.53125 0,-0.109375 -0.09375,-0.109375 -0.125,-0.109375 -0.09375,0 -0.09375,0.03125 -0.140625,0.1875 -0.15625,0.53125 -0.46875,1.234375 -1.015625,1.234375 -0.171875,0 -0.25,-0.09375 -0.25,-0.328125 0,-0.25 0.09375,-0.484375 0.1875,-0.703125 0.1875,-0.53125 0.609375,-1.625 0.609375,-2.203125 0,-0.640625 -0.40625,-1.0625 -1.15625,-1.0625 -0.734375,0 -1.25,0.4375 -1.625,0.96875 0,-0.125 -0.03125,-0.46875 -0.3125,-0.703125 -0.25,-0.21875 -0.5625,-0.265625 -0.8125,-0.265625 -0.90625,0 -1.390625,0.640625 -1.5625,0.875 -0.046875,-0.578125 -0.46875,-0.875 -0.921875,-0.875 -0.453125,0 -0.640625,0.390625 -0.734375,0.5625 -0.171875,0.359375 -0.296875,0.9375 -0.296875,0.96875 0,0.109375 0.09375,0.109375 0.109375,0.109375 0.109375,0 0.109375,-0.015625 0.171875,-0.234375 0.171875,-0.703125 0.375,-1.1875 0.734375,-1.1875 0.15625,0 0.296875,0.078125 0.296875,0.453125 0,0.21875 -0.03125,0.328125 -0.15625,0.84375 z\" id=\"path6695\" inkscape:connector-curvature=\"0\" style=\"stroke:none\"/>\n",
        "          </symbol>\n",
        "          <symbol id=\"textext-a452b3d5-2\" overflow=\"visible\" style=\"overflow:visible\">\n",
        "            <path d=\"\" id=\"path6698\" inkscape:connector-curvature=\"0\" style=\"stroke:none\"/>\n",
        "          </symbol>\n",
        "          <symbol id=\"textext-a452b3d5-3\" overflow=\"visible\" style=\"overflow:visible\">\n",
        "            <path d=\"m 0.84375,-0.4375 c -0.015625,0.09375 -0.0625,0.265625 -0.0625,0.28125 0,0.15625 0.125,0.21875 0.234375,0.21875 0.125,0 0.234375,-0.078125 0.28125,-0.140625 0.03125,-0.0625 0.078125,-0.296875 0.125,-0.4375 0.03125,-0.125 0.109375,-0.453125 0.140625,-0.625 0.046875,-0.15625 0.09375,-0.3125 0.125,-0.46875 0.078125,-0.28125 0.09375,-0.34375 0.296875,-0.625 C 2.171875,-2.515625 2.5,-2.875 3.03125,-2.875 c 0.390625,0 0.40625,0.359375 0.40625,0.484375 0,0.421875 -0.296875,1.1875 -0.40625,1.484375 -0.078125,0.203125 -0.109375,0.265625 -0.109375,0.375 0,0.375 0.296875,0.59375 0.65625,0.59375 0.703125,0 1,-0.953125 1,-1.0625 0,-0.09375 -0.078125,-0.09375 -0.109375,-0.09375 -0.09375,0 -0.09375,0.046875 -0.125,0.125 C 4.1875,-0.40625 3.875,-0.125 3.609375,-0.125 c -0.15625,0 -0.1875,-0.09375 -0.1875,-0.25 0,-0.15625 0.046875,-0.25 0.171875,-0.5625 0.078125,-0.21875 0.359375,-0.953125 0.359375,-1.34375 0,-0.671875 -0.53125,-0.796875 -0.90625,-0.796875 -0.578125,0 -0.96875,0.359375 -1.171875,0.640625 -0.046875,-0.484375 -0.453125,-0.640625 -0.75,-0.640625 -0.296875,0 -0.453125,0.21875 -0.546875,0.375 -0.15625,0.265625 -0.25,0.65625 -0.25,0.703125 0,0.078125 0.09375,0.078125 0.125,0.078125 0.09375,0 0.09375,-0.015625 0.140625,-0.203125 0.109375,-0.40625 0.25,-0.75 0.515625,-0.75 0.1875,0 0.234375,0.15625 0.234375,0.34375 0,0.125 -0.0625,0.390625 -0.125,0.578125 -0.046875,0.1875 -0.109375,0.46875 -0.140625,0.625 z\" id=\"path6701\" inkscape:connector-curvature=\"0\" style=\"stroke:none\"/>\n",
        "          </symbol>\n",
        "          <symbol id=\"textext-a452b3d5-4\" overflow=\"visible\" style=\"overflow:visible\">\n",
        "            <path d=\"\" id=\"path6704\" inkscape:connector-curvature=\"0\" style=\"stroke:none\"/>\n",
        "          </symbol>\n",
        "          <symbol id=\"textext-a452b3d5-5\" overflow=\"visible\" style=\"overflow:visible\">\n",
        "            <path d=\"m 3.21875,-1.578125 2.140625,0 c 0.09375,0 0.25,0 0.25,-0.15625 0,-0.1875 -0.15625,-0.1875 -0.25,-0.1875 l -2.140625,0 0,-2.140625 c 0,-0.078125 0,-0.25 -0.15625,-0.25 -0.171875,0 -0.171875,0.15625 -0.171875,0.25 l 0,2.140625 -2.140625,0 c -0.09375,0 -0.265625,0 -0.265625,0.171875 0,0.171875 0.15625,0.171875 0.265625,0.171875 l 2.140625,0 0,2.140625 c 0,0.09375 0,0.265625 0.15625,0.265625 0.171875,0 0.171875,-0.171875 0.171875,-0.265625 z\" id=\"path6707\" inkscape:connector-curvature=\"0\" style=\"stroke:none\"/>\n",
        "          </symbol>\n",
        "          <symbol id=\"textext-a452b3d5-6\" overflow=\"visible\" style=\"overflow:visible\">\n",
        "            <path d=\"m 2.328125,-4.4375 c 0,-0.1875 0,-0.1875 -0.203125,-0.1875 -0.453125,0.4375 -1.078125,0.4375 -1.359375,0.4375 l 0,0.25 c 0.15625,0 0.625,0 1,-0.1875 l 0,3.546875 c 0,0.234375 0,0.328125 -0.6875,0.328125 l -0.265625,0 0,0.25 c 0.125,0 0.984375,-0.03125 1.234375,-0.03125 0.21875,0 1.09375,0.03125 1.25,0.03125 l 0,-0.25 -0.265625,0 c -0.703125,0 -0.703125,-0.09375 -0.703125,-0.328125 z\" id=\"path6710\" inkscape:connector-curvature=\"0\" style=\"stroke:none\"/>\n",
        "          </symbol>\n",
        "        </g>\n",
        "      </defs>\n",
        "      <g id=\"textext-a452b3d5-7\">\n",
        "        <g id=\"g6713\" style=\"fill:#000000;fill-opacity:1\">\n",
        "          <use height=\"360\" id=\"use6715\" width=\"360\" x=\"223.43201\" xlink:href=\"#textext-a452b3d5-1\" y=\"134.765\"/>\n",
        "        </g>\n",
        "        <g id=\"g6717\" style=\"fill:#000000;fill-opacity:1\">\n",
        "          <use height=\"360\" id=\"use6719\" width=\"360\" x=\"232.179\" xlink:href=\"#textext-a452b3d5-3\" y=\"136.259\"/>\n",
        "        </g>\n",
        "        <g id=\"g6721\" style=\"fill:#000000;fill-opacity:1\">\n",
        "          <use height=\"360\" id=\"use6723\" width=\"360\" x=\"237.104\" xlink:href=\"#textext-a452b3d5-5\" y=\"136.259\"/>\n",
        "          <use height=\"360\" id=\"use6725\" width=\"360\" x=\"243.22002\" xlink:href=\"#textext-a452b3d5-6\" y=\"136.259\"/>\n",
        "        </g>\n",
        "      </g>\n",
        "    </g>\n",
        "    <g id=\"g7065\" ns0:preamble=\"\" ns0:text=\"$m_n$\" transform=\"translate(62.8449,755.1651)\">\n",
        "      <defs id=\"defs7067\">\n",
        "        <g id=\"g7069\">\n",
        "          <symbol id=\"textext-c4d0d8e4-0\" overflow=\"visible\" style=\"overflow:visible\">\n",
        "            <path d=\"\" id=\"path7072\" inkscape:connector-curvature=\"0\" style=\"stroke:none\"/>\n",
        "          </symbol>\n",
        "          <symbol id=\"textext-c4d0d8e4-1\" overflow=\"visible\" style=\"overflow:visible\">\n",
        "            <path d=\"m 0.875,-0.59375 c -0.03125,0.15625 -0.09375,0.390625 -0.09375,0.4375 0,0.171875 0.140625,0.265625 0.296875,0.265625 0.125,0 0.296875,-0.078125 0.375,-0.28125 0,-0.015625 0.125,-0.484375 0.1875,-0.734375 l 0.21875,-0.890625 C 1.90625,-2.03125 1.96875,-2.25 2.03125,-2.46875 c 0.03125,-0.171875 0.109375,-0.46875 0.125,-0.5 0.140625,-0.3125 0.671875,-1.21875 1.625,-1.21875 0.453125,0 0.53125,0.375 0.53125,0.703125 0,0.25 -0.0625,0.53125 -0.140625,0.828125 L 3.890625,-1.5 3.6875,-0.75 c -0.03125,0.203125 -0.125,0.546875 -0.125,0.59375 0,0.171875 0.140625,0.265625 0.28125,0.265625 0.3125,0 0.375,-0.25 0.453125,-0.5625 0.140625,-0.5625 0.515625,-2.015625 0.59375,-2.40625 0.03125,-0.125 0.5625,-1.328125 1.65625,-1.328125 0.421875,0 0.53125,0.34375 0.53125,0.703125 0,0.5625 -0.421875,1.703125 -0.625,2.234375 -0.078125,0.234375 -0.125,0.34375 -0.125,0.546875 0,0.46875 0.34375,0.8125 0.8125,0.8125 0.9375,0 1.3125,-1.453125 1.3125,-1.53125 0,-0.109375 -0.09375,-0.109375 -0.125,-0.109375 -0.09375,0 -0.09375,0.03125 -0.140625,0.1875 -0.15625,0.53125 -0.46875,1.234375 -1.015625,1.234375 -0.171875,0 -0.25,-0.09375 -0.25,-0.328125 0,-0.25 0.09375,-0.484375 0.1875,-0.703125 0.1875,-0.53125 0.609375,-1.625 0.609375,-2.203125 0,-0.640625 -0.40625,-1.0625 -1.15625,-1.0625 -0.734375,0 -1.25,0.4375 -1.625,0.96875 0,-0.125 -0.03125,-0.46875 -0.3125,-0.703125 -0.25,-0.21875 -0.5625,-0.265625 -0.8125,-0.265625 -0.90625,0 -1.390625,0.640625 -1.5625,0.875 -0.046875,-0.578125 -0.46875,-0.875 -0.921875,-0.875 -0.453125,0 -0.640625,0.390625 -0.734375,0.5625 -0.171875,0.359375 -0.296875,0.9375 -0.296875,0.96875 0,0.109375 0.09375,0.109375 0.109375,0.109375 0.109375,0 0.109375,-0.015625 0.171875,-0.234375 0.171875,-0.703125 0.375,-1.1875 0.734375,-1.1875 0.15625,0 0.296875,0.078125 0.296875,0.453125 0,0.21875 -0.03125,0.328125 -0.15625,0.84375 z\" id=\"path7075\" inkscape:connector-curvature=\"0\" style=\"stroke:none\"/>\n",
        "          </symbol>\n",
        "          <symbol id=\"textext-c4d0d8e4-2\" overflow=\"visible\" style=\"overflow:visible\">\n",
        "            <path d=\"\" id=\"path7078\" inkscape:connector-curvature=\"0\" style=\"stroke:none\"/>\n",
        "          </symbol>\n",
        "          <symbol id=\"textext-c4d0d8e4-3\" overflow=\"visible\" style=\"overflow:visible\">\n",
        "            <path d=\"m 0.84375,-0.4375 c -0.015625,0.09375 -0.0625,0.265625 -0.0625,0.28125 0,0.15625 0.125,0.21875 0.234375,0.21875 0.125,0 0.234375,-0.078125 0.28125,-0.140625 0.03125,-0.0625 0.078125,-0.296875 0.125,-0.4375 0.03125,-0.125 0.109375,-0.453125 0.140625,-0.625 0.046875,-0.15625 0.09375,-0.3125 0.125,-0.46875 0.078125,-0.28125 0.09375,-0.34375 0.296875,-0.625 C 2.171875,-2.515625 2.5,-2.875 3.03125,-2.875 c 0.390625,0 0.40625,0.359375 0.40625,0.484375 0,0.421875 -0.296875,1.1875 -0.40625,1.484375 -0.078125,0.203125 -0.109375,0.265625 -0.109375,0.375 0,0.375 0.296875,0.59375 0.65625,0.59375 0.703125,0 1,-0.953125 1,-1.0625 0,-0.09375 -0.078125,-0.09375 -0.109375,-0.09375 -0.09375,0 -0.09375,0.046875 -0.125,0.125 C 4.1875,-0.40625 3.875,-0.125 3.609375,-0.125 c -0.15625,0 -0.1875,-0.09375 -0.1875,-0.25 0,-0.15625 0.046875,-0.25 0.171875,-0.5625 0.078125,-0.21875 0.359375,-0.953125 0.359375,-1.34375 0,-0.671875 -0.53125,-0.796875 -0.90625,-0.796875 -0.578125,0 -0.96875,0.359375 -1.171875,0.640625 -0.046875,-0.484375 -0.453125,-0.640625 -0.75,-0.640625 -0.296875,0 -0.453125,0.21875 -0.546875,0.375 -0.15625,0.265625 -0.25,0.65625 -0.25,0.703125 0,0.078125 0.09375,0.078125 0.125,0.078125 0.09375,0 0.09375,-0.015625 0.140625,-0.203125 0.109375,-0.40625 0.25,-0.75 0.515625,-0.75 0.1875,0 0.234375,0.15625 0.234375,0.34375 0,0.125 -0.0625,0.390625 -0.125,0.578125 -0.046875,0.1875 -0.109375,0.46875 -0.140625,0.625 z\" id=\"path7081\" inkscape:connector-curvature=\"0\" style=\"stroke:none\"/>\n",
        "          </symbol>\n",
        "        </g>\n",
        "      </defs>\n",
        "      <g id=\"textext-c4d0d8e4-4\">\n",
        "        <g id=\"g7084\" style=\"fill:#000000;fill-opacity:1\">\n",
        "          <use height=\"360\" id=\"use7086\" width=\"360\" x=\"223.43201\" xlink:href=\"#textext-c4d0d8e4-1\" y=\"134.765\"/>\n",
        "        </g>\n",
        "        <g id=\"g7088\" style=\"fill:#000000;fill-opacity:1\">\n",
        "          <use height=\"360\" id=\"use7090\" width=\"360\" x=\"232.179\" xlink:href=\"#textext-c4d0d8e4-3\" y=\"136.259\"/>\n",
        "        </g>\n",
        "      </g>\n",
        "    </g>\n",
        "    <path d=\"m 23.504425,1008.7314 0,28.6726\" id=\"path7276\" inkscape:connector-curvature=\"0\" style=\"fill:none;stroke:#000000;stroke-width:1px;stroke-linecap:butt;stroke-linejoin:miter;stroke-opacity:1\"/>\n",
        "    <path d=\"m 181.8938,1016.7491 0,20.2508\" id=\"path7276-2\" inkscape:connector-curvature=\"0\" sodipodi:nodetypes=\"cc\" style=\"fill:none;stroke:#000000;stroke-width:1px;stroke-linecap:butt;stroke-linejoin:miter;stroke-opacity:1\"/>\n",
        "    <path d=\"m 23.504425,1032.289 65.391323,0\" id=\"path7296\" inkscape:connector-curvature=\"0\" sodipodi:nodetypes=\"cc\" style=\"fill:none;stroke:#000000;stroke-width:1px;stroke-linecap:butt;stroke-linejoin:miter;stroke-opacity:1;marker-start:none\"/>\n",
        "    <path d=\"m 111.93207,1032.2889 67.87637,0\" id=\"path7298\" inkscape:connector-curvature=\"0\" sodipodi:nodetypes=\"cc\" style=\"fill:none;stroke:#000000;stroke-width:1px;stroke-linecap:butt;stroke-linejoin:miter;stroke-opacity:1;marker-end:url(#Arrow1Send)\"/>\n",
        "    <g id=\"g8966\" ns0:preamble=\"\" ns0:text=\"$\\\\hat{i}_x$\" transform=\"translate(-149.30401,880.3294)\">\n",
        "      <defs id=\"defs8968\">\n",
        "        <g id=\"g8970\">\n",
        "          <symbol id=\"textext-77f6b85a-0\" overflow=\"visible\" style=\"overflow:visible\">\n",
        "            <path d=\"\" id=\"path8973\" inkscape:connector-curvature=\"0\" style=\"stroke:none\"/>\n",
        "          </symbol>\n",
        "          <symbol id=\"textext-77f6b85a-1\" overflow=\"visible\" style=\"overflow:visible\">\n",
        "            <path d=\"M 2.5,-6.921875 1.15625,-5.5625 1.328125,-5.390625 2.5,-6.40625 3.640625,-5.390625 3.8125,-5.5625 z\" id=\"path8976\" inkscape:connector-curvature=\"0\" style=\"stroke:none\"/>\n",
        "          </symbol>\n",
        "          <symbol id=\"textext-77f6b85a-2\" overflow=\"visible\" style=\"overflow:visible\">\n",
        "            <path d=\"\" id=\"path8979\" inkscape:connector-curvature=\"0\" style=\"stroke:none\"/>\n",
        "          </symbol>\n",
        "          <symbol id=\"textext-77f6b85a-3\" overflow=\"visible\" style=\"overflow:visible\">\n",
        "            <path d=\"m 2.828125,-6.234375 c 0,-0.203125 -0.140625,-0.359375 -0.359375,-0.359375 -0.28125,0 -0.546875,0.265625 -0.546875,0.53125 0,0.1875 0.140625,0.359375 0.375,0.359375 0.234375,0 0.53125,-0.234375 0.53125,-0.53125 z m -0.75,3.75 c 0.109375,-0.28125 0.109375,-0.3125 0.21875,-0.578125 0.078125,-0.203125 0.125,-0.34375 0.125,-0.53125 0,-0.4375 -0.3125,-0.8125 -0.8125,-0.8125 -0.9375,0 -1.3125,1.453125 -1.3125,1.53125 0,0.109375 0.09375,0.109375 0.109375,0.109375 0.109375,0 0.109375,-0.03125 0.15625,-0.1875 0.28125,-0.9375 0.671875,-1.234375 1.015625,-1.234375 0.078125,0 0.25,0 0.25,0.3125 0,0.21875 -0.078125,0.421875 -0.109375,0.53125 -0.078125,0.25 -0.53125,1.40625 -0.6875,1.84375 -0.109375,0.25 -0.234375,0.578125 -0.234375,0.796875 0,0.46875 0.34375,0.8125 0.8125,0.8125 0.9375,0 1.3125,-1.4375 1.3125,-1.53125 0,-0.109375 -0.09375,-0.109375 -0.125,-0.109375 -0.09375,0 -0.09375,0.03125 -0.140625,0.1875 -0.1875,0.625 -0.515625,1.234375 -1.015625,1.234375 -0.171875,0 -0.25,-0.09375 -0.25,-0.328125 0,-0.25 0.0625,-0.390625 0.296875,-1 z\" id=\"path8982\" inkscape:connector-curvature=\"0\" style=\"stroke:none\"/>\n",
        "          </symbol>\n",
        "          <symbol id=\"textext-77f6b85a-4\" overflow=\"visible\" style=\"overflow:visible\">\n",
        "            <path d=\"\" id=\"path8985\" inkscape:connector-curvature=\"0\" style=\"stroke:none\"/>\n",
        "          </symbol>\n",
        "          <symbol id=\"textext-77f6b85a-5\" overflow=\"visible\" style=\"overflow:visible\">\n",
        "            <path d=\"M 1.734375,-0.734375 C 1.671875,-0.5 1.4375,-0.125 1.078125,-0.125 c -0.015625,0 -0.234375,0 -0.375,-0.09375 0.28125,-0.09375 0.3125,-0.34375 0.3125,-0.390625 0,-0.15625 -0.125,-0.25 -0.28125,-0.25 -0.203125,0 -0.40625,0.15625 -0.40625,0.421875 0,0.34375 0.390625,0.5 0.734375,0.5 0.328125,0 0.609375,-0.1875 0.78125,-0.484375 C 2.015625,-0.0625 2.390625,0.0625 2.671875,0.0625 c 0.8125,0 1.234375,-0.859375 1.234375,-1.0625 0,-0.09375 -0.09375,-0.09375 -0.109375,-0.09375 -0.109375,0 -0.109375,0.046875 -0.140625,0.125 -0.140625,0.484375 -0.5625,0.84375 -0.953125,0.84375 -0.28125,0 -0.421875,-0.1875 -0.421875,-0.453125 0,-0.1875 0.171875,-0.8125 0.359375,-1.59375 C 2.78125,-2.703125 3.09375,-2.875 3.328125,-2.875 c 0.015625,0 0.21875,0 0.375,0.09375 -0.21875,0.0625 -0.3125,0.265625 -0.3125,0.390625 0,0.140625 0.125,0.25 0.28125,0.25 0.15625,0 0.390625,-0.125 0.390625,-0.421875 0,-0.390625 -0.453125,-0.515625 -0.71875,-0.515625 -0.359375,0 -0.640625,0.234375 -0.78125,0.5 -0.125,-0.28125 -0.453125,-0.5 -0.84375,-0.5 C 0.9375,-3.078125 0.5,-2.21875 0.5,-2 c 0,0.078125 0.09375,0.078125 0.109375,0.078125 0.09375,0 0.09375,-0.015625 0.140625,-0.109375 C 0.921875,-2.578125 1.359375,-2.875 1.703125,-2.875 1.9375,-2.875 2.125,-2.75 2.125,-2.421875 2.125,-2.28125 2.03125,-1.9375 1.96875,-1.6875 z\" id=\"path8988\" inkscape:connector-curvature=\"0\" style=\"stroke:none\"/>\n",
        "          </symbol>\n",
        "        </g>\n",
        "      </defs>\n",
        "      <g id=\"textext-77f6b85a-6\">\n",
        "        <g id=\"g8991\" style=\"fill:#000000;fill-opacity:1\">\n",
        "          <use height=\"360\" id=\"use8993\" width=\"360\" x=\"222.658\" xlink:href=\"#textext-77f6b85a-1\" y=\"132.483\"/>\n",
        "        </g>\n",
        "        <g id=\"g8995\" style=\"fill:#000000;fill-opacity:1\">\n",
        "          <use height=\"360\" id=\"use8997\" width=\"360\" x=\"223.43201\" xlink:href=\"#textext-77f6b85a-3\" y=\"134.765\"/>\n",
        "        </g>\n",
        "        <g id=\"g8999\" style=\"fill:#000000;fill-opacity:1\">\n",
        "          <use height=\"360\" id=\"use9001\" width=\"360\" x=\"226.864\" xlink:href=\"#textext-77f6b85a-5\" y=\"136.259\"/>\n",
        "        </g>\n",
        "      </g>\n",
        "    </g>\n",
        "    <g id=\"g9445\" ns0:preamble=\"\" ns0:text=\"$\\\\hat{i}_y$\" transform=\"translate(-212.38366,815.97542)\">\n",
        "      <defs id=\"defs9447\">\n",
        "        <g id=\"g9449\">\n",
        "          <symbol id=\"textext-9fe1e674-0\" overflow=\"visible\" style=\"overflow:visible\">\n",
        "            <path d=\"\" id=\"path9452\" inkscape:connector-curvature=\"0\" style=\"stroke:none\"/>\n",
        "          </symbol>\n",
        "          <symbol id=\"textext-9fe1e674-1\" overflow=\"visible\" style=\"overflow:visible\">\n",
        "            <path d=\"M 2.5,-6.921875 1.15625,-5.5625 1.328125,-5.390625 2.5,-6.40625 3.640625,-5.390625 3.8125,-5.5625 z\" id=\"path9455\" inkscape:connector-curvature=\"0\" style=\"stroke:none\"/>\n",
        "          </symbol>\n",
        "          <symbol id=\"textext-9fe1e674-2\" overflow=\"visible\" style=\"overflow:visible\">\n",
        "            <path d=\"\" id=\"path9458\" inkscape:connector-curvature=\"0\" style=\"stroke:none\"/>\n",
        "          </symbol>\n",
        "          <symbol id=\"textext-9fe1e674-3\" overflow=\"visible\" style=\"overflow:visible\">\n",
        "            <path d=\"m 2.828125,-6.234375 c 0,-0.203125 -0.140625,-0.359375 -0.359375,-0.359375 -0.28125,0 -0.546875,0.265625 -0.546875,0.53125 0,0.1875 0.140625,0.359375 0.375,0.359375 0.234375,0 0.53125,-0.234375 0.53125,-0.53125 z m -0.75,3.75 c 0.109375,-0.28125 0.109375,-0.3125 0.21875,-0.578125 0.078125,-0.203125 0.125,-0.34375 0.125,-0.53125 0,-0.4375 -0.3125,-0.8125 -0.8125,-0.8125 -0.9375,0 -1.3125,1.453125 -1.3125,1.53125 0,0.109375 0.09375,0.109375 0.109375,0.109375 0.109375,0 0.109375,-0.03125 0.15625,-0.1875 0.28125,-0.9375 0.671875,-1.234375 1.015625,-1.234375 0.078125,0 0.25,0 0.25,0.3125 0,0.21875 -0.078125,0.421875 -0.109375,0.53125 -0.078125,0.25 -0.53125,1.40625 -0.6875,1.84375 -0.109375,0.25 -0.234375,0.578125 -0.234375,0.796875 0,0.46875 0.34375,0.8125 0.8125,0.8125 0.9375,0 1.3125,-1.4375 1.3125,-1.53125 0,-0.109375 -0.09375,-0.109375 -0.125,-0.109375 -0.09375,0 -0.09375,0.03125 -0.140625,0.1875 -0.1875,0.625 -0.515625,1.234375 -1.015625,1.234375 -0.171875,0 -0.25,-0.09375 -0.25,-0.328125 0,-0.25 0.0625,-0.390625 0.296875,-1 z\" id=\"path9461\" inkscape:connector-curvature=\"0\" style=\"stroke:none\"/>\n",
        "          </symbol>\n",
        "          <symbol id=\"textext-9fe1e674-4\" overflow=\"visible\" style=\"overflow:visible\">\n",
        "            <path d=\"\" id=\"path9464\" inkscape:connector-curvature=\"0\" style=\"stroke:none\"/>\n",
        "          </symbol>\n",
        "          <symbol id=\"textext-9fe1e674-5\" overflow=\"visible\" style=\"overflow:visible\">\n",
        "            <path d=\"M 3.875,-2.625 C 3.90625,-2.71875 3.90625,-2.734375 3.90625,-2.78125 3.90625,-2.921875 3.796875,-3 3.671875,-3 3.59375,-3 3.46875,-2.96875 3.390625,-2.84375 3.359375,-2.796875 3.3125,-2.578125 3.28125,-2.4375 L 3.125,-1.859375 c -0.03125,0.171875 -0.25,1.046875 -0.28125,1.125 0,0 -0.3125,0.609375 -0.84375,0.609375 -0.484375,0 -0.484375,-0.453125 -0.484375,-0.578125 0,-0.375 0.15625,-0.8125 0.375,-1.359375 C 1.96875,-2.28125 2,-2.359375 2,-2.484375 2,-2.8125 1.71875,-3.078125 1.34375,-3.078125 0.640625,-3.078125 0.328125,-2.125 0.328125,-2 c 0,0.078125 0.09375,0.078125 0.125,0.078125 0.09375,0 0.09375,-0.03125 0.125,-0.109375 C 0.75,-2.609375 1.046875,-2.875 1.328125,-2.875 1.4375,-2.875 1.5,-2.796875 1.5,-2.640625 c 0,0.171875 -0.0625,0.3125 -0.09375,0.40625 C 1.0625,-1.375 1,-1.125 1,-0.8125 1,-0.703125 1,-0.375 1.265625,-0.140625 1.484375,0.03125 1.78125,0.0625 1.96875,0.0625 2.25,0.0625 2.5,-0.03125 2.71875,-0.25 2.640625,0.140625 2.5625,0.4375 2.265625,0.78125 2.078125,1 1.796875,1.21875 1.421875,1.21875 c -0.046875,0 -0.375,0 -0.515625,-0.21875 0.375,-0.046875 0.375,-0.375 0.375,-0.390625 0,-0.21875 -0.203125,-0.265625 -0.265625,-0.265625 -0.171875,0 -0.40625,0.140625 -0.40625,0.46875 0,0.34375 0.328125,0.609375 0.828125,0.609375 C 2.140625,1.421875 3,0.875 3.21875,0 z\" id=\"path9467\" inkscape:connector-curvature=\"0\" style=\"stroke:none\"/>\n",
        "          </symbol>\n",
        "        </g>\n",
        "      </defs>\n",
        "      <g id=\"textext-9fe1e674-6\">\n",
        "        <g id=\"g9470\" style=\"fill:#000000;fill-opacity:1\">\n",
        "          <use height=\"360\" id=\"use9472\" width=\"360\" x=\"222.658\" xlink:href=\"#textext-9fe1e674-1\" y=\"132.483\"/>\n",
        "        </g>\n",
        "        <g id=\"g9474\" style=\"fill:#000000;fill-opacity:1\">\n",
        "          <use height=\"360\" id=\"use9476\" width=\"360\" x=\"223.43201\" xlink:href=\"#textext-9fe1e674-3\" y=\"134.765\"/>\n",
        "        </g>\n",
        "        <g id=\"g9478\" style=\"fill:#000000;fill-opacity:1\">\n",
        "          <use height=\"360\" id=\"use9480\" width=\"360\" x=\"226.864\" xlink:href=\"#textext-9fe1e674-5\" y=\"136.259\"/>\n",
        "        </g>\n",
        "      </g>\n",
        "    </g>\n",
        "    <g id=\"g10006\" ns0:preamble=\"\" ns0:text=\"$l_0$\" transform=\"translate(-15.77207,838.3967)\">\n",
        "      <defs id=\"defs10008\">\n",
        "        <g id=\"g10010\">\n",
        "          <symbol id=\"textext-03c909df-0\" overflow=\"visible\" style=\"overflow:visible\">\n",
        "            <path d=\"\" id=\"path10013\" inkscape:connector-curvature=\"0\" style=\"stroke:none\"/>\n",
        "          </symbol>\n",
        "          <symbol id=\"textext-03c909df-1\" overflow=\"visible\" style=\"overflow:visible\">\n",
        "            <path d=\"m 2.578125,-6.8125 c 0,0 0,-0.109375 -0.140625,-0.109375 -0.21875,0 -0.953125,0.078125 -1.21875,0.109375 -0.078125,0 -0.1875,0.015625 -0.1875,0.203125 0,0.109375 0.109375,0.109375 0.25,0.109375 0.484375,0 0.5,0.09375 0.5,0.171875 L 1.75,-6.125 0.484375,-1.140625 C 0.453125,-1.03125 0.4375,-0.96875 0.4375,-0.8125 c 0,0.578125 0.4375,0.921875 0.90625,0.921875 0.328125,0 0.578125,-0.203125 0.75,-0.5625 0.171875,-0.375 0.296875,-0.953125 0.296875,-0.96875 0,-0.109375 -0.09375,-0.109375 -0.125,-0.109375 -0.09375,0 -0.109375,0.046875 -0.125,0.1875 C 1.96875,-0.703125 1.78125,-0.109375 1.375,-0.109375 c -0.296875,0 -0.296875,-0.3125 -0.296875,-0.453125 0,-0.25 0.015625,-0.296875 0.0625,-0.484375 z\" id=\"path10016\" inkscape:connector-curvature=\"0\" style=\"stroke:none\"/>\n",
        "          </symbol>\n",
        "          <symbol id=\"textext-03c909df-2\" overflow=\"visible\" style=\"overflow:visible\">\n",
        "            <path d=\"\" id=\"path10019\" inkscape:connector-curvature=\"0\" style=\"stroke:none\"/>\n",
        "          </symbol>\n",
        "          <symbol id=\"textext-03c909df-3\" overflow=\"visible\" style=\"overflow:visible\">\n",
        "            <path d=\"M 3.59375,-2.21875 C 3.59375,-2.984375 3.5,-3.546875 3.1875,-4.03125 2.96875,-4.34375 2.53125,-4.625 1.984375,-4.625 c -1.625,0 -1.625,1.90625 -1.625,2.40625 0,0.5 0,2.359375 1.625,2.359375 1.609375,0 1.609375,-1.859375 1.609375,-2.359375 z M 1.984375,-0.0625 c -0.328125,0 -0.75,-0.1875 -0.890625,-0.75 C 1,-1.21875 1,-1.796875 1,-2.3125 1,-2.828125 1,-3.359375 1.09375,-3.734375 1.25,-4.28125 1.6875,-4.4375 1.984375,-4.4375 c 0.375,0 0.734375,0.234375 0.859375,0.640625 0.109375,0.375 0.125,0.875 0.125,1.484375 0,0.515625 0,1.03125 -0.09375,1.46875 -0.140625,0.640625 -0.609375,0.78125 -0.890625,0.78125 z\" id=\"path10022\" inkscape:connector-curvature=\"0\" style=\"stroke:none\"/>\n",
        "          </symbol>\n",
        "        </g>\n",
        "      </defs>\n",
        "      <g id=\"textext-03c909df-4\">\n",
        "        <g id=\"g10025\" style=\"fill:#000000;fill-opacity:1\">\n",
        "          <use height=\"360\" id=\"use10027\" width=\"360\" x=\"223.43201\" xlink:href=\"#textext-03c909df-1\" y=\"134.765\"/>\n",
        "        </g>\n",
        "        <g id=\"g10029\" style=\"fill:#000000;fill-opacity:1\">\n",
        "          <use height=\"360\" id=\"use10031\" width=\"360\" x=\"226.405\" xlink:href=\"#textext-03c909df-3\" y=\"136.259\"/>\n",
        "        </g>\n",
        "      </g>\n",
        "    </g>\n",
        "    <g id=\"g10535\" ns0:preamble=\"\" ns0:text=\"$l_1$\" transform=\"translate(44.121736,785.51174)\">\n",
        "      <defs id=\"defs10537\">\n",
        "        <g id=\"g10539\">\n",
        "          <symbol id=\"textext-76adb4f4-0\" overflow=\"visible\" style=\"overflow:visible\">\n",
        "            <path d=\"\" id=\"path10542\" inkscape:connector-curvature=\"0\" style=\"stroke:none\"/>\n",
        "          </symbol>\n",
        "          <symbol id=\"textext-76adb4f4-1\" overflow=\"visible\" style=\"overflow:visible\">\n",
        "            <path d=\"m 2.578125,-6.8125 c 0,0 0,-0.109375 -0.140625,-0.109375 -0.21875,0 -0.953125,0.078125 -1.21875,0.109375 -0.078125,0 -0.1875,0.015625 -0.1875,0.203125 0,0.109375 0.109375,0.109375 0.25,0.109375 0.484375,0 0.5,0.09375 0.5,0.171875 L 1.75,-6.125 0.484375,-1.140625 C 0.453125,-1.03125 0.4375,-0.96875 0.4375,-0.8125 c 0,0.578125 0.4375,0.921875 0.90625,0.921875 0.328125,0 0.578125,-0.203125 0.75,-0.5625 0.171875,-0.375 0.296875,-0.953125 0.296875,-0.96875 0,-0.109375 -0.09375,-0.109375 -0.125,-0.109375 -0.09375,0 -0.109375,0.046875 -0.125,0.1875 C 1.96875,-0.703125 1.78125,-0.109375 1.375,-0.109375 c -0.296875,0 -0.296875,-0.3125 -0.296875,-0.453125 0,-0.25 0.015625,-0.296875 0.0625,-0.484375 z\" id=\"path10545\" inkscape:connector-curvature=\"0\" style=\"stroke:none\"/>\n",
        "          </symbol>\n",
        "          <symbol id=\"textext-76adb4f4-2\" overflow=\"visible\" style=\"overflow:visible\">\n",
        "            <path d=\"\" id=\"path10548\" inkscape:connector-curvature=\"0\" style=\"stroke:none\"/>\n",
        "          </symbol>\n",
        "          <symbol id=\"textext-76adb4f4-3\" overflow=\"visible\" style=\"overflow:visible\">\n",
        "            <path d=\"m 2.328125,-4.4375 c 0,-0.1875 0,-0.1875 -0.203125,-0.1875 -0.453125,0.4375 -1.078125,0.4375 -1.359375,0.4375 l 0,0.25 c 0.15625,0 0.625,0 1,-0.1875 l 0,3.546875 c 0,0.234375 0,0.328125 -0.6875,0.328125 l -0.265625,0 0,0.25 c 0.125,0 0.984375,-0.03125 1.234375,-0.03125 0.21875,0 1.09375,0.03125 1.25,0.03125 l 0,-0.25 -0.265625,0 c -0.703125,0 -0.703125,-0.09375 -0.703125,-0.328125 z\" id=\"path10551\" inkscape:connector-curvature=\"0\" style=\"stroke:none\"/>\n",
        "          </symbol>\n",
        "        </g>\n",
        "      </defs>\n",
        "      <g id=\"textext-76adb4f4-4\">\n",
        "        <g id=\"g10554\" style=\"fill:#000000;fill-opacity:1\">\n",
        "          <use height=\"360\" id=\"use10556\" width=\"360\" x=\"223.43201\" xlink:href=\"#textext-76adb4f4-1\" y=\"134.765\"/>\n",
        "        </g>\n",
        "        <g id=\"g10558\" style=\"fill:#000000;fill-opacity:1\">\n",
        "          <use height=\"360\" id=\"use10560\" width=\"360\" x=\"226.405\" xlink:href=\"#textext-76adb4f4-3\" y=\"136.259\"/>\n",
        "        </g>\n",
        "      </g>\n",
        "    </g>\n",
        "    <g id=\"g11096\" ns0:preamble=\"\" ns0:text=\"$l_n$\" transform=\"translate(79.165983,714.14892)\">\n",
        "      <defs id=\"defs11098\">\n",
        "        <g id=\"g11100\">\n",
        "          <symbol id=\"textext-a3e54763-0\" overflow=\"visible\" style=\"overflow:visible\">\n",
        "            <path d=\"\" id=\"path11103\" inkscape:connector-curvature=\"0\" style=\"stroke:none\"/>\n",
        "          </symbol>\n",
        "          <symbol id=\"textext-a3e54763-1\" overflow=\"visible\" style=\"overflow:visible\">\n",
        "            <path d=\"m 2.578125,-6.8125 c 0,0 0,-0.109375 -0.140625,-0.109375 -0.21875,0 -0.953125,0.078125 -1.21875,0.109375 -0.078125,0 -0.1875,0.015625 -0.1875,0.203125 0,0.109375 0.109375,0.109375 0.25,0.109375 0.484375,0 0.5,0.09375 0.5,0.171875 L 1.75,-6.125 0.484375,-1.140625 C 0.453125,-1.03125 0.4375,-0.96875 0.4375,-0.8125 c 0,0.578125 0.4375,0.921875 0.90625,0.921875 0.328125,0 0.578125,-0.203125 0.75,-0.5625 0.171875,-0.375 0.296875,-0.953125 0.296875,-0.96875 0,-0.109375 -0.09375,-0.109375 -0.125,-0.109375 -0.09375,0 -0.109375,0.046875 -0.125,0.1875 C 1.96875,-0.703125 1.78125,-0.109375 1.375,-0.109375 c -0.296875,0 -0.296875,-0.3125 -0.296875,-0.453125 0,-0.25 0.015625,-0.296875 0.0625,-0.484375 z\" id=\"path11106\" inkscape:connector-curvature=\"0\" style=\"stroke:none\"/>\n",
        "          </symbol>\n",
        "          <symbol id=\"textext-a3e54763-2\" overflow=\"visible\" style=\"overflow:visible\">\n",
        "            <path d=\"\" id=\"path11109\" inkscape:connector-curvature=\"0\" style=\"stroke:none\"/>\n",
        "          </symbol>\n",
        "          <symbol id=\"textext-a3e54763-3\" overflow=\"visible\" style=\"overflow:visible\">\n",
        "            <path d=\"m 0.84375,-0.4375 c -0.015625,0.09375 -0.0625,0.265625 -0.0625,0.28125 0,0.15625 0.125,0.21875 0.234375,0.21875 0.125,0 0.234375,-0.078125 0.28125,-0.140625 0.03125,-0.0625 0.078125,-0.296875 0.125,-0.4375 0.03125,-0.125 0.109375,-0.453125 0.140625,-0.625 0.046875,-0.15625 0.09375,-0.3125 0.125,-0.46875 0.078125,-0.28125 0.09375,-0.34375 0.296875,-0.625 C 2.171875,-2.515625 2.5,-2.875 3.03125,-2.875 c 0.390625,0 0.40625,0.359375 0.40625,0.484375 0,0.421875 -0.296875,1.1875 -0.40625,1.484375 -0.078125,0.203125 -0.109375,0.265625 -0.109375,0.375 0,0.375 0.296875,0.59375 0.65625,0.59375 0.703125,0 1,-0.953125 1,-1.0625 0,-0.09375 -0.078125,-0.09375 -0.109375,-0.09375 -0.09375,0 -0.09375,0.046875 -0.125,0.125 C 4.1875,-0.40625 3.875,-0.125 3.609375,-0.125 c -0.15625,0 -0.1875,-0.09375 -0.1875,-0.25 0,-0.15625 0.046875,-0.25 0.171875,-0.5625 0.078125,-0.21875 0.359375,-0.953125 0.359375,-1.34375 0,-0.671875 -0.53125,-0.796875 -0.90625,-0.796875 -0.578125,0 -0.96875,0.359375 -1.171875,0.640625 -0.046875,-0.484375 -0.453125,-0.640625 -0.75,-0.640625 -0.296875,0 -0.453125,0.21875 -0.546875,0.375 -0.15625,0.265625 -0.25,0.65625 -0.25,0.703125 0,0.078125 0.09375,0.078125 0.125,0.078125 0.09375,0 0.09375,-0.015625 0.140625,-0.203125 0.109375,-0.40625 0.25,-0.75 0.515625,-0.75 0.1875,0 0.234375,0.15625 0.234375,0.34375 0,0.125 -0.0625,0.390625 -0.125,0.578125 -0.046875,0.1875 -0.109375,0.46875 -0.140625,0.625 z\" id=\"path11112\" inkscape:connector-curvature=\"0\" style=\"stroke:none\"/>\n",
        "          </symbol>\n",
        "        </g>\n",
        "      </defs>\n",
        "      <g id=\"textext-a3e54763-4\">\n",
        "        <g id=\"g11115\" style=\"fill:#000000;fill-opacity:1\">\n",
        "          <use height=\"360\" id=\"use11117\" width=\"360\" x=\"223.43201\" xlink:href=\"#textext-a3e54763-1\" y=\"134.765\"/>\n",
        "        </g>\n",
        "        <g id=\"g11119\" style=\"fill:#000000;fill-opacity:1\">\n",
        "          <use height=\"360\" id=\"use11121\" width=\"360\" x=\"226.405\" xlink:href=\"#textext-a3e54763-3\" y=\"136.259\"/>\n",
        "        </g>\n",
        "      </g>\n",
        "    </g>\n",
        "    <path d=\"m 95.979207,1001.7109 31.699113,0\" id=\"path3269\" inkscape:connector-curvature=\"0\" sodipodi:nodetypes=\"cc\" style=\"fill:none;stroke:#000000;stroke-width:3;stroke-linecap:butt;stroke-linejoin:miter;stroke-miterlimit:4;stroke-opacity:1;stroke-dasharray:none;marker-end:url(#Arrow1Send)\"/>\n",
        "    <g id=\"g4552\" ns0:preamble=\"\" ns0:text=\"$f$\" transform=\"translate(-129.10375,860.13899)\">\n",
        "      <defs id=\"defs4554\">\n",
        "        <g id=\"g4556\">\n",
        "          <symbol id=\"textext-75ac2183-0\" overflow=\"visible\" style=\"overflow:visible\">\n",
        "            <path d=\"\" id=\"path4559\" inkscape:connector-curvature=\"0\" style=\"stroke:none\"/>\n",
        "          </symbol>\n",
        "          <symbol id=\"textext-75ac2183-1\" overflow=\"visible\" style=\"overflow:visible\">\n",
        "            <path d=\"m 3.65625,-3.984375 0.859375,0 c 0.203125,0 0.296875,0 0.296875,-0.203125 0,-0.109375 -0.09375,-0.109375 -0.265625,-0.109375 l -0.828125,0 0.203125,-1.140625 c 0.046875,-0.203125 0.1875,-0.90625 0.25,-1.03125 0.078125,-0.1875 0.25,-0.34375 0.46875,-0.34375 0.03125,0 0.296875,0 0.484375,0.1875 -0.4375,0.03125 -0.546875,0.390625 -0.546875,0.53125 0,0.234375 0.1875,0.359375 0.375,0.359375 C 5.21875,-5.734375 5.5,-5.96875 5.5,-6.34375 c 0,-0.453125 -0.453125,-0.6875 -0.859375,-0.6875 -0.34375,0 -0.96875,0.1875 -1.265625,1.171875 -0.0625,0.203125 -0.09375,0.3125 -0.328125,1.5625 l -0.6875,0 c -0.203125,0 -0.3125,0 -0.3125,0.1875 0,0.125 0.09375,0.125 0.28125,0.125 l 0.65625,0 -0.734375,3.9375 c -0.1875,0.96875 -0.359375,1.875 -0.875,1.875 -0.046875,0 -0.28125,0 -0.484375,-0.1875 C 1.359375,1.609375 1.453125,1.25 1.453125,1.109375 1.453125,0.875 1.265625,0.75 1.078125,0.75 0.8125,0.75 0.53125,0.984375 0.53125,1.359375 c 0,0.4375 0.4375,0.6875 0.84375,0.6875 0.546875,0 0.953125,-0.59375 1.125,-0.96875 0.328125,-0.625 0.546875,-1.828125 0.5625,-1.90625 z\" id=\"path4562\" inkscape:connector-curvature=\"0\" style=\"stroke:none\"/>\n",
        "          </symbol>\n",
        "        </g>\n",
        "      </defs>\n",
        "      <g id=\"textext-75ac2183-2\">\n",
        "        <g id=\"g4565\" style=\"fill:#000000;fill-opacity:1\">\n",
        "          <use height=\"270\" id=\"use4567\" width=\"360\" x=\"223.43201\" xlink:href=\"#textext-75ac2183-1\" y=\"134.765\"/>\n",
        "        </g>\n",
        "      </g>\n",
        "    </g>\n",
        "  </g>\n",
        "</svg>"
       ],
       "text": [
        "<IPython.core.display.SVG at 0x2aff890>"
       ]
      }
     ],
     "prompt_number": 1
    },
    {
     "cell_type": "markdown",
     "metadata": {},
     "source": [
      "I used these software versions for the following computations:\n",
      "\n",
      "- IPython: 0.13.1.rc2\n",
      "- matplotlib: 1.1.1\n",
      "- NumPy: 1.6.2\n",
      "- SciPy: 0.10.1\n",
      "- SymPy: 0.7.2\n",
      "- python-control: 0.6d \n",
      "\n",
      "Equations of Motion\n",
      "===================\n",
      "\n",
      "We'll start by generating the equations of motion for the system with SymPy **[mechanics](http://docs.sympy.org/dev/modules/physics/mechanics/index.html)**. The functionality that mechanics provides is much more in depth than Mathematica's functionality. In the Mathematica example, Lagrangian mechanics were implemented manually with Mathematica's symbolic functionality. **mechanics** provides an assortment of functions and classes to derive the equations of motion for arbitrarily complex (i.e. configuration constraints, nonholonomic motion constraints, etc) multibody systems in a very natural way. First we import the necessary functionality from SymPy."
     ]
    },
    {
     "cell_type": "code",
     "collapsed": false,
     "input": [
      "%pylab --no-import-all inline\n",
      "from sympy import symbols\n",
      "from sympy.physics.mechanics import *\n",
      "from sympy import init_printing\n",
      "init_printing()"
     ],
     "language": "python",
     "metadata": {},
     "outputs": [
      {
       "output_type": "stream",
       "stream": "stdout",
       "text": [
        "Populating the interactive namespace from numpy and matplotlib\n"
       ]
      }
     ],
     "prompt_number": 2
    },
    {
     "cell_type": "markdown",
     "metadata": {},
     "source": [
      "Now specify the number of links, $n$. I'll start with 5 since the Wolfram folks only showed four."
     ]
    },
    {
     "cell_type": "code",
     "collapsed": false,
     "input": [
      "n = 2"
     ],
     "language": "python",
     "metadata": {},
     "outputs": [],
     "prompt_number": 3
    },
    {
     "cell_type": "markdown",
     "metadata": {},
     "source": [
      "**mechanics** will need the generalized coordinates, generalized speeds, and the input force which are all time dependent variables and the bob masses, link lengths, and acceleration due to gravity which are all constants. Time, $t$, is also made available because we will need to differentiate with respect to time."
     ]
    },
    {
     "cell_type": "code",
     "collapsed": false,
     "input": [
      "q = dynamicsymbols('q:' + str(n + 1))  # Generalized coordinates\n",
      "u = dynamicsymbols('u:' + str(n + 1))  # Generalized speeds\n",
      "f = dynamicsymbols('f')                # Force applied to the cart\n",
      "    \n",
      "m = symbols('m:' + str(n + 1))         # Mass of each bob\n",
      "l = symbols('l:' + str(n))             # Length of each link\n",
      "g, t = symbols('g t')                  # Gravity and time"
     ],
     "language": "python",
     "metadata": {},
     "outputs": [],
     "prompt_number": 4
    },
    {
     "cell_type": "markdown",
     "metadata": {},
     "source": [
      "Now we can create and inertial reference frame $I$ and define the point, $O$, as the origin."
     ]
    },
    {
     "cell_type": "code",
     "collapsed": false,
     "input": [
      "I = ReferenceFrame('I')                # Inertial reference frame\n",
      "O = Point('O')                         # Origin point\n",
      "O.set_vel(I, 0)                        # Origin's velocity is zero"
     ],
     "language": "python",
     "metadata": {},
     "outputs": [],
     "prompt_number": 5
    },
    {
     "cell_type": "markdown",
     "metadata": {},
     "source": [
      "Secondly, we define the define the first point of the pendulum as a particle which has mass. This point can only move laterally and represents the motion of the \"cart\"."
     ]
    },
    {
     "cell_type": "code",
     "collapsed": false,
     "input": [
      "P0 = Point('P0')                       # Hinge point of top link\n",
      "P0.set_pos(O, q[0] * I.x)              # Set the position of P0    \n",
      "P0.set_vel(I, u[0] * I.x)              # Set the velocity of P0\n",
      "Pa0 = Particle('Pa0', P0, m[0])        # Define a particle at P0"
     ],
     "language": "python",
     "metadata": {},
     "outputs": [],
     "prompt_number": 6
    },
    {
     "cell_type": "markdown",
     "metadata": {},
     "source": [
      "Now we can define the $n$ reference frames, particles, gravitational forces, and kinematical differential equations for each of the pendulum links. This is easily done with a loop."
     ]
    },
    {
     "cell_type": "code",
     "collapsed": false,
     "input": [
      "frames = [I]                              # List to hold the n + 1 frames\n",
      "points = [P0]                             # List to hold the n + 1 points\n",
      "particles = [Pa0]                         # List to hold the n + 1 particles\n",
      "forces = [(P0, f * I.x - m[0] * g * I.y)] # List to hold the n + 1 applied forces, including the input force, f\n",
      "kindiffs = [q[0].diff(t) - u[0]]          # List to hold kinematic ODE's\n",
      "\n",
      "for i in range(n):\n",
      "    Bi = I.orientnew('B' + str(i), 'Axis', [q[i + 1], I.z])   # Create a new frame\n",
      "    Bi.set_ang_vel(I, u[i + 1] * I.z)                         # Set angular velocity\n",
      "    frames.append(Bi)                                         # Add it to the frames list\n",
      "\n",
      "    Pi = points[-1].locatenew('P' + str(i + 1), l[i] * Bi.x)  # Create a new point\n",
      "    Pi.v2pt_theory(points[-1], I, Bi)                         # Set the velocity\n",
      "    points.append(Pi)                                         # Add it to the points list\n",
      "    \n",
      "    Pai = Particle('Pa' + str(i + 1), Pi, m[i + 1])           # Create a new particle\n",
      "    particles.append(Pai)                                     # Add it to the particles list\n",
      "\n",
      "    forces.append((Pi, -m[i + 1] * g * I.y))                  # Set the force applied at the point\n",
      "        \n",
      "    kindiffs.append(q[i + 1].diff(t) - u[i + 1])              # Define the kinematic ODE:  dq_i / dt - u_i = 0"
     ],
     "language": "python",
     "metadata": {},
     "outputs": [],
     "prompt_number": 7
    },
    {
     "cell_type": "markdown",
     "metadata": {},
     "source": [
      "With all of the necessary point velocities and particle masses defined, the `KanesMethod` class can be used to derive the equations of motion of the system automatically."
     ]
    },
    {
     "cell_type": "code",
     "collapsed": false,
     "input": [
      "kane = KanesMethod(I, q_ind=q, u_ind=u, kd_eqs=kindiffs) # Initialize the object\n",
      "fr, frstar = kane.kanes_equations(forces, particles)     # Generate EoM's fr + frstar = 0"
     ],
     "language": "python",
     "metadata": {},
     "outputs": [],
     "prompt_number": 8
    },
    {
     "cell_type": "markdown",
     "metadata": {},
     "source": [
      "The equations of motion are quite long as can been seen below. This is the general nature of most non-simple mutlibody problems. That is why a SymPy is so useful; no more mistakes in algegra, differentiation, or copying in hand written equations. "
     ]
    },
    {
     "cell_type": "code",
     "collapsed": false,
     "input": [
      "fr"
     ],
     "language": "python",
     "metadata": {},
     "outputs": [
      {
       "latex": [
        "$$\\left[\\begin{smallmatrix}{}- f{\\left (t \\right )}\\\\g l_{0} m_{1} \\cos{\\left (\\operatorname{q1}{\\left (t \\right )} \\right )} + g l_{0} m_{2} \\cos{\\left (\\operatorname{q1}{\\left (t \\right )} \\right )}\\\\g l_{1} m_{2} \\cos{\\left (\\operatorname{q2}{\\left (t \\right )} \\right )}\\end{smallmatrix}\\right]$$"
       ],
       "metadata": {},
       "output_type": "pyout",
       "png": "[encoded data removed]",
       "prompt_number": 9,
       "text": [
        "\u23a1                 -f(t)                 \u23a4\n",
        "\u23a2                                       \u23a5\n",
        "\u23a2g\u22c5l\u2080\u22c5m\u2081\u22c5cos(q\u2081(t)) + g\u22c5l\u2080\u22c5m\u2082\u22c5cos(q\u2081(t))\u23a5\n",
        "\u23a2                                       \u23a5\n",
        "\u23a3          g\u22c5l\u2081\u22c5m\u2082\u22c5cos(q\u2082(t))           \u23a6"
       ]
      }
     ],
     "prompt_number": 9
    },
    {
     "cell_type": "code",
     "collapsed": false,
     "input": [
      "frstar"
     ],
     "language": "python",
     "metadata": {},
     "outputs": [
      {
       "latex": [
        "$$\\left[\\begin{smallmatrix}{}- l_{0} m_{1} \\operatorname{u1}^{2}{\\left (t \\right )} \\cos{\\left (\\operatorname{q1}{\\left (t \\right )} \\right )} - l_{0} m_{2} \\operatorname{u1}^{2}{\\left (t \\right )} \\cos{\\left (\\operatorname{q1}{\\left (t \\right )} \\right )} - l_{1} m_{2} \\operatorname{u2}^{2}{\\left (t \\right )} \\cos{\\left (\\operatorname{q2}{\\left (t \\right )} \\right )} - l_{1} m_{2} \\sin{\\left (\\operatorname{q2}{\\left (t \\right )} \\right )} \\frac{d}{d t} \\operatorname{u2}{\\left (t \\right )} + \\left(- l_{0} m_{1} \\sin{\\left (\\operatorname{q1}{\\left (t \\right )} \\right )} - l_{0} m_{2} \\sin{\\left (\\operatorname{q1}{\\left (t \\right )} \\right )}\\right) \\frac{d}{d t} \\operatorname{u1}{\\left (t \\right )} + \\left(m_{0} + m_{1} + m_{2}\\right) \\frac{d}{d t} \\operatorname{u0}{\\left (t \\right )}\\\\l_{0} l_{1} m_{2} \\left(\\sin{\\left (\\operatorname{q1}{\\left (t \\right )} \\right )} \\sin{\\left (\\operatorname{q2}{\\left (t \\right )} \\right )} + \\cos{\\left (\\operatorname{q1}{\\left (t \\right )} \\right )} \\cos{\\left (\\operatorname{q2}{\\left (t \\right )} \\right )}\\right) \\frac{d}{d t} \\operatorname{u2}{\\left (t \\right )} - l_{0} l_{1} m_{2} \\left(- \\sin{\\left (\\operatorname{q1}{\\left (t \\right )} \\right )} \\cos{\\left (\\operatorname{q2}{\\left (t \\right )} \\right )} + \\sin{\\left (\\operatorname{q2}{\\left (t \\right )} \\right )} \\cos{\\left (\\operatorname{q1}{\\left (t \\right )} \\right )}\\right) \\operatorname{u2}^{2}{\\left (t \\right )} + \\left(l_{0}^{2} m_{1} + l_{0}^{2} m_{2}\\right) \\frac{d}{d t} \\operatorname{u1}{\\left (t \\right )} + \\left(- l_{0} m_{1} \\sin{\\left (\\operatorname{q1}{\\left (t \\right )} \\right )} - l_{0} m_{2} \\sin{\\left (\\operatorname{q1}{\\left (t \\right )} \\right )}\\right) \\frac{d}{d t} \\operatorname{u0}{\\left (t \\right )}\\\\l_{0} l_{1} m_{2} \\left(\\sin{\\left (\\operatorname{q1}{\\left (t \\right )} \\right )} \\sin{\\left (\\operatorname{q2}{\\left (t \\right )} \\right )} + \\cos{\\left (\\operatorname{q1}{\\left (t \\right )} \\right )} \\cos{\\left (\\operatorname{q2}{\\left (t \\right )} \\right )}\\right) \\frac{d}{d t} \\operatorname{u1}{\\left (t \\right )} - l_{0} l_{1} m_{2} \\left(\\sin{\\left (\\operatorname{q1}{\\left (t \\right )} \\right )} \\cos{\\left (\\operatorname{q2}{\\left (t \\right )} \\right )} - \\sin{\\left (\\operatorname{q2}{\\left (t \\right )} \\right )} \\cos{\\left (\\operatorname{q1}{\\left (t \\right )} \\right )}\\right) \\operatorname{u1}^{2}{\\left (t \\right )} + l_{1}^{2} m_{2} \\frac{d}{d t} \\operatorname{u2}{\\left (t \\right )} - l_{1} m_{2} \\sin{\\left (\\operatorname{q2}{\\left (t \\right )} \\right )} \\frac{d}{d t} \\operatorname{u0}{\\left (t \\right )}\\end{smallmatrix}\\right]$$"
       ],
       "metadata": {},
       "output_type": "pyout",
       "png": "[encoded data removed]",
       "prompt_number": 10,
       "text": [
        "\u23a1                         2                         2                         \n",
        "\u23a2               - l\u2080\u22c5m\u2081\u22c5u\u2081 (t)\u22c5cos(q\u2081(t)) - l\u2080\u22c5m\u2082\u22c5u\u2081 (t)\u22c5cos(q\u2081(t)) - l\u2081\u22c5m\u2082\u22c5u\u2082\n",
        "\u23a2                                                                             \n",
        "\u23a2                                                                             \n",
        "\u23a2                                                         d                   \n",
        "\u23a2l\u2080\u22c5l\u2081\u22c5m\u2082\u22c5(sin(q\u2081(t))\u22c5sin(q\u2082(t)) + cos(q\u2081(t))\u22c5cos(q\u2082(t)))\u22c5\u2500\u2500(u\u2082(t)) - l\u2080\u22c5l\u2081\u22c5m\u2082\n",
        "\u23a2                                                         dt                  \n",
        "\u23a2                                                                             \n",
        "\u23a2                                                                          d  \n",
        "\u23a2                 l\u2080\u22c5l\u2081\u22c5m\u2082\u22c5(sin(q\u2081(t))\u22c5sin(q\u2082(t)) + cos(q\u2081(t))\u22c5cos(q\u2082(t)))\u22c5\u2500\u2500(\n",
        "\u23a3                                                                          dt \n",
        "\n",
        "2                                  d                                          \n",
        " (t)\u22c5cos(q\u2082(t)) - l\u2081\u22c5m\u2082\u22c5sin(q\u2082(t))\u22c5\u2500\u2500(u\u2082(t)) + (-l\u2080\u22c5m\u2081\u22c5sin(q\u2081(t)) - l\u2080\u22c5m\u2082\u22c5sin(\n",
        "                                   dt                                         \n",
        "                                                                              \n",
        "                                                    2      \u239b  2        2   \u239e d\n",
        "\u22c5(-sin(q\u2081(t))\u22c5cos(q\u2082(t)) + sin(q\u2082(t))\u22c5cos(q\u2081(t)))\u22c5u\u2082 (t) + \u239dl\u2080 \u22c5m\u2081 + l\u2080 \u22c5m\u2082\u23a0\u22c5\u2500\n",
        "                                                                             d\n",
        "                                                                              \n",
        "                                                                    2        2\n",
        "u\u2081(t)) - l\u2080\u22c5l\u2081\u22c5m\u2082\u22c5(sin(q\u2081(t))\u22c5cos(q\u2082(t)) - sin(q\u2082(t))\u22c5cos(q\u2081(t)))\u22c5u\u2081 (t) + l\u2081 \n",
        "                                                                              \n",
        "\n",
        "        d                          d                       \u23a4\n",
        "q\u2081(t)))\u22c5\u2500\u2500(u\u2081(t)) + (m\u2080 + m\u2081 + m\u2082)\u22c5\u2500\u2500(u\u2080(t))               \u23a5\n",
        "        dt                         dt                      \u23a5\n",
        "                                                           \u23a5\n",
        "                                                  d        \u23a5\n",
        "\u2500(u\u2081(t)) + (-l\u2080\u22c5m\u2081\u22c5sin(q\u2081(t)) - l\u2080\u22c5m\u2082\u22c5sin(q\u2081(t)))\u22c5\u2500\u2500(u\u2080(t))\u23a5\n",
        "t                                                 dt       \u23a5\n",
        "                                                           \u23a5\n",
        "    d                            d                         \u23a5\n",
        "\u22c5m\u2082\u22c5\u2500\u2500(u\u2082(t)) - l\u2081\u22c5m\u2082\u22c5sin(q\u2082(t))\u22c5\u2500\u2500(u\u2080(t))                 \u23a5\n",
        "    dt                           dt                        \u23a6"
       ]
      }
     ],
     "prompt_number": 10
    },
    {
     "cell_type": "code",
     "collapsed": false,
     "input": [
      "zero = fr + frstar"
     ],
     "language": "python",
     "metadata": {},
     "outputs": [],
     "prompt_number": 11
    },
    {
     "cell_type": "code",
     "collapsed": false,
     "input": [
      "from sympy import solve"
     ],
     "language": "python",
     "metadata": {},
     "outputs": [],
     "prompt_number": 12
    },
    {
     "cell_type": "code",
     "collapsed": false,
     "input": [
      "dots = kane.mass_matrix.inv() * kane.forcing"
     ],
     "language": "python",
     "metadata": {},
     "outputs": [],
     "prompt_number": 13
    },
    {
     "cell_type": "code",
     "collapsed": false,
     "input": [
      "kane.mass_matrix"
     ],
     "language": "python",
     "metadata": {},
     "outputs": [
      {
       "latex": [
        "$$\\left[\\begin{smallmatrix}{}m_{0} + m_{1} + m_{2} & - l_{0} m_{1} \\sin{\\left (\\operatorname{q1}{\\left (t \\right )} \\right )} - l_{0} m_{2} \\sin{\\left (\\operatorname{q1}{\\left (t \\right )} \\right )} & - l_{1} m_{2} \\sin{\\left (\\operatorname{q2}{\\left (t \\right )} \\right )}\\\\- l_{0} m_{1} \\sin{\\left (\\operatorname{q1}{\\left (t \\right )} \\right )} - l_{0} m_{2} \\sin{\\left (\\operatorname{q1}{\\left (t \\right )} \\right )} & l_{0}^{2} m_{1} + l_{0}^{2} m_{2} & l_{0} l_{1} m_{2} \\left(\\sin{\\left (\\operatorname{q1}{\\left (t \\right )} \\right )} \\sin{\\left (\\operatorname{q2}{\\left (t \\right )} \\right )} + \\cos{\\left (\\operatorname{q1}{\\left (t \\right )} \\right )} \\cos{\\left (\\operatorname{q2}{\\left (t \\right )} \\right )}\\right)\\\\- l_{1} m_{2} \\sin{\\left (\\operatorname{q2}{\\left (t \\right )} \\right )} & l_{0} l_{1} m_{2} \\left(\\sin{\\left (\\operatorname{q1}{\\left (t \\right )} \\right )} \\sin{\\left (\\operatorname{q2}{\\left (t \\right )} \\right )} + \\cos{\\left (\\operatorname{q1}{\\left (t \\right )} \\right )} \\cos{\\left (\\operatorname{q2}{\\left (t \\right )} \\right )}\\right) & l_{1}^{2} m_{2}\\end{smallmatrix}\\right]$$"
       ],
       "metadata": {},
       "output_type": "pyout",
       "png": "[encoded data removed]",
       "prompt_number": 14,
       "text": [
        "\u23a1            m\u2080 + m\u2081 + m\u2082                        -l\u2080\u22c5m\u2081\u22c5sin(q\u2081(t)) - l\u2080\u22c5m\u2082\u22c5sin\n",
        "\u23a2                                                                             \n",
        "\u23a2                                                            2        2       \n",
        "\u23a2-l\u2080\u22c5m\u2081\u22c5sin(q\u2081(t)) - l\u2080\u22c5m\u2082\u22c5sin(q\u2081(t))                      l\u2080 \u22c5m\u2081 + l\u2080 \u22c5m\u2082    \n",
        "\u23a2                                                                             \n",
        "\u23a2                                                                             \n",
        "\u23a3         -l\u2081\u22c5m\u2082\u22c5sin(q\u2082(t))            l\u2080\u22c5l\u2081\u22c5m\u2082\u22c5(sin(q\u2081(t))\u22c5sin(q\u2082(t)) + cos(q\n",
        "\n",
        "(q\u2081(t))                               -l\u2081\u22c5m\u2082\u22c5sin(q\u2082(t))                    \u23a4\n",
        "                                                                           \u23a5\n",
        "                                                                           \u23a5\n",
        "                   l\u2080\u22c5l\u2081\u22c5m\u2082\u22c5(sin(q\u2081(t))\u22c5sin(q\u2082(t)) + cos(q\u2081(t))\u22c5cos(q\u2082(t)))\u23a5\n",
        "                                                                           \u23a5\n",
        "                                              2                            \u23a5\n",
        "\u2081(t))\u22c5cos(q\u2082(t)))                           l\u2081 \u22c5m\u2082                         \u23a6"
       ]
      }
     ],
     "prompt_number": 14
    },
    {
     "cell_type": "code",
     "collapsed": false,
     "input": [
      "kane.forcing"
     ],
     "language": "python",
     "metadata": {},
     "outputs": [
      {
       "latex": [
        "$$\\left[\\begin{smallmatrix}{}l_{0} m_{1} \\operatorname{u1}^{2}{\\left (t \\right )} \\cos{\\left (\\operatorname{q1}{\\left (t \\right )} \\right )} + l_{0} m_{2} \\operatorname{u1}^{2}{\\left (t \\right )} \\cos{\\left (\\operatorname{q1}{\\left (t \\right )} \\right )} + l_{1} m_{2} \\operatorname{u2}^{2}{\\left (t \\right )} \\cos{\\left (\\operatorname{q2}{\\left (t \\right )} \\right )} + f{\\left (t \\right )}\\\\- g l_{0} m_{1} \\cos{\\left (\\operatorname{q1}{\\left (t \\right )} \\right )} - g l_{0} m_{2} \\cos{\\left (\\operatorname{q1}{\\left (t \\right )} \\right )} + l_{0} l_{1} m_{2} \\left(- \\sin{\\left (\\operatorname{q1}{\\left (t \\right )} \\right )} \\cos{\\left (\\operatorname{q2}{\\left (t \\right )} \\right )} + \\sin{\\left (\\operatorname{q2}{\\left (t \\right )} \\right )} \\cos{\\left (\\operatorname{q1}{\\left (t \\right )} \\right )}\\right) \\operatorname{u2}^{2}{\\left (t \\right )}\\\\- g l_{1} m_{2} \\cos{\\left (\\operatorname{q2}{\\left (t \\right )} \\right )} + l_{0} l_{1} m_{2} \\left(\\sin{\\left (\\operatorname{q1}{\\left (t \\right )} \\right )} \\cos{\\left (\\operatorname{q2}{\\left (t \\right )} \\right )} - \\sin{\\left (\\operatorname{q2}{\\left (t \\right )} \\right )} \\cos{\\left (\\operatorname{q1}{\\left (t \\right )} \\right )}\\right) \\operatorname{u1}^{2}{\\left (t \\right )}\\end{smallmatrix}\\right]$$"
       ],
       "metadata": {},
       "output_type": "pyout",
       "png": "[encoded data removed]",
       "prompt_number": 35,
       "text": [
        "\u23a1                    2                         2                         2    \n",
        "\u23a2            l\u2080\u22c5m\u2081\u22c5u\u2081 (t)\u22c5cos(q\u2081(t)) + l\u2080\u22c5m\u2082\u22c5u\u2081 (t)\u22c5cos(q\u2081(t)) + l\u2081\u22c5m\u2082\u22c5u\u2082 (t)\u22c5\n",
        "\u23a2                                                                             \n",
        "\u23a2                                                                             \n",
        "\u23a2-g\u22c5l\u2080\u22c5m\u2081\u22c5cos(q\u2081(t)) - g\u22c5l\u2080\u22c5m\u2082\u22c5cos(q\u2081(t)) + l\u2080\u22c5l\u2081\u22c5m\u2082\u22c5(-sin(q\u2081(t))\u22c5cos(q\u2082(t)) +\n",
        "\u23a2                                                                             \n",
        "\u23a2                                                                             \n",
        "\u23a3           -g\u22c5l\u2081\u22c5m\u2082\u22c5cos(q\u2082(t)) + l\u2080\u22c5l\u2081\u22c5m\u2082\u22c5(sin(q\u2081(t))\u22c5cos(q\u2082(t)) - sin(q\u2082(t))\n",
        "\n",
        "                              \u23a4\n",
        "cos(q\u2082(t)) + f(t)             \u23a5\n",
        "                              \u23a5\n",
        "                          2   \u23a5\n",
        " sin(q\u2082(t))\u22c5cos(q\u2081(t)))\u22c5u\u2082 (t)\u23a5\n",
        "                              \u23a5\n",
        "               2              \u23a5\n",
        "\u22c5cos(q\u2081(t)))\u22c5u\u2081 (t)           \u23a6"
       ]
      }
     ],
     "prompt_number": 35
    },
    {
     "cell_type": "code",
     "collapsed": false,
     "input": [
      "import sympy"
     ],
     "language": "python",
     "metadata": {},
     "outputs": [],
     "prompt_number": 37
    },
    {
     "cell_type": "code",
     "collapsed": false,
     "input": [
      "simplified_forcing = sympy.zeros(kane.forcing.shape)\n",
      "for i, eq in enumerate(kane.forcing):\n",
      "    simplified_forcing[i] = eq.trigsimp()\n",
      "simplified_forcing"
     ],
     "language": "python",
     "metadata": {},
     "outputs": [
      {
       "latex": [
        "$$\\left[\\begin{smallmatrix}{}l_{0} m_{1} \\operatorname{u1}^{2}{\\left (t \\right )} \\cos{\\left (\\operatorname{q1}{\\left (t \\right )} \\right )} + l_{0} m_{2} \\operatorname{u1}^{2}{\\left (t \\right )} \\cos{\\left (\\operatorname{q1}{\\left (t \\right )} \\right )} + l_{1} m_{2} \\operatorname{u2}^{2}{\\left (t \\right )} \\cos{\\left (\\operatorname{q2}{\\left (t \\right )} \\right )} + f{\\left (t \\right )}\\\\- l_{0} \\left(g m_{1} \\cos{\\left (\\operatorname{q1}{\\left (t \\right )} \\right )} + g m_{2} \\cos{\\left (\\operatorname{q1}{\\left (t \\right )} \\right )} + l_{1} m_{2} \\operatorname{u2}^{2}{\\left (t \\right )} \\sin{\\left (\\operatorname{q1}{\\left (t \\right )} - \\operatorname{q2}{\\left (t \\right )} \\right )}\\right)\\\\l_{1} m_{2} \\left(- g \\cos{\\left (\\operatorname{q2}{\\left (t \\right )} \\right )} + l_{0} \\operatorname{u1}^{2}{\\left (t \\right )} \\sin{\\left (\\operatorname{q1}{\\left (t \\right )} - \\operatorname{q2}{\\left (t \\right )} \\right )}\\right)\\end{smallmatrix}\\right]$$"
       ],
       "metadata": {},
       "output_type": "pyout",
       "png": "[encoded data removed]",
       "prompt_number": 42,
       "text": [
        "\u23a1        2                         2                         2                \n",
        "\u23a2l\u2080\u22c5m\u2081\u22c5u\u2081 (t)\u22c5cos(q\u2081(t)) + l\u2080\u22c5m\u2082\u22c5u\u2081 (t)\u22c5cos(q\u2081(t)) + l\u2081\u22c5m\u2082\u22c5u\u2082 (t)\u22c5cos(q\u2082(t)) +\n",
        "\u23a2                                                                             \n",
        "\u23a2        \u239b                                            2                      \u239e\n",
        "\u23a2    -l\u2080\u22c5\u239dg\u22c5m\u2081\u22c5cos(q\u2081(t)) + g\u22c5m\u2082\u22c5cos(q\u2081(t)) + l\u2081\u22c5m\u2082\u22c5u\u2082 (t)\u22c5sin(q\u2081(t) - q\u2082(t))\u23a0\n",
        "\u23a2                                                                             \n",
        "\u23a2                     \u239b                     2                      \u239e          \n",
        "\u23a3               l\u2081\u22c5m\u2082\u22c5\u239d-g\u22c5cos(q\u2082(t)) + l\u2080\u22c5u\u2081 (t)\u22c5sin(q\u2081(t) - q\u2082(t))\u23a0          \n",
        "\n",
        "     \u23a4\n",
        " f(t)\u23a5\n",
        "     \u23a5\n",
        "     \u23a5\n",
        "     \u23a5\n",
        "     \u23a5\n",
        "     \u23a5\n",
        "     \u23a6"
       ]
      }
     ],
     "prompt_number": 42
    },
    {
     "cell_type": "code",
     "collapsed": false,
     "input": [
      "kane.mass_matrix.row(0)"
     ],
     "language": "python",
     "metadata": {},
     "outputs": [
      {
       "latex": [
        "$$\\left[\\begin{smallmatrix}{}m_{0} + m_{1} + m_{2} & - l_{0} m_{1} \\sin{\\left (\\operatorname{q1}{\\left (t \\right )} \\right )} - l_{0} m_{2} \\sin{\\left (\\operatorname{q1}{\\left (t \\right )} \\right )} & - l_{1} m_{2} \\sin{\\left (\\operatorname{q2}{\\left (t \\right )} \\right )}\\end{smallmatrix}\\right]$$"
       ],
       "metadata": {},
       "output_type": "pyout",
       "png": "[encoded data removed]",
       "prompt_number": 51,
       "text": [
        "[m\u2080 + m\u2081 + m\u2082  -l\u2080\u22c5m\u2081\u22c5sin(q\u2081(t)) - l\u2080\u22c5m\u2082\u22c5sin(q\u2081(t))  -l\u2081\u22c5m\u2082\u22c5sin(q\u2082(t))]"
       ]
      }
     ],
     "prompt_number": 51
    },
    {
     "cell_type": "code",
     "collapsed": false,
     "input": [
      "simplified_mass_matrix = sympy.zeros(kane.mass_matrix.shape)\n",
      "for i in range(3):\n",
      "    row = kane.mass_matrix.row(i)\n",
      "    for j, eq in enumerate(row):\n",
      "        simplified_mass_matrix[i, j] = eq.trigsimp()\n",
      "simplified_mass_matrix"
     ],
     "language": "python",
     "metadata": {},
     "outputs": [
      {
       "latex": [
        "$$\\left[\\begin{smallmatrix}{}m_{0} + m_{1} + m_{2} & - l_{0} \\left(m_{1} + m_{2}\\right) \\sin{\\left (\\operatorname{q1}{\\left (t \\right )} \\right )} & - l_{1} m_{2} \\sin{\\left (\\operatorname{q2}{\\left (t \\right )} \\right )}\\\\- l_{0} \\left(m_{1} + m_{2}\\right) \\sin{\\left (\\operatorname{q1}{\\left (t \\right )} \\right )} & l_{0}^{2} m_{1} + l_{0}^{2} m_{2} & l_{0} l_{1} m_{2} \\cos{\\left (\\operatorname{q1}{\\left (t \\right )} - \\operatorname{q2}{\\left (t \\right )} \\right )}\\\\- l_{1} m_{2} \\sin{\\left (\\operatorname{q2}{\\left (t \\right )} \\right )} & l_{0} l_{1} m_{2} \\cos{\\left (\\operatorname{q1}{\\left (t \\right )} - \\operatorname{q2}{\\left (t \\right )} \\right )} & l_{1}^{2} m_{2}\\end{smallmatrix}\\right]$$"
       ],
       "metadata": {},
       "output_type": "pyout",
       "png": "[encoded data removed]",
       "prompt_number": 52,
       "text": [
        "\u23a1      m\u2080 + m\u2081 + m\u2082         -l\u2080\u22c5(m\u2081 + m\u2082)\u22c5sin(q\u2081(t))         -l\u2081\u22c5m\u2082\u22c5sin(q\u2082(t))\n",
        "\u23a2                                                                             \n",
        "\u23a2                                  2        2                                 \n",
        "\u23a2-l\u2080\u22c5(m\u2081 + m\u2082)\u22c5sin(q\u2081(t))        l\u2080 \u22c5m\u2081 + l\u2080 \u22c5m\u2082        l\u2080\u22c5l\u2081\u22c5m\u2082\u22c5cos(q\u2081(t) - q\n",
        "\u23a2                                                                             \n",
        "\u23a2                                                                   2         \n",
        "\u23a3   -l\u2081\u22c5m\u2082\u22c5sin(q\u2082(t))      l\u2080\u22c5l\u2081\u22c5m\u2082\u22c5cos(q\u2081(t) - q\u2082(t))            l\u2081 \u22c5m\u2082      \n",
        "\n",
        "     \u23a4\n",
        "     \u23a5\n",
        "     \u23a5\n",
        "\u2082(t))\u23a5\n",
        "     \u23a5\n",
        "     \u23a5\n",
        "     \u23a6"
       ]
      }
     ],
     "prompt_number": 52
    },
    {
     "cell_type": "code",
     "collapsed": false,
     "input": [
      "dots = simplified_mass_matrix.cholesky_solve(simplified_forcing)"
     ],
     "language": "python",
     "metadata": {},
     "outputs": [],
     "prompt_number": 55
    },
    {
     "cell_type": "code",
     "collapsed": false,
     "input": [
      "dots[0].trigsimp()"
     ],
     "language": "python",
     "metadata": {},
     "outputs": [
      {
       "latex": [
        "$$\\frac{1}{\\left(m_{0} + m_{1} + m_{2}\\right) \\left(2 m_{0} m_{1} - m_{0} m_{2} \\cos{\\left (2 \\operatorname{q1}{\\left (t \\right )} - 2 \\operatorname{q2}{\\left (t \\right )} \\right )} + m_{0} m_{2} + m_{1}^{2} \\cos{\\left (2 \\operatorname{q1}{\\left (t \\right )} \\right )} + m_{1}^{2} + m_{1} m_{2} \\cos{\\left (2 \\operatorname{q1}{\\left (t \\right )} \\right )} + m_{1} m_{2}\\right)} \\left(- g m_{0} m_{1}^{2} \\sin{\\left (2 \\operatorname{q1}{\\left (t \\right )} \\right )} - g m_{0} m_{1} m_{2} \\sin{\\left (2 \\operatorname{q1}{\\left (t \\right )} \\right )} - g m_{1}^{3} \\sin{\\left (2 \\operatorname{q1}{\\left (t \\right )} \\right )} - 2 g m_{1}^{2} m_{2} \\sin{\\left (2 \\operatorname{q1}{\\left (t \\right )} \\right )} - g m_{1} m_{2}^{2} \\sin{\\left (2 \\operatorname{q1}{\\left (t \\right )} \\right )} + 2 l_{0} m_{0} m_{1}^{2} \\operatorname{u1}^{2}{\\left (t \\right )} \\cos{\\left (\\operatorname{q1}{\\left (t \\right )} \\right )} + 2 l_{0} m_{0} m_{1} m_{2} \\operatorname{u1}^{2}{\\left (t \\right )} \\cos{\\left (\\operatorname{q1}{\\left (t \\right )} \\right )} + 2 l_{0} m_{1}^{3} \\operatorname{u1}^{2}{\\left (t \\right )} \\cos{\\left (\\operatorname{q1}{\\left (t \\right )} \\right )} + 4 l_{0} m_{1}^{2} m_{2} \\operatorname{u1}^{2}{\\left (t \\right )} \\cos{\\left (\\operatorname{q1}{\\left (t \\right )} \\right )} + 2 l_{0} m_{1} m_{2}^{2} \\operatorname{u1}^{2}{\\left (t \\right )} \\cos{\\left (\\operatorname{q1}{\\left (t \\right )} \\right )} + l_{1} m_{0} m_{1} m_{2} \\operatorname{u2}^{2}{\\left (t \\right )} \\cos{\\left (2 \\operatorname{q1}{\\left (t \\right )} - \\operatorname{q2}{\\left (t \\right )} \\right )} + l_{1} m_{0} m_{1} m_{2} \\operatorname{u2}^{2}{\\left (t \\right )} \\cos{\\left (\\operatorname{q2}{\\left (t \\right )} \\right )} + l_{1} m_{1}^{2} m_{2} \\operatorname{u2}^{2}{\\left (t \\right )} \\cos{\\left (2 \\operatorname{q1}{\\left (t \\right )} - \\operatorname{q2}{\\left (t \\right )} \\right )} + l_{1} m_{1}^{2} m_{2} \\operatorname{u2}^{2}{\\left (t \\right )} \\cos{\\left (\\operatorname{q2}{\\left (t \\right )} \\right )} + l_{1} m_{1} m_{2}^{2} \\operatorname{u2}^{2}{\\left (t \\right )} \\cos{\\left (2 \\operatorname{q1}{\\left (t \\right )} - \\operatorname{q2}{\\left (t \\right )} \\right )} + l_{1} m_{1} m_{2}^{2} \\operatorname{u2}^{2}{\\left (t \\right )} \\cos{\\left (\\operatorname{q2}{\\left (t \\right )} \\right )} + 2 m_{0} m_{1} f{\\left (t \\right )} - m_{0} m_{2} f{\\left (t \\right )} \\cos{\\left (2 \\operatorname{q1}{\\left (t \\right )} - 2 \\operatorname{q2}{\\left (t \\right )} \\right )} + m_{0} m_{2} f{\\left (t \\right )} + 2 m_{1}^{2} f{\\left (t \\right )} - m_{1} m_{2} f{\\left (t \\right )} \\cos{\\left (2 \\operatorname{q1}{\\left (t \\right )} - 2 \\operatorname{q2}{\\left (t \\right )} \\right )} + 3 m_{1} m_{2} f{\\left (t \\right )} - m_{2}^{2} f{\\left (t \\right )} \\cos{\\left (2 \\operatorname{q1}{\\left (t \\right )} - 2 \\operatorname{q2}{\\left (t \\right )} \\right )} + m_{2}^{2} f{\\left (t \\right )}\\right)$$"
       ],
       "metadata": {},
       "output_type": "pyout",
       "png": "[encoded data removed]",
       "prompt_number": 56,
       "text": [
        "         2                                              3                     \n",
        "- g\u22c5m\u2080\u22c5m\u2081 \u22c5sin(2\u22c5q\u2081(t)) - g\u22c5m\u2080\u22c5m\u2081\u22c5m\u2082\u22c5sin(2\u22c5q\u2081(t)) - g\u22c5m\u2081 \u22c5sin(2\u22c5q\u2081(t)) - 2\u22c5g\u22c5m\n",
        "\u2500\u2500\u2500\u2500\u2500\u2500\u2500\u2500\u2500\u2500\u2500\u2500\u2500\u2500\u2500\u2500\u2500\u2500\u2500\u2500\u2500\u2500\u2500\u2500\u2500\u2500\u2500\u2500\u2500\u2500\u2500\u2500\u2500\u2500\u2500\u2500\u2500\u2500\u2500\u2500\u2500\u2500\u2500\u2500\u2500\u2500\u2500\u2500\u2500\u2500\u2500\u2500\u2500\u2500\u2500\u2500\u2500\u2500\u2500\u2500\u2500\u2500\u2500\u2500\u2500\u2500\u2500\u2500\u2500\u2500\u2500\u2500\u2500\u2500\u2500\u2500\u2500\u2500\n",
        "                                                                              \n",
        "                                                                              \n",
        "\n",
        " 2                          2                          2   2                  \n",
        "\u2081 \u22c5m\u2082\u22c5sin(2\u22c5q\u2081(t)) - g\u22c5m\u2081\u22c5m\u2082 \u22c5sin(2\u22c5q\u2081(t)) + 2\u22c5l\u2080\u22c5m\u2080\u22c5m\u2081 \u22c5u\u2081 (t)\u22c5cos(q\u2081(t)) + 2\n",
        "\u2500\u2500\u2500\u2500\u2500\u2500\u2500\u2500\u2500\u2500\u2500\u2500\u2500\u2500\u2500\u2500\u2500\u2500\u2500\u2500\u2500\u2500\u2500\u2500\u2500\u2500\u2500\u2500\u2500\u2500\u2500\u2500\u2500\u2500\u2500\u2500\u2500\u2500\u2500\u2500\u2500\u2500\u2500\u2500\u2500\u2500\u2500\u2500\u2500\u2500\u2500\u2500\u2500\u2500\u2500\u2500\u2500\u2500\u2500\u2500\u2500\u2500\u2500\u2500\u2500\u2500\u2500\u2500\u2500\u2500\u2500\u2500\u2500\u2500\u2500\u2500\u2500\u2500\n",
        "                                                                              \n",
        "                                                                              \n",
        "\n",
        "               2                        3   2                        2      2 \n",
        "\u22c5l\u2080\u22c5m\u2080\u22c5m\u2081\u22c5m\u2082\u22c5u\u2081 (t)\u22c5cos(q\u2081(t)) + 2\u22c5l\u2080\u22c5m\u2081 \u22c5u\u2081 (t)\u22c5cos(q\u2081(t)) + 4\u22c5l\u2080\u22c5m\u2081 \u22c5m\u2082\u22c5u\u2081 (\n",
        "\u2500\u2500\u2500\u2500\u2500\u2500\u2500\u2500\u2500\u2500\u2500\u2500\u2500\u2500\u2500\u2500\u2500\u2500\u2500\u2500\u2500\u2500\u2500\u2500\u2500\u2500\u2500\u2500\u2500\u2500\u2500\u2500\u2500\u2500\u2500\u2500\u2500\u2500\u2500\u2500\u2500\u2500\u2500\u2500\u2500\u2500\u2500\u2500\u2500\u2500\u2500\u2500\u2500\u2500\u2500\u2500\u2500\u2500\u2500\u2500\u2500\u2500\u2500\u2500\u2500\u2500\u2500\u2500\u2500\u2500\u2500\u2500\u2500\u2500\u2500\u2500\u2500\u2500\n",
        "                                                                              \n",
        "                                                                              \n",
        "\n",
        "                          2   2                               2               \n",
        "t)\u22c5cos(q\u2081(t)) + 2\u22c5l\u2080\u22c5m\u2081\u22c5m\u2082 \u22c5u\u2081 (t)\u22c5cos(q\u2081(t)) + l\u2081\u22c5m\u2080\u22c5m\u2081\u22c5m\u2082\u22c5u\u2082 (t)\u22c5cos(2\u22c5q\u2081(t)\n",
        "\u2500\u2500\u2500\u2500\u2500\u2500\u2500\u2500\u2500\u2500\u2500\u2500\u2500\u2500\u2500\u2500\u2500\u2500\u2500\u2500\u2500\u2500\u2500\u2500\u2500\u2500\u2500\u2500\u2500\u2500\u2500\u2500\u2500\u2500\u2500\u2500\u2500\u2500\u2500\u2500\u2500\u2500\u2500\u2500\u2500\u2500\u2500\u2500\u2500\u2500\u2500\u2500\u2500\u2500\u2500\u2500\u2500\u2500\u2500\u2500\u2500\u2500\u2500\u2500\u2500\u2500\u2500\u2500\u2500\u2500\u2500\u2500\u2500\u2500\u2500\u2500\u2500\u2500\n",
        "                                                       \u239b                      \n",
        "                                        (m\u2080 + m\u2081 + m\u2082)\u22c5\u239d2\u22c5m\u2080\u22c5m\u2081 - m\u2080\u22c5m\u2082\u22c5cos(2\u22c5\n",
        "\n",
        "                          2                      2      2                     \n",
        " - q\u2082(t)) + l\u2081\u22c5m\u2080\u22c5m\u2081\u22c5m\u2082\u22c5u\u2082 (t)\u22c5cos(q\u2082(t)) + l\u2081\u22c5m\u2081 \u22c5m\u2082\u22c5u\u2082 (t)\u22c5cos(2\u22c5q\u2081(t) - q\u2082(\n",
        "\u2500\u2500\u2500\u2500\u2500\u2500\u2500\u2500\u2500\u2500\u2500\u2500\u2500\u2500\u2500\u2500\u2500\u2500\u2500\u2500\u2500\u2500\u2500\u2500\u2500\u2500\u2500\u2500\u2500\u2500\u2500\u2500\u2500\u2500\u2500\u2500\u2500\u2500\u2500\u2500\u2500\u2500\u2500\u2500\u2500\u2500\u2500\u2500\u2500\u2500\u2500\u2500\u2500\u2500\u2500\u2500\u2500\u2500\u2500\u2500\u2500\u2500\u2500\u2500\u2500\u2500\u2500\u2500\u2500\u2500\u2500\u2500\u2500\u2500\u2500\u2500\u2500\u2500\n",
        "                             2                  2                             \n",
        "(q\u2081(t) - q\u2082(t))) + m\u2080\u22c5m\u2082 + m\u2081 \u22c5cos(2\u22c5q\u2081(t)) + m\u2081  + m\u2081\u22c5m\u2082\u22c5cos(2\u22c5q\u2081(t)) + m\u2081\u22c5m\u2082\n",
        "\n",
        "           2      2                         2   2                             \n",
        "t)) + l\u2081\u22c5m\u2081 \u22c5m\u2082\u22c5u\u2082 (t)\u22c5cos(q\u2082(t)) + l\u2081\u22c5m\u2081\u22c5m\u2082 \u22c5u\u2082 (t)\u22c5cos(2\u22c5q\u2081(t) - q\u2082(t)) + l\u2081\n",
        "\u2500\u2500\u2500\u2500\u2500\u2500\u2500\u2500\u2500\u2500\u2500\u2500\u2500\u2500\u2500\u2500\u2500\u2500\u2500\u2500\u2500\u2500\u2500\u2500\u2500\u2500\u2500\u2500\u2500\u2500\u2500\u2500\u2500\u2500\u2500\u2500\u2500\u2500\u2500\u2500\u2500\u2500\u2500\u2500\u2500\u2500\u2500\u2500\u2500\u2500\u2500\u2500\u2500\u2500\u2500\u2500\u2500\u2500\u2500\u2500\u2500\u2500\u2500\u2500\u2500\u2500\u2500\u2500\u2500\u2500\u2500\u2500\u2500\u2500\u2500\u2500\u2500\u2500\n",
        "\u239e                                                                             \n",
        "\u23a0                                                                             \n",
        "\n",
        "      2   2                                                                   \n",
        "\u22c5m\u2081\u22c5m\u2082 \u22c5u\u2082 (t)\u22c5cos(q\u2082(t)) + 2\u22c5m\u2080\u22c5m\u2081\u22c5f(t) - m\u2080\u22c5m\u2082\u22c5f(t)\u22c5cos(2\u22c5(q\u2081(t) - q\u2082(t))) +\n",
        "\u2500\u2500\u2500\u2500\u2500\u2500\u2500\u2500\u2500\u2500\u2500\u2500\u2500\u2500\u2500\u2500\u2500\u2500\u2500\u2500\u2500\u2500\u2500\u2500\u2500\u2500\u2500\u2500\u2500\u2500\u2500\u2500\u2500\u2500\u2500\u2500\u2500\u2500\u2500\u2500\u2500\u2500\u2500\u2500\u2500\u2500\u2500\u2500\u2500\u2500\u2500\u2500\u2500\u2500\u2500\u2500\u2500\u2500\u2500\u2500\u2500\u2500\u2500\u2500\u2500\u2500\u2500\u2500\u2500\u2500\u2500\u2500\u2500\u2500\u2500\u2500\u2500\u2500\n",
        "                                                                              \n",
        "                                                                              \n",
        "\n",
        "                  2                                                           \n",
        " m\u2080\u22c5m\u2082\u22c5f(t) + 2\u22c5m\u2081 \u22c5f(t) - m\u2081\u22c5m\u2082\u22c5f(t)\u22c5cos(2\u22c5(q\u2081(t) - q\u2082(t))) + 3\u22c5m\u2081\u22c5m\u2082\u22c5f(t) - \n",
        "\u2500\u2500\u2500\u2500\u2500\u2500\u2500\u2500\u2500\u2500\u2500\u2500\u2500\u2500\u2500\u2500\u2500\u2500\u2500\u2500\u2500\u2500\u2500\u2500\u2500\u2500\u2500\u2500\u2500\u2500\u2500\u2500\u2500\u2500\u2500\u2500\u2500\u2500\u2500\u2500\u2500\u2500\u2500\u2500\u2500\u2500\u2500\u2500\u2500\u2500\u2500\u2500\u2500\u2500\u2500\u2500\u2500\u2500\u2500\u2500\u2500\u2500\u2500\u2500\u2500\u2500\u2500\u2500\u2500\u2500\u2500\u2500\u2500\u2500\u2500\u2500\u2500\u2500\n",
        "                                                                              \n",
        "                                                                              \n",
        "\n",
        "  2                                 2     \n",
        "m\u2082 \u22c5f(t)\u22c5cos(2\u22c5(q\u2081(t) - q\u2082(t))) + m\u2082 \u22c5f(t)\n",
        "\u2500\u2500\u2500\u2500\u2500\u2500\u2500\u2500\u2500\u2500\u2500\u2500\u2500\u2500\u2500\u2500\u2500\u2500\u2500\u2500\u2500\u2500\u2500\u2500\u2500\u2500\u2500\u2500\u2500\u2500\u2500\u2500\u2500\u2500\u2500\u2500\u2500\u2500\u2500\u2500\u2500\u2500\n",
        "                                          \n",
        "                                          "
       ]
      }
     ],
     "prompt_number": 56
    },
    {
     "cell_type": "code",
     "collapsed": false,
     "input": [
      "dots[1].trigsimp()"
     ],
     "language": "python",
     "metadata": {},
     "outputs": [
      {
       "latex": [
        "$$\\frac{1}{m_{0} m_{1} - 2 m_{0} m_{2} \\sin^{2}{\\left (\\operatorname{q1}{\\left (t \\right )} \\right )} \\sin^{2}{\\left (\\operatorname{q2}{\\left (t \\right )} \\right )} + m_{0} m_{2} \\sin^{2}{\\left (\\operatorname{q1}{\\left (t \\right )} \\right )} - 2 m_{0} m_{2} \\sin{\\left (\\operatorname{q1}{\\left (t \\right )} \\right )} \\sin{\\left (\\operatorname{q2}{\\left (t \\right )} \\right )} \\cos{\\left (\\operatorname{q1}{\\left (t \\right )} \\right )} \\cos{\\left (\\operatorname{q2}{\\left (t \\right )} \\right )} + m_{0} m_{2} \\sin^{2}{\\left (\\operatorname{q2}{\\left (t \\right )} \\right )} - m_{1}^{2} \\sin^{2}{\\left (\\operatorname{q1}{\\left (t \\right )} \\right )} + m_{1}^{2} - m_{1} m_{2} \\sin^{2}{\\left (\\operatorname{q1}{\\left (t \\right )} \\right )} + m_{1} m_{2}} \\left(- \\frac{g m_{0}}{l_{0}} m_{1} \\cos{\\left (\\operatorname{q1}{\\left (t \\right )} \\right )} + \\frac{g m_{0}}{l_{0}} m_{2} \\cos{\\left (\\operatorname{q1}{\\left (t \\right )} - \\operatorname{q2}{\\left (t \\right )} \\right )} \\cos{\\left (\\operatorname{q2}{\\left (t \\right )} \\right )} - \\frac{g m_{0}}{l_{0}} m_{2} \\cos{\\left (\\operatorname{q1}{\\left (t \\right )} \\right )} - \\frac{g m_{1}^{2}}{l_{0}} \\cos{\\left (\\operatorname{q1}{\\left (t \\right )} \\right )} - \\frac{g m_{1}}{l_{0}} m_{2} \\cos{\\left (\\operatorname{q1}{\\left (t \\right )} \\right )} - m_{0} m_{2} \\operatorname{u1}^{2}{\\left (t \\right )} \\sin{\\left (\\operatorname{q1}{\\left (t \\right )} - \\operatorname{q2}{\\left (t \\right )} \\right )} \\cos{\\left (\\operatorname{q1}{\\left (t \\right )} - \\operatorname{q2}{\\left (t \\right )} \\right )} + m_{1}^{2} \\operatorname{u1}^{2}{\\left (t \\right )} \\sin{\\left (\\operatorname{q1}{\\left (t \\right )} \\right )} \\cos{\\left (\\operatorname{q1}{\\left (t \\right )} \\right )} + m_{1} m_{2} \\operatorname{u1}^{2}{\\left (t \\right )} \\sin{\\left (\\operatorname{q1}{\\left (t \\right )} \\right )} \\cos{\\left (\\operatorname{q1}{\\left (t \\right )} \\right )} - \\frac{l_{1} m_{0}}{l_{0}} m_{2} \\operatorname{u2}^{2}{\\left (t \\right )} \\sin{\\left (\\operatorname{q1}{\\left (t \\right )} - \\operatorname{q2}{\\left (t \\right )} \\right )} + \\frac{l_{1} m_{1}}{l_{0}} m_{2} \\operatorname{u2}^{2}{\\left (t \\right )} \\sin{\\left (\\operatorname{q2}{\\left (t \\right )} \\right )} \\cos{\\left (\\operatorname{q1}{\\left (t \\right )} \\right )} + \\frac{m_{1}}{l_{0}} f{\\left (t \\right )} \\sin{\\left (\\operatorname{q1}{\\left (t \\right )} \\right )} + \\frac{m_{2}}{l_{0}} f{\\left (t \\right )} \\sin{\\left (\\operatorname{q1}{\\left (t \\right )} \\right )} - \\frac{m_{2}}{l_{0}} f{\\left (t \\right )} \\sin{\\left (\\operatorname{q2}{\\left (t \\right )} \\right )} \\cos{\\left (\\operatorname{q1}{\\left (t \\right )} - \\operatorname{q2}{\\left (t \\right )} \\right )}\\right)$$"
       ],
       "metadata": {},
       "output_type": "pyout",
       "png": "[encoded data removed]",
       "prompt_number": 57,
       "text": [
        "                                                                              \n",
        "  g\u22c5m\u2080\u22c5m\u2081\u22c5cos(q\u2081(t))   g\u22c5m\u2080\u22c5m\u2082\u22c5cos(q\u2081(t) - q\u2082(t))\u22c5cos(q\u2082(t))   g\u22c5m\u2080\u22c5m\u2082\u22c5cos(q\u2081(\n",
        "- \u2500\u2500\u2500\u2500\u2500\u2500\u2500\u2500\u2500\u2500\u2500\u2500\u2500\u2500\u2500\u2500\u2500\u2500 + \u2500\u2500\u2500\u2500\u2500\u2500\u2500\u2500\u2500\u2500\u2500\u2500\u2500\u2500\u2500\u2500\u2500\u2500\u2500\u2500\u2500\u2500\u2500\u2500\u2500\u2500\u2500\u2500\u2500\u2500\u2500\u2500\u2500\u2500\u2500\u2500\u2500 - \u2500\u2500\u2500\u2500\u2500\u2500\u2500\u2500\u2500\u2500\u2500\u2500\u2500\u2500\u2500\n",
        "          l\u2080                             l\u2080                            l\u2080     \n",
        "\u2500\u2500\u2500\u2500\u2500\u2500\u2500\u2500\u2500\u2500\u2500\u2500\u2500\u2500\u2500\u2500\u2500\u2500\u2500\u2500\u2500\u2500\u2500\u2500\u2500\u2500\u2500\u2500\u2500\u2500\u2500\u2500\u2500\u2500\u2500\u2500\u2500\u2500\u2500\u2500\u2500\u2500\u2500\u2500\u2500\u2500\u2500\u2500\u2500\u2500\u2500\u2500\u2500\u2500\u2500\u2500\u2500\u2500\u2500\u2500\u2500\u2500\u2500\u2500\u2500\u2500\u2500\u2500\u2500\u2500\u2500\u2500\u2500\u2500\u2500\u2500\u2500\u2500\n",
        "                                                                              \n",
        "                                                                              \n",
        "\n",
        "          2                                                                   \n",
        "t))   g\u22c5m\u2081 \u22c5cos(q\u2081(t))   g\u22c5m\u2081\u22c5m\u2082\u22c5cos(q\u2081(t))           2                       \n",
        "\u2500\u2500\u2500 - \u2500\u2500\u2500\u2500\u2500\u2500\u2500\u2500\u2500\u2500\u2500\u2500\u2500\u2500\u2500\u2500 - \u2500\u2500\u2500\u2500\u2500\u2500\u2500\u2500\u2500\u2500\u2500\u2500\u2500\u2500\u2500\u2500\u2500\u2500 - m\u2080\u22c5m\u2082\u22c5u\u2081 (t)\u22c5sin(q\u2081(t) - q\u2082(t))\u22c5\n",
        "             l\u2080                  l\u2080                                           \n",
        "\u2500\u2500\u2500\u2500\u2500\u2500\u2500\u2500\u2500\u2500\u2500\u2500\u2500\u2500\u2500\u2500\u2500\u2500\u2500\u2500\u2500\u2500\u2500\u2500\u2500\u2500\u2500\u2500\u2500\u2500\u2500\u2500\u2500\u2500\u2500\u2500\u2500\u2500\u2500\u2500\u2500\u2500\u2500\u2500\u2500\u2500\u2500\u2500\u2500\u2500\u2500\u2500\u2500\u2500\u2500\u2500\u2500\u2500\u2500\u2500\u2500\u2500\u2500\u2500\u2500\u2500\u2500\u2500\u2500\u2500\u2500\u2500\u2500\u2500\u2500\u2500\u2500\u2500\n",
        "                                                   2           2              \n",
        "                                m\u2080\u22c5m\u2081 - 2\u22c5m\u2080\u22c5m\u2082\u22c5sin (q\u2081(t))\u22c5sin (q\u2082(t)) + m\u2080\u22c5m\n",
        "\n",
        "                                                                              \n",
        "                       2   2                                    2             \n",
        "cos(q\u2081(t) - q\u2082(t)) + m\u2081 \u22c5u\u2081 (t)\u22c5sin(q\u2081(t))\u22c5cos(q\u2081(t)) + m\u2081\u22c5m\u2082\u22c5u\u2081 (t)\u22c5sin(q\u2081(t)\n",
        "                                                                              \n",
        "\u2500\u2500\u2500\u2500\u2500\u2500\u2500\u2500\u2500\u2500\u2500\u2500\u2500\u2500\u2500\u2500\u2500\u2500\u2500\u2500\u2500\u2500\u2500\u2500\u2500\u2500\u2500\u2500\u2500\u2500\u2500\u2500\u2500\u2500\u2500\u2500\u2500\u2500\u2500\u2500\u2500\u2500\u2500\u2500\u2500\u2500\u2500\u2500\u2500\u2500\u2500\u2500\u2500\u2500\u2500\u2500\u2500\u2500\u2500\u2500\u2500\u2500\u2500\u2500\u2500\u2500\u2500\u2500\u2500\u2500\u2500\u2500\u2500\u2500\u2500\u2500\u2500\u2500\n",
        "     2                                                                        \n",
        "\u2082\u22c5sin (q\u2081(t)) - 2\u22c5m\u2080\u22c5m\u2082\u22c5sin(q\u2081(t))\u22c5sin(q\u2082(t))\u22c5cos(q\u2081(t))\u22c5cos(q\u2082(t)) + m\u2080\u22c5m\u2082\u22c5si\n",
        "\n",
        "                          2                                    2              \n",
        "               l\u2081\u22c5m\u2080\u22c5m\u2082\u22c5u\u2082 (t)\u22c5sin(q\u2081(t) - q\u2082(t))   l\u2081\u22c5m\u2081\u22c5m\u2082\u22c5u\u2082 (t)\u22c5sin(q\u2082(t))\n",
        ")\u22c5cos(q\u2081(t)) - \u2500\u2500\u2500\u2500\u2500\u2500\u2500\u2500\u2500\u2500\u2500\u2500\u2500\u2500\u2500\u2500\u2500\u2500\u2500\u2500\u2500\u2500\u2500\u2500\u2500\u2500\u2500\u2500\u2500\u2500\u2500\u2500\u2500\u2500 + \u2500\u2500\u2500\u2500\u2500\u2500\u2500\u2500\u2500\u2500\u2500\u2500\u2500\u2500\u2500\u2500\u2500\u2500\u2500\u2500\u2500\u2500\u2500\u2500\u2500\u2500\n",
        "                               l\u2080                                     l\u2080      \n",
        "\u2500\u2500\u2500\u2500\u2500\u2500\u2500\u2500\u2500\u2500\u2500\u2500\u2500\u2500\u2500\u2500\u2500\u2500\u2500\u2500\u2500\u2500\u2500\u2500\u2500\u2500\u2500\u2500\u2500\u2500\u2500\u2500\u2500\u2500\u2500\u2500\u2500\u2500\u2500\u2500\u2500\u2500\u2500\u2500\u2500\u2500\u2500\u2500\u2500\u2500\u2500\u2500\u2500\u2500\u2500\u2500\u2500\u2500\u2500\u2500\u2500\u2500\u2500\u2500\u2500\u2500\u2500\u2500\u2500\u2500\u2500\u2500\u2500\u2500\u2500\u2500\u2500\u2500\n",
        " 2            2    2            2            2                                \n",
        "n (q\u2082(t)) - m\u2081 \u22c5sin (q\u2081(t)) + m\u2081  - m\u2081\u22c5m\u2082\u22c5sin (q\u2081(t)) + m\u2081\u22c5m\u2082                 \n",
        "\n",
        "                                                                              \n",
        "\u22c5cos(q\u2081(t))   m\u2081\u22c5f(t)\u22c5sin(q\u2081(t))   m\u2082\u22c5f(t)\u22c5sin(q\u2081(t))   m\u2082\u22c5f(t)\u22c5sin(q\u2082(t))\u22c5cos\n",
        "\u2500\u2500\u2500\u2500\u2500\u2500\u2500\u2500\u2500\u2500\u2500 + \u2500\u2500\u2500\u2500\u2500\u2500\u2500\u2500\u2500\u2500\u2500\u2500\u2500\u2500\u2500\u2500\u2500\u2500 + \u2500\u2500\u2500\u2500\u2500\u2500\u2500\u2500\u2500\u2500\u2500\u2500\u2500\u2500\u2500\u2500\u2500\u2500 - \u2500\u2500\u2500\u2500\u2500\u2500\u2500\u2500\u2500\u2500\u2500\u2500\u2500\u2500\u2500\u2500\u2500\u2500\u2500\u2500\u2500\u2500\n",
        "                      l\u2080                   l\u2080                             l\u2080  \n",
        "\u2500\u2500\u2500\u2500\u2500\u2500\u2500\u2500\u2500\u2500\u2500\u2500\u2500\u2500\u2500\u2500\u2500\u2500\u2500\u2500\u2500\u2500\u2500\u2500\u2500\u2500\u2500\u2500\u2500\u2500\u2500\u2500\u2500\u2500\u2500\u2500\u2500\u2500\u2500\u2500\u2500\u2500\u2500\u2500\u2500\u2500\u2500\u2500\u2500\u2500\u2500\u2500\u2500\u2500\u2500\u2500\u2500\u2500\u2500\u2500\u2500\u2500\u2500\u2500\u2500\u2500\u2500\u2500\u2500\u2500\u2500\u2500\u2500\u2500\u2500\u2500\u2500\u2500\n",
        "                                                                              \n",
        "                                                                              \n",
        "\n",
        "               \n",
        "(q\u2081(t) - q\u2082(t))\n",
        "\u2500\u2500\u2500\u2500\u2500\u2500\u2500\u2500\u2500\u2500\u2500\u2500\u2500\u2500\u2500\n",
        "               \n",
        "\u2500\u2500\u2500\u2500\u2500\u2500\u2500\u2500\u2500\u2500\u2500\u2500\u2500\u2500\u2500\n",
        "               \n",
        "               "
       ]
      }
     ],
     "prompt_number": 57
    },
    {
     "cell_type": "code",
     "collapsed": false,
     "input": [
      "dots[2].trigsimp()"
     ],
     "language": "python",
     "metadata": {},
     "outputs": [
      {
       "latex": [
        "$$\\frac{1}{- \\frac{l_{1}^{2} m_{2}^{2} \\sin^{2}{\\left (\\operatorname{q2}{\\left (t \\right )} \\right )}}{m_{0} + m_{1} + m_{2}} + l_{1}^{2} m_{2} - \\frac{\\left(- \\frac{l_{0} l_{1} m_{2} \\sin{\\left (\\operatorname{q1}{\\left (t \\right )} \\right )}}{m_{0} + m_{1} + m_{2}} \\left(m_{1} + m_{2}\\right) \\sin{\\left (\\operatorname{q2}{\\left (t \\right )} \\right )} + l_{0} l_{1} m_{2} \\cos{\\left (\\operatorname{q1}{\\left (t \\right )} - \\operatorname{q2}{\\left (t \\right )} \\right )}\\right)^{2}}{l_{0}^{2} m_{1} + l_{0}^{2} m_{2} - \\frac{l_{0}^{2} \\left(m_{1} + m_{2}\\right)^{2}}{m_{0} + m_{1} + m_{2}} \\sin^{2}{\\left (\\operatorname{q1}{\\left (t \\right )} \\right )}}} \\left(l_{1} m_{2} \\left(- g \\cos{\\left (\\operatorname{q2}{\\left (t \\right )} \\right )} + l_{0} \\operatorname{u1}^{2}{\\left (t \\right )} \\sin{\\left (\\operatorname{q1}{\\left (t \\right )} - \\operatorname{q2}{\\left (t \\right )} \\right )}\\right) + \\frac{l_{1} m_{2} \\sin{\\left (\\operatorname{q2}{\\left (t \\right )} \\right )}}{m_{0} + m_{1} + m_{2}} \\left(l_{0} m_{1} \\operatorname{u1}^{2}{\\left (t \\right )} \\cos{\\left (\\operatorname{q1}{\\left (t \\right )} \\right )} + l_{0} m_{2} \\operatorname{u1}^{2}{\\left (t \\right )} \\cos{\\left (\\operatorname{q1}{\\left (t \\right )} \\right )} + l_{1} m_{2} \\operatorname{u2}^{2}{\\left (t \\right )} \\cos{\\left (\\operatorname{q2}{\\left (t \\right )} \\right )} + f{\\left (t \\right )}\\right) - \\frac{1}{l_{0}^{2} m_{1} + l_{0}^{2} m_{2} - \\frac{l_{0}^{2} \\left(m_{1} + m_{2}\\right)^{2}}{m_{0} + m_{1} + m_{2}} \\sin^{2}{\\left (\\operatorname{q1}{\\left (t \\right )} \\right )}} \\left(\\frac{l_{0} \\sin{\\left (\\operatorname{q1}{\\left (t \\right )} \\right )}}{m_{0} + m_{1} + m_{2}} \\left(m_{1} + m_{2}\\right) \\left(l_{0} m_{1} \\operatorname{u1}^{2}{\\left (t \\right )} \\cos{\\left (\\operatorname{q1}{\\left (t \\right )} \\right )} + l_{0} m_{2} \\operatorname{u1}^{2}{\\left (t \\right )} \\cos{\\left (\\operatorname{q1}{\\left (t \\right )} \\right )} + l_{1} m_{2} \\operatorname{u2}^{2}{\\left (t \\right )} \\cos{\\left (\\operatorname{q2}{\\left (t \\right )} \\right )} + f{\\left (t \\right )}\\right) - l_{0} \\left(g m_{1} \\cos{\\left (\\operatorname{q1}{\\left (t \\right )} \\right )} + g m_{2} \\cos{\\left (\\operatorname{q1}{\\left (t \\right )} \\right )} + l_{1} m_{2} \\operatorname{u2}^{2}{\\left (t \\right )} \\sin{\\left (\\operatorname{q1}{\\left (t \\right )} - \\operatorname{q2}{\\left (t \\right )} \\right )}\\right)\\right) \\left(- \\frac{l_{0} l_{1} m_{2} \\sin{\\left (\\operatorname{q1}{\\left (t \\right )} \\right )}}{m_{0} + m_{1} + m_{2}} \\left(m_{1} + m_{2}\\right) \\sin{\\left (\\operatorname{q2}{\\left (t \\right )} \\right )} + l_{0} l_{1} m_{2} \\cos{\\left (\\operatorname{q1}{\\left (t \\right )} - \\operatorname{q2}{\\left (t \\right )} \\right )}\\right)\\right)$$"
       ],
       "metadata": {},
       "output_type": "pyout",
       "png": "[encoded data removed]",
       "prompt_number": 58,
       "text": [
        "                                                                              \n",
        "                                                                              \n",
        "                                                             \u239b        2       \n",
        "      \u239b                     2                      \u239e   l\u2081\u22c5m\u2082\u22c5\u239dl\u2080\u22c5m\u2081\u22c5u\u2081 (t)\u22c5cos\n",
        "l\u2081\u22c5m\u2082\u22c5\u239d-g\u22c5cos(q\u2082(t)) + l\u2080\u22c5u\u2081 (t)\u22c5sin(q\u2081(t) - q\u2082(t))\u23a0 + \u2500\u2500\u2500\u2500\u2500\u2500\u2500\u2500\u2500\u2500\u2500\u2500\u2500\u2500\u2500\u2500\u2500\u2500\u2500\u2500\u2500\u2500\u2500\n",
        "                                                                              \n",
        "                                                                              \n",
        "                                                                              \n",
        "                                                                              \n",
        "\u2500\u2500\u2500\u2500\u2500\u2500\u2500\u2500\u2500\u2500\u2500\u2500\u2500\u2500\u2500\u2500\u2500\u2500\u2500\u2500\u2500\u2500\u2500\u2500\u2500\u2500\u2500\u2500\u2500\u2500\u2500\u2500\u2500\u2500\u2500\u2500\u2500\u2500\u2500\u2500\u2500\u2500\u2500\u2500\u2500\u2500\u2500\u2500\u2500\u2500\u2500\u2500\u2500\u2500\u2500\u2500\u2500\u2500\u2500\u2500\u2500\u2500\u2500\u2500\u2500\u2500\u2500\u2500\u2500\u2500\u2500\u2500\u2500\u2500\u2500\u2500\u2500\u2500\n",
        "                                                                              \n",
        "                                                                              \n",
        "                                                                              \n",
        "                                                                              \n",
        "                                                                              \n",
        "                                                                              \n",
        "                                                                              \n",
        "                                                                              \n",
        "                                                                              \n",
        "\n",
        "                                                                              \n",
        "                                                                              \n",
        "                  2                         2                     \u239e           \n",
        "(q\u2081(t)) + l\u2080\u22c5m\u2082\u22c5u\u2081 (t)\u22c5cos(q\u2081(t)) + l\u2081\u22c5m\u2082\u22c5u\u2082 (t)\u22c5cos(q\u2082(t)) + f(t)\u23a0\u22c5sin(q\u2082(t))\n",
        "\u2500\u2500\u2500\u2500\u2500\u2500\u2500\u2500\u2500\u2500\u2500\u2500\u2500\u2500\u2500\u2500\u2500\u2500\u2500\u2500\u2500\u2500\u2500\u2500\u2500\u2500\u2500\u2500\u2500\u2500\u2500\u2500\u2500\u2500\u2500\u2500\u2500\u2500\u2500\u2500\u2500\u2500\u2500\u2500\u2500\u2500\u2500\u2500\u2500\u2500\u2500\u2500\u2500\u2500\u2500\u2500\u2500\u2500\u2500\u2500\u2500\u2500\u2500\u2500\u2500\u2500\u2500\u2500\u2500\u2500\u2500\u2500\u2500\u2500\u2500\u2500\u2500\u2500\n",
        "                      m\u2080 + m\u2081 + m\u2082                                            \n",
        "                                                                              \n",
        "                                                                              \n",
        "                                                                              \n",
        "\u2500\u2500\u2500\u2500\u2500\u2500\u2500\u2500\u2500\u2500\u2500\u2500\u2500\u2500\u2500\u2500\u2500\u2500\u2500\u2500\u2500\u2500\u2500\u2500\u2500\u2500\u2500\u2500\u2500\u2500\u2500\u2500\u2500\u2500\u2500\u2500\u2500\u2500\u2500\u2500\u2500\u2500\u2500\u2500\u2500\u2500\u2500\u2500\u2500\u2500\u2500\u2500\u2500\u2500\u2500\u2500\u2500\u2500\u2500\u2500\u2500\u2500\u2500\u2500\u2500\u2500\u2500\u2500\u2500\u2500\u2500\u2500\u2500\u2500\u2500\u2500\u2500\u2500\n",
        "                                                                              \n",
        "                                                                              \n",
        "                                                                              \n",
        "                                                                              \n",
        "                                                                              \n",
        "                                                                              \n",
        "                                                                              \n",
        "                                                                              \n",
        "                                                                              \n",
        "\n",
        "   \u239b             \u239b        2                         2                         \n",
        "   \u239cl\u2080\u22c5(m\u2081 + m\u2082)\u22c5\u239dl\u2080\u22c5m\u2081\u22c5u\u2081 (t)\u22c5cos(q\u2081(t)) + l\u2080\u22c5m\u2082\u22c5u\u2081 (t)\u22c5cos(q\u2081(t)) + l\u2081\u22c5m\u2082\u22c5u\u2082\n",
        "   \u239c\u2500\u2500\u2500\u2500\u2500\u2500\u2500\u2500\u2500\u2500\u2500\u2500\u2500\u2500\u2500\u2500\u2500\u2500\u2500\u2500\u2500\u2500\u2500\u2500\u2500\u2500\u2500\u2500\u2500\u2500\u2500\u2500\u2500\u2500\u2500\u2500\u2500\u2500\u2500\u2500\u2500\u2500\u2500\u2500\u2500\u2500\u2500\u2500\u2500\u2500\u2500\u2500\u2500\u2500\u2500\u2500\u2500\u2500\u2500\u2500\u2500\u2500\u2500\u2500\u2500\u2500\u2500\u2500\u2500\u2500\u2500\u2500\u2500\u2500\n",
        "   \u239d                                                m\u2080 + m\u2081 + m\u2082              \n",
        " - \u2500\u2500\u2500\u2500\u2500\u2500\u2500\u2500\u2500\u2500\u2500\u2500\u2500\u2500\u2500\u2500\u2500\u2500\u2500\u2500\u2500\u2500\u2500\u2500\u2500\u2500\u2500\u2500\u2500\u2500\u2500\u2500\u2500\u2500\u2500\u2500\u2500\u2500\u2500\u2500\u2500\u2500\u2500\u2500\u2500\u2500\u2500\u2500\u2500\u2500\u2500\u2500\u2500\u2500\u2500\u2500\u2500\u2500\u2500\u2500\u2500\u2500\u2500\u2500\u2500\u2500\u2500\u2500\u2500\u2500\u2500\u2500\u2500\u2500\u2500\n",
        "                                                                              \n",
        "                                                                              \n",
        "                                                                              \n",
        "                                                                              \n",
        "\u2500\u2500\u2500\u2500\u2500\u2500\u2500\u2500\u2500\u2500\u2500\u2500\u2500\u2500\u2500\u2500\u2500\u2500\u2500\u2500\u2500\u2500\u2500\u2500\u2500\u2500\u2500\u2500\u2500\u2500\u2500\u2500\u2500\u2500\u2500\u2500\u2500\u2500\u2500\u2500\u2500\u2500\u2500\u2500\u2500\u2500\u2500\u2500\u2500\u2500\u2500\u2500\u2500\u2500\u2500\u2500\u2500\u2500\u2500\u2500\u2500\u2500\u2500\u2500\u2500\u2500\u2500\u2500\u2500\u2500\u2500\u2500\u2500\u2500\u2500\u2500\u2500\u2500\n",
        "                                                                              \n",
        "                                 \u239b  l\u2080\u22c5l\u2081\u22c5m\u2082\u22c5(m\u2081 + m\u2082)\u22c5sin(q\u2081(t))\u22c5sin(q\u2082(t))  \n",
        "    2   2    2                   \u239c- \u2500\u2500\u2500\u2500\u2500\u2500\u2500\u2500\u2500\u2500\u2500\u2500\u2500\u2500\u2500\u2500\u2500\u2500\u2500\u2500\u2500\u2500\u2500\u2500\u2500\u2500\u2500\u2500\u2500\u2500\u2500\u2500\u2500\u2500\u2500\u2500\u2500\u2500\u2500\u2500 +\n",
        "  l\u2081 \u22c5m\u2082 \u22c5sin (q\u2082(t))     2      \u239d                m\u2080 + m\u2081 + m\u2082                \n",
        "- \u2500\u2500\u2500\u2500\u2500\u2500\u2500\u2500\u2500\u2500\u2500\u2500\u2500\u2500\u2500\u2500\u2500\u2500\u2500 + l\u2081 \u22c5m\u2082 - \u2500\u2500\u2500\u2500\u2500\u2500\u2500\u2500\u2500\u2500\u2500\u2500\u2500\u2500\u2500\u2500\u2500\u2500\u2500\u2500\u2500\u2500\u2500\u2500\u2500\u2500\u2500\u2500\u2500\u2500\u2500\u2500\u2500\u2500\u2500\u2500\u2500\u2500\u2500\u2500\u2500\u2500\u2500\u2500\u2500\n",
        "      m\u2080 + m\u2081 + m\u2082                                                   2        \n",
        "                                                   2        2      l\u2080 \u22c5(m\u2081 + m\n",
        "                                                 l\u2080 \u22c5m\u2081 + l\u2080 \u22c5m\u2082 - \u2500\u2500\u2500\u2500\u2500\u2500\u2500\u2500\u2500\u2500\u2500\n",
        "                                                                          m\u2080 +\n",
        "\n",
        "2                     \u239e                                                       \n",
        " (t)\u22c5cos(q\u2082(t)) + f(t)\u23a0\u22c5sin(q\u2081(t))      \u239b                                     \n",
        "\u2500\u2500\u2500\u2500\u2500\u2500\u2500\u2500\u2500\u2500\u2500\u2500\u2500\u2500\u2500\u2500\u2500\u2500\u2500\u2500\u2500\u2500\u2500\u2500\u2500\u2500\u2500\u2500\u2500\u2500\u2500\u2500\u2500\u2500 - l\u2080\u22c5\u239dg\u22c5m\u2081\u22c5cos(q\u2081(t)) + g\u22c5m\u2082\u22c5cos(q\u2081(t)) + l\n",
        "                                                                              \n",
        "\u2500\u2500\u2500\u2500\u2500\u2500\u2500\u2500\u2500\u2500\u2500\u2500\u2500\u2500\u2500\u2500\u2500\u2500\u2500\u2500\u2500\u2500\u2500\u2500\u2500\u2500\u2500\u2500\u2500\u2500\u2500\u2500\u2500\u2500\u2500\u2500\u2500\u2500\u2500\u2500\u2500\u2500\u2500\u2500\u2500\u2500\u2500\u2500\u2500\u2500\u2500\u2500\u2500\u2500\u2500\u2500\u2500\u2500\u2500\u2500\u2500\u2500\u2500\u2500\u2500\u2500\u2500\u2500\u2500\u2500\u2500\u2500\u2500\u2500\u2500\u2500\u2500\u2500\n",
        "                                                     2          2    2        \n",
        "                                   2        2      l\u2080 \u22c5(m\u2081 + m\u2082) \u22c5sin (q\u2081(t)) \n",
        "                                 l\u2080 \u22c5m\u2081 + l\u2080 \u22c5m\u2082 - \u2500\u2500\u2500\u2500\u2500\u2500\u2500\u2500\u2500\u2500\u2500\u2500\u2500\u2500\u2500\u2500\u2500\u2500\u2500\u2500\u2500\u2500\u2500\u2500\u2500\u2500 \n",
        "                                                          m\u2080 + m\u2081 + m\u2082        \n",
        "\u2500\u2500\u2500\u2500\u2500\u2500\u2500\u2500\u2500\u2500\u2500\u2500\u2500\u2500\u2500\u2500\u2500\u2500\u2500\u2500\u2500\u2500\u2500\u2500\u2500\u2500\u2500\u2500\u2500\u2500\u2500\u2500\u2500\u2500\u2500\u2500\u2500\u2500\u2500\u2500\u2500\u2500\u2500\u2500\u2500\u2500\u2500\u2500\u2500\u2500\u2500\u2500\u2500\u2500\u2500\u2500\u2500\u2500\u2500\u2500\u2500\u2500\u2500\u2500\u2500\u2500\u2500\u2500\u2500\u2500\u2500\u2500\u2500\u2500\u2500\u2500\u2500\u2500\n",
        "                             2                                                \n",
        "                            \u239e                                                 \n",
        " l\u2080\u22c5l\u2081\u22c5m\u2082\u22c5cos(q\u2081(t) - q\u2082(t))\u239f                                                 \n",
        "                            \u23a0                                                 \n",
        "\u2500\u2500\u2500\u2500\u2500\u2500\u2500\u2500\u2500\u2500\u2500\u2500\u2500\u2500\u2500\u2500\u2500\u2500\u2500\u2500\u2500\u2500\u2500\u2500\u2500\u2500\u2500\u2500\u2500\u2500                                                \n",
        "  2    2                                                                      \n",
        "\u2082) \u22c5sin (q\u2081(t))                                                               \n",
        "\u2500\u2500\u2500\u2500\u2500\u2500\u2500\u2500\u2500\u2500\u2500\u2500\u2500\u2500\u2500                                                               \n",
        " m\u2081 + m\u2082                                                                      \n",
        "\n",
        "                               \u239e                                              \n",
        "       2                      \u239e\u239f \u239b  l\u2080\u22c5l\u2081\u22c5m\u2082\u22c5(m\u2081 + m\u2082)\u22c5sin(q\u2081(t))\u22c5sin(q\u2082(t))  \n",
        "\u2081\u22c5m\u2082\u22c5u\u2082 (t)\u22c5sin(q\u2081(t) - q\u2082(t))\u23a0\u239f\u22c5\u239c- \u2500\u2500\u2500\u2500\u2500\u2500\u2500\u2500\u2500\u2500\u2500\u2500\u2500\u2500\u2500\u2500\u2500\u2500\u2500\u2500\u2500\u2500\u2500\u2500\u2500\u2500\u2500\u2500\u2500\u2500\u2500\u2500\u2500\u2500\u2500\u2500\u2500\u2500\u2500\u2500 +\n",
        "                               \u23a0 \u239d                m\u2080 + m\u2081 + m\u2082                \n",
        "\u2500\u2500\u2500\u2500\u2500\u2500\u2500\u2500\u2500\u2500\u2500\u2500\u2500\u2500\u2500\u2500\u2500\u2500\u2500\u2500\u2500\u2500\u2500\u2500\u2500\u2500\u2500\u2500\u2500\u2500\u2500\u2500\u2500\u2500\u2500\u2500\u2500\u2500\u2500\u2500\u2500\u2500\u2500\u2500\u2500\u2500\u2500\u2500\u2500\u2500\u2500\u2500\u2500\u2500\u2500\u2500\u2500\u2500\u2500\u2500\u2500\u2500\u2500\u2500\u2500\u2500\u2500\u2500\u2500\u2500\u2500\u2500\u2500\u2500\u2500\u2500\u2500\u2500\n",
        "                                                                              \n",
        "                                                                              \n",
        "                                                                              \n",
        "                                                                              \n",
        "\u2500\u2500\u2500\u2500\u2500\u2500\u2500\u2500\u2500\u2500\u2500\u2500\u2500\u2500\u2500\u2500\u2500\u2500\u2500\u2500\u2500\u2500\u2500\u2500\u2500\u2500\u2500\u2500\u2500\u2500\u2500\u2500\u2500\u2500\u2500\u2500\u2500\u2500\u2500\u2500\u2500\u2500\u2500\u2500\u2500\u2500\u2500\u2500\u2500\u2500\u2500\u2500\u2500\u2500\u2500\u2500\u2500\u2500\u2500\u2500\u2500\u2500\u2500\u2500\u2500\u2500\u2500\u2500\u2500\u2500\u2500\u2500\u2500\u2500\u2500\u2500\u2500\u2500\n",
        "                                                                              \n",
        "                                                                              \n",
        "                                                                              \n",
        "                                                                              \n",
        "                                                                              \n",
        "                                                                              \n",
        "                                                                              \n",
        "                                                                              \n",
        "                                                                              \n",
        "\n",
        "                             \n",
        "                            \u239e\n",
        " l\u2080\u22c5l\u2081\u22c5m\u2082\u22c5cos(q\u2081(t) - q\u2082(t))\u239f\n",
        "                            \u23a0\n",
        "\u2500\u2500\u2500\u2500\u2500\u2500\u2500\u2500\u2500\u2500\u2500\u2500\u2500\u2500\u2500\u2500\u2500\u2500\u2500\u2500\u2500\u2500\u2500\u2500\u2500\u2500\u2500\u2500\u2500\n",
        "                             \n",
        "                             \n",
        "                             \n",
        "                             \n",
        "\u2500\u2500\u2500\u2500\u2500\u2500\u2500\u2500\u2500\u2500\u2500\u2500\u2500\u2500\u2500\u2500\u2500\u2500\u2500\u2500\u2500\u2500\u2500\u2500\u2500\u2500\u2500\u2500\u2500\n",
        "                             \n",
        "                             \n",
        "                             \n",
        "                             \n",
        "                             \n",
        "                             \n",
        "                             \n",
        "                             \n",
        "                             "
       ]
      }
     ],
     "prompt_number": 58
    },
    {
     "cell_type": "markdown",
     "metadata": {},
     "source": [
      "Simulation\n",
      "==========\n",
      "\n",
      "Now that the symbolic equations of motion are available we can simulate the pendulum's motion. We will need some more SymPy functionality and several NumPy functions, and most importantly the integration function from SciPy, `odeint`."
     ]
    },
    {
     "cell_type": "code",
     "collapsed": false,
     "input": [
      "from sympy import Dummy, lambdify\n",
      "from numpy import array, hstack, zeros, linspace, pi\n",
      "from numpy.linalg import solve\n",
      "from scipy.integrate import odeint"
     ],
     "language": "python",
     "metadata": {},
     "outputs": [],
     "prompt_number": 15
    },
    {
     "cell_type": "markdown",
     "metadata": {},
     "source": [
      "First, define some numeric values for all of the constant parameters in the problem."
     ]
    },
    {
     "cell_type": "code",
     "collapsed": false,
     "input": [
      "arm_length = 1. / n                          # The maximum length of the pendulum is 1 meter\n",
      "bob_mass = 0.01 / n                          # The maximum mass of the bobs is 10 grams\n",
      "parameters = [g, m[0]]                       # Parameter definitions starting with gravity and the first bob\n",
      "parameter_vals = [9.81, 0.01 / n]            # Numerical values for the first two\n",
      "for i in range(n):                           # Then each mass and length\n",
      "    parameters += [l[i], m[i + 1]]            \n",
      "    parameter_vals += [arm_length, bob_mass]"
     ],
     "language": "python",
     "metadata": {},
     "outputs": [],
     "prompt_number": 16
    },
    {
     "cell_type": "markdown",
     "metadata": {},
     "source": [
      "Mathematica has a really nice `NDSolve` function for quickly integrating their symbolic differential equations. We have plans to develop something similar for SymPy but haven't found the development time yet to do it properly. So the next bit isn't as clean as we'd like but you can make use of SymPy's lambdify function to create functions that will evaluate the mass matrix, $M$, and forcing vector, $\\bar{f}$ from $M\\dot{u} = \\bar{f}(q, \\dot{q}, u, t)$ as a NumPy function. We make use of dummy symbols to replace the time varying functions in the SymPy equations a simple dummy symbol. "
     ]
    },
    {
     "cell_type": "code",
     "collapsed": false,
     "input": [
      "dynamic = q + u                                                # Make a list of the states\n",
      "dynamic.append(f)                                              # Add the input force\n",
      "dummy_symbols = [Dummy() for i in dynamic]                     # Create a dummy symbol for each variable\n",
      "dummy_dict = dict(zip(dynamic, dummy_symbols))                 \n",
      "kindiff_dict = kane.kindiffdict()                              # Get the solved kinematical differential equations\n",
      "M = kane.mass_matrix_full.subs(kindiff_dict).subs(dummy_dict)  # Substitute into the mass matrix \n",
      "F = kane.forcing_full.subs(kindiff_dict).subs(dummy_dict)      # Substitute into the forcing vector\n",
      "M_func = lambdify(dummy_symbols + parameters, M)               # Create a callable function to evaluate the mass matrix \n",
      "F_func = lambdify(dummy_symbols + parameters, F)               # Create a callable function to evaluate the forcing vector "
     ],
     "language": "python",
     "metadata": {},
     "outputs": [],
     "prompt_number": 17
    },
    {
     "cell_type": "markdown",
     "metadata": {},
     "source": [
      "To integrate the ODE's we need to define a function that returns the derivatives of the states given the current state and time."
     ]
    },
    {
     "cell_type": "code",
     "collapsed": false,
     "input": [
      "def right_hand_side(x, t, args):\n",
      "    \"\"\"Returns the derivatives of the states.\n",
      "\n",
      "    Parameters\n",
      "    ----------\n",
      "    x : ndarray, shape(2 * (n + 1))\n",
      "        The current state vector.\n",
      "    t : float\n",
      "        The current time.\n",
      "    args : ndarray\n",
      "        The constants.\n",
      "\n",
      "    Returns\n",
      "    -------\n",
      "    dx : ndarray, shape(2 * (n + 1))\n",
      "        The derivative of the state.\n",
      "    \n",
      "    \"\"\"\n",
      "    u = 0.0                              # The input force is always zero     \n",
      "    arguments = hstack((x, u, args))     # States, input, and parameters\n",
      "    dx = array(solve(M_func(*arguments), # Solving for the derivatives\n",
      "        F_func(*arguments))).T[0]\n",
      "    \n",
      "    return dx"
     ],
     "language": "python",
     "metadata": {},
     "outputs": [],
     "prompt_number": 18
    },
    {
     "cell_type": "markdown",
     "metadata": {},
     "source": [
      "Now that we have the right hand side function, the initial conditions are set such that the pendulum is in the vertical equilibrium and a slight initial rate is set for each speed to ensure the pendulum falls. The equations can then be integrated with SciPy's `odeint` function given a time series."
     ]
    },
    {
     "cell_type": "code",
     "collapsed": false,
     "input": [
      "x0 = hstack(( 0, pi / 2 * ones(len(q) - 1), 1e-3 * ones(len(u)) )) # Initial conditions, q and u\n",
      "t = linspace(0, 10, 1000)                                          # Time vector\n",
      "y = odeint(right_hand_side, x0, t, args=(parameter_vals,))         # Actual integration"
     ],
     "language": "python",
     "metadata": {},
     "outputs": [
      {
       "ename": "NameError",
       "evalue": "name 'ones' is not defined",
       "output_type": "pyerr",
       "traceback": [
        "\u001b[1;31m---------------------------------------------------------------------------\u001b[0m\n\u001b[1;31mNameError\u001b[0m                                 Traceback (most recent call last)",
        "\u001b[1;32m<ipython-input-19-b142ae7cd6a1>\u001b[0m in \u001b[0;36m<module>\u001b[1;34m()\u001b[0m\n\u001b[1;32m----> 1\u001b[1;33m \u001b[0mx0\u001b[0m \u001b[1;33m=\u001b[0m \u001b[0mhstack\u001b[0m\u001b[1;33m(\u001b[0m\u001b[1;33m(\u001b[0m \u001b[1;36m0\u001b[0m\u001b[1;33m,\u001b[0m \u001b[0mpi\u001b[0m \u001b[1;33m/\u001b[0m \u001b[1;36m2\u001b[0m \u001b[1;33m*\u001b[0m \u001b[0mones\u001b[0m\u001b[1;33m(\u001b[0m\u001b[0mlen\u001b[0m\u001b[1;33m(\u001b[0m\u001b[0mq\u001b[0m\u001b[1;33m)\u001b[0m \u001b[1;33m-\u001b[0m \u001b[1;36m1\u001b[0m\u001b[1;33m)\u001b[0m\u001b[1;33m,\u001b[0m \u001b[1;36m1e-3\u001b[0m \u001b[1;33m*\u001b[0m \u001b[0mones\u001b[0m\u001b[1;33m(\u001b[0m\u001b[0mlen\u001b[0m\u001b[1;33m(\u001b[0m\u001b[0mu\u001b[0m\u001b[1;33m)\u001b[0m\u001b[1;33m)\u001b[0m \u001b[1;33m)\u001b[0m\u001b[1;33m)\u001b[0m \u001b[1;31m# Initial conditions, q and u\u001b[0m\u001b[1;33m\u001b[0m\u001b[0m\n\u001b[0m\u001b[0;32m      2\u001b[0m \u001b[0mt\u001b[0m \u001b[1;33m=\u001b[0m \u001b[0mlinspace\u001b[0m\u001b[1;33m(\u001b[0m\u001b[1;36m0\u001b[0m\u001b[1;33m,\u001b[0m \u001b[1;36m10\u001b[0m\u001b[1;33m,\u001b[0m \u001b[1;36m1000\u001b[0m\u001b[1;33m)\u001b[0m                                          \u001b[1;31m# Time vector\u001b[0m\u001b[1;33m\u001b[0m\u001b[0m\n\u001b[0;32m      3\u001b[0m \u001b[0my\u001b[0m \u001b[1;33m=\u001b[0m \u001b[0modeint\u001b[0m\u001b[1;33m(\u001b[0m\u001b[0mright_hand_side\u001b[0m\u001b[1;33m,\u001b[0m \u001b[0mx0\u001b[0m\u001b[1;33m,\u001b[0m \u001b[0mt\u001b[0m\u001b[1;33m,\u001b[0m \u001b[0margs\u001b[0m\u001b[1;33m=\u001b[0m\u001b[1;33m(\u001b[0m\u001b[0mparameter_vals\u001b[0m\u001b[1;33m,\u001b[0m\u001b[1;33m)\u001b[0m\u001b[1;33m)\u001b[0m         \u001b[1;31m# Actual integration\u001b[0m\u001b[1;33m\u001b[0m\u001b[0m\n",
        "\u001b[1;31mNameError\u001b[0m: name 'ones' is not defined"
       ]
      }
     ],
     "prompt_number": 19
    },
    {
     "cell_type": "markdown",
     "metadata": {},
     "source": [
      "Plotting\n",
      "========\n",
      "\n",
      "The results of the simulation can be plotted with matplotlib."
     ]
    },
    {
     "cell_type": "code",
     "collapsed": false,
     "input": [
      "lines = plot(t, y[:, :y.shape[1] / 2])\n",
      "lab = xlabel('Time [sec]')\n",
      "leg = legend(dynamic[:y.shape[1] / 2])"
     ],
     "language": "python",
     "metadata": {},
     "outputs": []
    },
    {
     "cell_type": "code",
     "collapsed": false,
     "input": [
      "lines = plot(t, y[:, y.shape[1] / 2:])\n",
      "lab = xlabel('Time [sec]')\n",
      "leg = legend(dynamic[y.shape[1] / 2:])"
     ],
     "language": "python",
     "metadata": {},
     "outputs": []
    },
    {
     "cell_type": "markdown",
     "metadata": {},
     "source": [
      "Animation\n",
      "=========\n",
      "\n",
      "matplotlib now includes very nice animation functions for animating matplotlib plots. First we import the necessary functions for creating the animation."
     ]
    },
    {
     "cell_type": "code",
     "collapsed": false,
     "input": [
      "from numpy import zeros, cos, sin, arange, around\n",
      "from matplotlib import pyplot as plt\n",
      "from matplotlib import animation\n",
      "from matplotlib.patches import Rectangle"
     ],
     "language": "python",
     "metadata": {},
     "outputs": []
    },
    {
     "cell_type": "markdown",
     "metadata": {},
     "source": [
      "The following function was modeled from Jake Vanderplas's [post on matplotlib animations](http://jakevdp.github.com/blog/2012/08/18/matplotlib-animation-tutorial/)."
     ]
    },
    {
     "cell_type": "code",
     "collapsed": false,
     "input": [
      "def animate_pendulum(t, states, length, filename=None):\n",
      "    \"\"\"Animates the n-pendulum and optionally saves it to file.\n",
      "\n",
      "    Parameters\n",
      "    ----------\n",
      "    t : ndarray, shape(m)\n",
      "        Time array.\n",
      "    states: ndarray, shape(m,p)\n",
      "        State time history.\n",
      "    length: float\n",
      "        The length of the pendulum links.\n",
      "    filename: string or None, optional\n",
      "        If true a movie file will be saved of the animation. This may take some time.\n",
      "\n",
      "    Returns\n",
      "    -------\n",
      "    fig : matplotlib.Figure\n",
      "        The figure.\n",
      "    anim : matplotlib.FuncAnimation\n",
      "        The animation.\n",
      "\n",
      "    \"\"\"\n",
      "    # the number of pendulum bobs\n",
      "    numpoints = states.shape[1] / 2\n",
      "\n",
      "    # first set up the figure, the axis, and the plot elements we want to animate\n",
      "    fig = plt.figure()\n",
      "    \n",
      "    # some dimesions\n",
      "    cart_width = 0.4\n",
      "    cart_height = 0.2\n",
      "    \n",
      "    # set the limits based on the motion\n",
      "    xmin = around(states[:, 0].min() - cart_width / 2.0, 1)\n",
      "    xmax = around(states[:, 0].max() + cart_width / 2.0, 1)\n",
      "    \n",
      "    # create the axes\n",
      "    ax = plt.axes(xlim=(xmin, xmax), ylim=(-1.1, 1.1), aspect='equal')\n",
      "    \n",
      "    # display the current time\n",
      "    time_text = ax.text(0.04, 0.9, '', transform=ax.transAxes)\n",
      "    \n",
      "    # create a rectangular cart\n",
      "    rect = Rectangle([states[0, 0] - cart_width / 2.0, -cart_height / 2],\n",
      "        cart_width, cart_height, fill=True, color='red', ec='black')\n",
      "    ax.add_patch(rect)\n",
      "    \n",
      "    # blank line for the pendulum\n",
      "    line, = ax.plot([], [], lw=2, marker='o', markersize=6)\n",
      "\n",
      "    # initialization function: plot the background of each frame\n",
      "    def init():\n",
      "        time_text.set_text('')\n",
      "        rect.set_xy((0.0, 0.0))\n",
      "        line.set_data([], [])\n",
      "        return time_text, rect, line,\n",
      "\n",
      "    # animation function: update the objects\n",
      "    def animate(i):\n",
      "        time_text.set_text('time = {:2.2f}'.format(t[i]))\n",
      "        rect.set_xy((states[i, 0] - cart_width / 2.0, -cart_height / 2))\n",
      "        x = hstack((states[i, 0], zeros((numpoints - 1))))\n",
      "        y = zeros((numpoints))\n",
      "        for j in arange(1, numpoints):\n",
      "            x[j] = x[j - 1] + length * cos(states[i, j])\n",
      "            y[j] = y[j - 1] + length * sin(states[i, j])\n",
      "        line.set_data(x, y)\n",
      "        return time_text, rect, line,\n",
      "\n",
      "    # call the animator function\n",
      "    anim = animation.FuncAnimation(fig, animate, frames=len(t), init_func=init,\n",
      "            interval=t[-1] / len(t) * 1000, blit=True, repeat=False)\n",
      "    \n",
      "    # save the animation if a filename is given\n",
      "    if filename is not None:\n",
      "        anim.save(filename, fps=30, codec='libx264')"
     ],
     "language": "python",
     "metadata": {},
     "outputs": []
    },
    {
     "cell_type": "markdown",
     "metadata": {},
     "source": [
      "Now we can create the animation of the pendulum. This animation will show the open loop dynamics."
     ]
    },
    {
     "cell_type": "code",
     "collapsed": false,
     "input": [
      "animate_pendulum(t, y, arm_length, filename=\"open-loop.ogv\")\n",
      "animate_pendulum(t, y, arm_length, filename=\"open-loop.mp4\")"
     ],
     "language": "python",
     "metadata": {},
     "outputs": []
    },
    {
     "cell_type": "code",
     "collapsed": false,
     "input": [
      "from IPython.display import HTML\n",
      "h = \\\n",
      "\"\"\"\n",
      "<video width=\"640\" height=\"480\" controls>\n",
      "  <source src=\"files/open-loop.ogv\" type=\"video/ogg\">\n",
      "  <source src=\"files/open-loop.mp4\" type=\"video/mp4\">\n",
      "Your browser does not support the video tag, check out the YouTuve version instead: http://youtu.be/Nj3_npq7MZI.\n",
      "</video>\n",
      "\"\"\"\n",
      "HTML(h)"
     ],
     "language": "python",
     "metadata": {},
     "outputs": []
    },
    {
     "cell_type": "markdown",
     "metadata": {},
     "source": [
      "Controller Design\n",
      "=================\n",
      "\n",
      "The n-link pendulum can be balanced such that all of the links are inverted above the cart by applying the correct lateral force to the cart. We can design a full state feedback controller based off of a linear model of the pendulum about its upright equilibrium point. We'll start by specifying the equilibrium point and parameters in dictionaries."
     ]
    },
    {
     "cell_type": "code",
     "collapsed": false,
     "input": [
      "equilibrium_point = hstack(( 0, pi / 2 * ones(len(q) - 1), zeros(len(u)) ))\n",
      "equilibrium_dict = dict(zip(q + u, equilibrium_point))\n",
      "parameter_dict = dict(zip(parameters, parameter_vals))"
     ],
     "language": "python",
     "metadata": {},
     "outputs": []
    },
    {
     "cell_type": "markdown",
     "metadata": {},
     "source": [
      "The `KanesMethod` class has method that linearizes the forcing vector about generic state and input perturbation vectors. The equilibrium point and numerical constants can then be substituted in to give the linear system in this form: $M\\dot{x}=F_Ax+F_Bu$. The state and input matrices, $A$ and $B$, can then be computed by left side multiplication by the inverse of the mass matrix: $A=M^{-1}F_A$ and $B=M^{-1}F_B$."
     ]
    },
    {
     "cell_type": "code",
     "collapsed": false,
     "input": [
      "# symbolically linearize about arbitrary equilibrium\n",
      "linear_state_matrix, linear_input_matrix, inputs = kane.linearize()\n",
      "# sub in the equilibrium point and the parameters\n",
      "f_A_lin = linear_state_matrix.subs(parameter_dict).subs(equilibrium_dict)\n",
      "f_B_lin = linear_input_matrix.subs(parameter_dict).subs(equilibrium_dict)\n",
      "m_mat = kane.mass_matrix_full.subs(parameter_dict).subs(equilibrium_dict)\n",
      "# compute A and B\n",
      "from numpy import matrix\n",
      "A = matrix(m_mat.inv() * f_A_lin)\n",
      "B = matrix(m_mat.inv() * f_B_lin)"
     ],
     "language": "python",
     "metadata": {},
     "outputs": []
    },
    {
     "cell_type": "markdown",
     "metadata": {},
     "source": [
      "Now that we have a linear system, the python-control package can be used to design an optimal controller for the system."
     ]
    },
    {
     "cell_type": "code",
     "collapsed": false,
     "input": [
      "import control\n",
      "from numpy import dot, rank\n",
      "from numpy.linalg import matrix_rank"
     ],
     "language": "python",
     "metadata": {},
     "outputs": []
    },
    {
     "cell_type": "markdown",
     "metadata": {},
     "source": [
      "First we can check to see if the system is, in fact, controllable."
     ]
    },
    {
     "cell_type": "code",
     "collapsed": false,
     "input": [
      "assert matrix_rank(control.ctrb(A, B)) == A.shape[0]"
     ],
     "language": "python",
     "metadata": {},
     "outputs": []
    },
    {
     "cell_type": "markdown",
     "metadata": {},
     "source": [
      "The control matrix is full rank, so now we can compute the optimal gains with a linear quadratic regulator. I chose identity matrices for the weightings for simplicity."
     ]
    },
    {
     "cell_type": "code",
     "collapsed": false,
     "input": [
      "K, X, E = control.lqr(A, B, ones(A.shape), 1);"
     ],
     "language": "python",
     "metadata": {},
     "outputs": [
      {
       "ename": "NameError",
       "evalue": "name 'control' is not defined",
       "output_type": "pyerr",
       "traceback": [
        "\u001b[1;31m---------------------------------------------------------------------------\u001b[0m\n\u001b[1;31mNameError\u001b[0m                                 Traceback (most recent call last)",
        "\u001b[1;32m<ipython-input-20-cf7090f0d8fc>\u001b[0m in \u001b[0;36m<module>\u001b[1;34m()\u001b[0m\n\u001b[1;32m----> 1\u001b[1;33m \u001b[0mK\u001b[0m\u001b[1;33m,\u001b[0m \u001b[0mX\u001b[0m\u001b[1;33m,\u001b[0m \u001b[0mE\u001b[0m \u001b[1;33m=\u001b[0m \u001b[0mcontrol\u001b[0m\u001b[1;33m.\u001b[0m\u001b[0mlqr\u001b[0m\u001b[1;33m(\u001b[0m\u001b[0mA\u001b[0m\u001b[1;33m,\u001b[0m \u001b[0mB\u001b[0m\u001b[1;33m,\u001b[0m \u001b[0mones\u001b[0m\u001b[1;33m(\u001b[0m\u001b[0mA\u001b[0m\u001b[1;33m.\u001b[0m\u001b[0mshape\u001b[0m\u001b[1;33m)\u001b[0m\u001b[1;33m,\u001b[0m \u001b[1;36m1\u001b[0m\u001b[1;33m)\u001b[0m\u001b[1;33m;\u001b[0m\u001b[1;33m\u001b[0m\u001b[0m\n\u001b[0m",
        "\u001b[1;31mNameError\u001b[0m: name 'control' is not defined"
       ]
      }
     ],
     "prompt_number": 20
    },
    {
     "cell_type": "markdown",
     "metadata": {},
     "source": [
      "The gains can now be used to define the required input during simulation to stabilize the system. The input $u$ is simply the gain vector multiplied by the error in the state vector from the equilibrium point, $u(t)=K(x_{eq} - x(t))$."
     ]
    },
    {
     "cell_type": "code",
     "collapsed": false,
     "input": [
      "def right_hand_side(x, t, args):\n",
      "    \"\"\"Returns the derivatives of the states.\n",
      "\n",
      "    Parameters\n",
      "    ----------\n",
      "    x : ndarray, shape(2 * (n + 1))\n",
      "        The current state vector.\n",
      "    t : float\n",
      "        The current time.\n",
      "    args : ndarray\n",
      "        The constants.\n",
      "\n",
      "    Returns\n",
      "    -------\n",
      "    dx : ndarray, shape(2 * (n + 1))\n",
      "        The derivative of the state.\n",
      "    \n",
      "    \"\"\"\n",
      "    u = dot(K, equilibrium_point - x)    # The controller     \n",
      "    arguments = hstack((x, u, args))     # States, input, and parameters\n",
      "    dx = array(solve(M_func(*arguments), # Solving for the derivatives\n",
      "        F_func(*arguments))).T[0]\n",
      "    \n",
      "    return dx"
     ],
     "language": "python",
     "metadata": {},
     "outputs": [],
     "prompt_number": 21
    },
    {
     "cell_type": "markdown",
     "metadata": {},
     "source": [
      "Now we can simulate and animate the system to see if the controller works."
     ]
    },
    {
     "cell_type": "code",
     "collapsed": false,
     "input": [
      "x0 = hstack(( 0, pi / 2 * ones(len(q) - 1), 1 * ones(len(u)) )) # Initial conditions, q and u\n",
      "t = linspace(0, 10, 1000)                                       # Time vector\n",
      "y = odeint(right_hand_side, x0, t, args=(parameter_vals,))      # Actual integration"
     ],
     "language": "python",
     "metadata": {},
     "outputs": [
      {
       "ename": "NameError",
       "evalue": "name 'ones' is not defined",
       "output_type": "pyerr",
       "traceback": [
        "\u001b[1;31m---------------------------------------------------------------------------\u001b[0m\n\u001b[1;31mNameError\u001b[0m                                 Traceback (most recent call last)",
        "\u001b[1;32m<ipython-input-22-38e696d4169b>\u001b[0m in \u001b[0;36m<module>\u001b[1;34m()\u001b[0m\n\u001b[1;32m----> 1\u001b[1;33m \u001b[0mx0\u001b[0m \u001b[1;33m=\u001b[0m \u001b[0mhstack\u001b[0m\u001b[1;33m(\u001b[0m\u001b[1;33m(\u001b[0m \u001b[1;36m0\u001b[0m\u001b[1;33m,\u001b[0m \u001b[0mpi\u001b[0m \u001b[1;33m/\u001b[0m \u001b[1;36m2\u001b[0m \u001b[1;33m*\u001b[0m \u001b[0mones\u001b[0m\u001b[1;33m(\u001b[0m\u001b[0mlen\u001b[0m\u001b[1;33m(\u001b[0m\u001b[0mq\u001b[0m\u001b[1;33m)\u001b[0m \u001b[1;33m-\u001b[0m \u001b[1;36m1\u001b[0m\u001b[1;33m)\u001b[0m\u001b[1;33m,\u001b[0m \u001b[1;36m1\u001b[0m \u001b[1;33m*\u001b[0m \u001b[0mones\u001b[0m\u001b[1;33m(\u001b[0m\u001b[0mlen\u001b[0m\u001b[1;33m(\u001b[0m\u001b[0mu\u001b[0m\u001b[1;33m)\u001b[0m\u001b[1;33m)\u001b[0m \u001b[1;33m)\u001b[0m\u001b[1;33m)\u001b[0m \u001b[1;31m# Initial conditions, q and u\u001b[0m\u001b[1;33m\u001b[0m\u001b[0m\n\u001b[0m\u001b[0;32m      2\u001b[0m \u001b[0mt\u001b[0m \u001b[1;33m=\u001b[0m \u001b[0mlinspace\u001b[0m\u001b[1;33m(\u001b[0m\u001b[1;36m0\u001b[0m\u001b[1;33m,\u001b[0m \u001b[1;36m10\u001b[0m\u001b[1;33m,\u001b[0m \u001b[1;36m1000\u001b[0m\u001b[1;33m)\u001b[0m                                       \u001b[1;31m# Time vector\u001b[0m\u001b[1;33m\u001b[0m\u001b[0m\n\u001b[0;32m      3\u001b[0m \u001b[0my\u001b[0m \u001b[1;33m=\u001b[0m \u001b[0modeint\u001b[0m\u001b[1;33m(\u001b[0m\u001b[0mright_hand_side\u001b[0m\u001b[1;33m,\u001b[0m \u001b[0mx0\u001b[0m\u001b[1;33m,\u001b[0m \u001b[0mt\u001b[0m\u001b[1;33m,\u001b[0m \u001b[0margs\u001b[0m\u001b[1;33m=\u001b[0m\u001b[1;33m(\u001b[0m\u001b[0mparameter_vals\u001b[0m\u001b[1;33m,\u001b[0m\u001b[1;33m)\u001b[0m\u001b[1;33m)\u001b[0m      \u001b[1;31m# Actual integration\u001b[0m\u001b[1;33m\u001b[0m\u001b[0m\n",
        "\u001b[1;31mNameError\u001b[0m: name 'ones' is not defined"
       ]
      }
     ],
     "prompt_number": 22
    },
    {
     "cell_type": "markdown",
     "metadata": {},
     "source": [
      "The plots show that we seem to have a stable system."
     ]
    },
    {
     "cell_type": "code",
     "collapsed": false,
     "input": [
      "lines = plot(t, y[:, :y.shape[1] / 2])\n",
      "lab = xlabel('Time [sec]')\n",
      "leg = legend(dynamic[:y.shape[1] / 2])"
     ],
     "language": "python",
     "metadata": {},
     "outputs": [
      {
       "ename": "NameError",
       "evalue": "name 'plot' is not defined",
       "output_type": "pyerr",
       "traceback": [
        "\u001b[1;31m---------------------------------------------------------------------------\u001b[0m\n\u001b[1;31mNameError\u001b[0m                                 Traceback (most recent call last)",
        "\u001b[1;32m<ipython-input-23-6829dedfed8c>\u001b[0m in \u001b[0;36m<module>\u001b[1;34m()\u001b[0m\n\u001b[1;32m----> 1\u001b[1;33m \u001b[0mlines\u001b[0m \u001b[1;33m=\u001b[0m \u001b[0mplot\u001b[0m\u001b[1;33m(\u001b[0m\u001b[0mt\u001b[0m\u001b[1;33m,\u001b[0m \u001b[0my\u001b[0m\u001b[1;33m[\u001b[0m\u001b[1;33m:\u001b[0m\u001b[1;33m,\u001b[0m \u001b[1;33m:\u001b[0m\u001b[0my\u001b[0m\u001b[1;33m.\u001b[0m\u001b[0mshape\u001b[0m\u001b[1;33m[\u001b[0m\u001b[1;36m1\u001b[0m\u001b[1;33m]\u001b[0m \u001b[1;33m/\u001b[0m \u001b[1;36m2\u001b[0m\u001b[1;33m]\u001b[0m\u001b[1;33m)\u001b[0m\u001b[1;33m\u001b[0m\u001b[0m\n\u001b[0m\u001b[0;32m      2\u001b[0m \u001b[0mlab\u001b[0m \u001b[1;33m=\u001b[0m \u001b[0mxlabel\u001b[0m\u001b[1;33m(\u001b[0m\u001b[1;34m'Time [sec]'\u001b[0m\u001b[1;33m)\u001b[0m\u001b[1;33m\u001b[0m\u001b[0m\n\u001b[0;32m      3\u001b[0m \u001b[0mleg\u001b[0m \u001b[1;33m=\u001b[0m \u001b[0mlegend\u001b[0m\u001b[1;33m(\u001b[0m\u001b[0mdynamic\u001b[0m\u001b[1;33m[\u001b[0m\u001b[1;33m:\u001b[0m\u001b[0my\u001b[0m\u001b[1;33m.\u001b[0m\u001b[0mshape\u001b[0m\u001b[1;33m[\u001b[0m\u001b[1;36m1\u001b[0m\u001b[1;33m]\u001b[0m \u001b[1;33m/\u001b[0m \u001b[1;36m2\u001b[0m\u001b[1;33m]\u001b[0m\u001b[1;33m)\u001b[0m\u001b[1;33m\u001b[0m\u001b[0m\n",
        "\u001b[1;31mNameError\u001b[0m: name 'plot' is not defined"
       ]
      }
     ],
     "prompt_number": 23
    },
    {
     "cell_type": "code",
     "collapsed": false,
     "input": [
      "lines = plot(t, y[:, y.shape[1] / 2:])\n",
      "lab = xlabel('Time [sec]')\n",
      "leg = legend(dynamic[y.shape[1] / 2:])"
     ],
     "language": "python",
     "metadata": {},
     "outputs": [
      {
       "ename": "NameError",
       "evalue": "name 'plot' is not defined",
       "output_type": "pyerr",
       "traceback": [
        "\u001b[1;31m---------------------------------------------------------------------------\u001b[0m\n\u001b[1;31mNameError\u001b[0m                                 Traceback (most recent call last)",
        "\u001b[1;32m<ipython-input-24-ed38aa9cb07c>\u001b[0m in \u001b[0;36m<module>\u001b[1;34m()\u001b[0m\n\u001b[1;32m----> 1\u001b[1;33m \u001b[0mlines\u001b[0m \u001b[1;33m=\u001b[0m \u001b[0mplot\u001b[0m\u001b[1;33m(\u001b[0m\u001b[0mt\u001b[0m\u001b[1;33m,\u001b[0m \u001b[0my\u001b[0m\u001b[1;33m[\u001b[0m\u001b[1;33m:\u001b[0m\u001b[1;33m,\u001b[0m \u001b[0my\u001b[0m\u001b[1;33m.\u001b[0m\u001b[0mshape\u001b[0m\u001b[1;33m[\u001b[0m\u001b[1;36m1\u001b[0m\u001b[1;33m]\u001b[0m \u001b[1;33m/\u001b[0m \u001b[1;36m2\u001b[0m\u001b[1;33m:\u001b[0m\u001b[1;33m]\u001b[0m\u001b[1;33m)\u001b[0m\u001b[1;33m\u001b[0m\u001b[0m\n\u001b[0m\u001b[0;32m      2\u001b[0m \u001b[0mlab\u001b[0m \u001b[1;33m=\u001b[0m \u001b[0mxlabel\u001b[0m\u001b[1;33m(\u001b[0m\u001b[1;34m'Time [sec]'\u001b[0m\u001b[1;33m)\u001b[0m\u001b[1;33m\u001b[0m\u001b[0m\n\u001b[0;32m      3\u001b[0m \u001b[0mleg\u001b[0m \u001b[1;33m=\u001b[0m \u001b[0mlegend\u001b[0m\u001b[1;33m(\u001b[0m\u001b[0mdynamic\u001b[0m\u001b[1;33m[\u001b[0m\u001b[0my\u001b[0m\u001b[1;33m.\u001b[0m\u001b[0mshape\u001b[0m\u001b[1;33m[\u001b[0m\u001b[1;36m1\u001b[0m\u001b[1;33m]\u001b[0m \u001b[1;33m/\u001b[0m \u001b[1;36m2\u001b[0m\u001b[1;33m:\u001b[0m\u001b[1;33m]\u001b[0m\u001b[1;33m)\u001b[0m\u001b[1;33m\u001b[0m\u001b[0m\n",
        "\u001b[1;31mNameError\u001b[0m: name 'plot' is not defined"
       ]
      }
     ],
     "prompt_number": 24
    },
    {
     "cell_type": "code",
     "collapsed": false,
     "input": [
      "animate_pendulum(t, y, arm_length, filename=\"closed-loop.ogv\")\n",
      "animate_pendulum(t, y, arm_length, filename=\"closed-loop.mp4\")"
     ],
     "language": "python",
     "metadata": {},
     "outputs": [
      {
       "ename": "NameError",
       "evalue": "name 'animate_pendulum' is not defined",
       "output_type": "pyerr",
       "traceback": [
        "\u001b[1;31m---------------------------------------------------------------------------\u001b[0m\n\u001b[1;31mNameError\u001b[0m                                 Traceback (most recent call last)",
        "\u001b[1;32m<ipython-input-25-fcde453560f5>\u001b[0m in \u001b[0;36m<module>\u001b[1;34m()\u001b[0m\n\u001b[1;32m----> 1\u001b[1;33m \u001b[0manimate_pendulum\u001b[0m\u001b[1;33m(\u001b[0m\u001b[0mt\u001b[0m\u001b[1;33m,\u001b[0m \u001b[0my\u001b[0m\u001b[1;33m,\u001b[0m \u001b[0marm_length\u001b[0m\u001b[1;33m,\u001b[0m \u001b[0mfilename\u001b[0m\u001b[1;33m=\u001b[0m\u001b[1;34m\"closed-loop.ogv\"\u001b[0m\u001b[1;33m)\u001b[0m\u001b[1;33m\u001b[0m\u001b[0m\n\u001b[0m\u001b[0;32m      2\u001b[0m \u001b[0manimate_pendulum\u001b[0m\u001b[1;33m(\u001b[0m\u001b[0mt\u001b[0m\u001b[1;33m,\u001b[0m \u001b[0my\u001b[0m\u001b[1;33m,\u001b[0m \u001b[0marm_length\u001b[0m\u001b[1;33m,\u001b[0m \u001b[0mfilename\u001b[0m\u001b[1;33m=\u001b[0m\u001b[1;34m\"closed-loop.mp4\"\u001b[0m\u001b[1;33m)\u001b[0m\u001b[1;33m\u001b[0m\u001b[0m\n",
        "\u001b[1;31mNameError\u001b[0m: name 'animate_pendulum' is not defined"
       ]
      }
     ],
     "prompt_number": 25
    },
    {
     "cell_type": "code",
     "collapsed": false,
     "input": [
      "from IPython.display import HTML\n",
      "h = \\\n",
      "\"\"\"\n",
      "<video width=\"640\" height=\"480\" controls>\n",
      "  <source src=\"files/closed-loop.ogv\" type=\"video/ogg\">\n",
      "  <source src=\"files/closed-loop.mp4\" type=\"video/mp4\">\n",
      "Your browser does not support the video tag, check out the YouTube version instead: http://youtu.be/SpgBHqW9om0\n",
      "</video>\n",
      "\"\"\"\n",
      "HTML(h)"
     ],
     "language": "python",
     "metadata": {},
     "outputs": [
      {
       "html": [
        "\n",
        "<video width=\"640\" height=\"480\" controls>\n",
        "  <source src=\"files/closed-loop.ogv\" type=\"video/ogg\">\n",
        "  <source src=\"files/closed-loop.mp4\" type=\"video/mp4\">\n",
        "Your browser does not support the video tag, check out the YouTube version instead: http://youtu.be/SpgBHqW9om0\n",
        "</video>\n"
       ],
       "metadata": {},
       "output_type": "pyout",
       "prompt_number": 26,
       "text": [
        "<IPython.core.display.HTML at 0x4f1abd0>"
       ]
      }
     ],
     "prompt_number": 26
    },
    {
     "cell_type": "markdown",
     "metadata": {},
     "source": [
      "The video clearly shows that our controller can balance all $n$ of the pendulum links. The weightings in the lqr design can be tweaked to give different performance if needed.\n",
      "\n",
      "This example shows that the free and open source scientific Python tools for dynamics are easily comparable in ability and quality a commercial package such as Mathematica. Besides the current installation hurdles for Python, I'd like to claim that it may better than commercial packages, due to our much more robust SymPy **mechanics** package and the fact that all of the code is liberally licensed for reuse and hacking.\n",
      "\n",
      "The IPython notebook for this example can be downloaded from https://github.com/gilbertgede/idetc-2013-paper/blob/master/n-pendulum-control.ipynb. Yo ucan try out different $n$ values. I've gotten the equations of motion to compute and an open loop simulation of 10 links. My computer ran out of memory when I tried to compute for $n=50$. The controller weightings and initial conditions will probably have to be adjusted for better performance for $n>5$, but it should work. Let me know the resuls if you play with it."
     ]
    }
   ],
   "metadata": {}
  }
 ]
}